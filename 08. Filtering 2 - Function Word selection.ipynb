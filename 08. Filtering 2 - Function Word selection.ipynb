{
 "cells": [
  {
   "cell_type": "markdown",
   "metadata": {},
   "source": [
    "# 8. Filtering 2 - Function Word selection"
   ]
  },
  {
   "cell_type": "markdown",
   "metadata": {},
   "source": [
    "#### This script loads the Function Words dataset and selects the most relevant ones, so as to not have too many sprseness in the data"
   ]
  },
  {
   "cell_type": "markdown",
   "metadata": {},
   "source": [
    "### Imports"
   ]
  },
  {
   "cell_type": "code",
   "execution_count": 1,
   "metadata": {},
   "outputs": [],
   "source": [
    "import pandas as pd\n",
    "import numpy as np"
   ]
  },
  {
   "cell_type": "markdown",
   "metadata": {},
   "source": [
    "### Definitions"
   ]
  },
  {
   "cell_type": "code",
   "execution_count": 2,
   "metadata": {},
   "outputs": [],
   "source": [
    "all_fw_filename = 'data/FunctionWords-extracted.csv'\n",
    "\n",
    "selected_fw_filename = 'data/Bleached-ngram-selected.txt'"
   ]
  },
  {
   "cell_type": "markdown",
   "metadata": {},
   "source": [
    "### Load Bleached bigrams"
   ]
  },
  {
   "cell_type": "code",
   "execution_count": 3,
   "metadata": {},
   "outputs": [
    {
     "data": {
      "text/html": [
       "<div>\n",
       "<style scoped>\n",
       "    .dataframe tbody tr th:only-of-type {\n",
       "        vertical-align: middle;\n",
       "    }\n",
       "\n",
       "    .dataframe tbody tr th {\n",
       "        vertical-align: top;\n",
       "    }\n",
       "\n",
       "    .dataframe thead th {\n",
       "        text-align: right;\n",
       "    }\n",
       "</style>\n",
       "<table border=\"1\" class=\"dataframe\">\n",
       "  <thead>\n",
       "    <tr style=\"text-align: right;\">\n",
       "      <th></th>\n",
       "      <th>Word1</th>\n",
       "      <th>Word2</th>\n",
       "      <th>FrequencyMale</th>\n",
       "      <th>FrequencyFemale</th>\n",
       "    </tr>\n",
       "  </thead>\n",
       "  <tbody>\n",
       "    <tr>\n",
       "      <td>0</td>\n",
       "      <td>CVCC</td>\n",
       "      <td>,</td>\n",
       "      <td>699.771789</td>\n",
       "      <td>673.078455</td>\n",
       "    </tr>\n",
       "    <tr>\n",
       "      <td>1</td>\n",
       "      <td>,</td>\n",
       "      <td>VCVCCVCV</td>\n",
       "      <td>6.806572</td>\n",
       "      <td>8.150372</td>\n",
       "    </tr>\n",
       "    <tr>\n",
       "      <td>2</td>\n",
       "      <td>VCVCCVCV</td>\n",
       "      <td>CVC</td>\n",
       "      <td>14.710548</td>\n",
       "      <td>18.759674</td>\n",
       "    </tr>\n",
       "    <tr>\n",
       "      <td>3</td>\n",
       "      <td>CVC</td>\n",
       "      <td>VC</td>\n",
       "      <td>1381.987574</td>\n",
       "      <td>1386.200353</td>\n",
       "    </tr>\n",
       "    <tr>\n",
       "      <td>4</td>\n",
       "      <td>VC</td>\n",
       "      <td>VCC</td>\n",
       "      <td>459.352684</td>\n",
       "      <td>448.490169</td>\n",
       "    </tr>\n",
       "  </tbody>\n",
       "</table>\n",
       "</div>"
      ],
      "text/plain": [
       "      Word1     Word2  FrequencyMale  FrequencyFemale\n",
       "0      CVCC         ,     699.771789       673.078455\n",
       "1         ,  VCVCCVCV       6.806572         8.150372\n",
       "2  VCVCCVCV       CVC      14.710548        18.759674\n",
       "3       CVC        VC    1381.987574      1386.200353\n",
       "4        VC       VCC     459.352684       448.490169"
      ]
     },
     "execution_count": 3,
     "metadata": {},
     "output_type": "execute_result"
    }
   ],
   "source": [
    "df = pd.read_csv(all_fw_filename)\n",
    "\n",
    "df.head()"
   ]
  },
  {
   "cell_type": "markdown",
   "metadata": {},
   "source": [
    "### Get information on what is considered as 'low frequency'"
   ]
  },
  {
   "cell_type": "code",
   "execution_count": 4,
   "metadata": {},
   "outputs": [
    {
     "name": "stdout",
     "output_type": "stream",
     "text": [
      "Counts more than 1: 22238\n",
      "Counts more than 10: 4643\n",
      "Counts more than 20: 2808\n",
      "Counts more than 50: 1414\n",
      "Counts more than 100: 776\n",
      "Counts more than 1000: 74\n"
     ]
    }
   ],
   "source": [
    "total_count = np.asarray(df['FrequencyMale'] + df['FrequencyFemale'])\n",
    "\n",
    "for i in [1, 10, 20, 50, 100, 1000, 10000]:\n",
    "    print('Counts more than {0}: {1}'.format(i, np.sum(total_count > i)))"
   ]
  },
  {
   "cell_type": "markdown",
   "metadata": {},
   "source": [
    "We will consider only those more than 100"
   ]
  },
  {
   "cell_type": "markdown",
   "metadata": {},
   "source": [
    "### Remove columns with low frequency"
   ]
  },
  {
   "cell_type": "code",
   "execution_count": 5,
   "metadata": {},
   "outputs": [],
   "source": [
    "df = df[total_count > 100]\n",
    "\n",
    "total_count = total_count[total_count > 100]"
   ]
  },
  {
   "cell_type": "markdown",
   "metadata": {},
   "source": [
    "### Calculate the entropy column"
   ]
  },
  {
   "cell_type": "code",
   "execution_count": 6,
   "metadata": {},
   "outputs": [
    {
     "data": {
      "text/html": [
       "<div>\n",
       "<style scoped>\n",
       "    .dataframe tbody tr th:only-of-type {\n",
       "        vertical-align: middle;\n",
       "    }\n",
       "\n",
       "    .dataframe tbody tr th {\n",
       "        vertical-align: top;\n",
       "    }\n",
       "\n",
       "    .dataframe thead th {\n",
       "        text-align: right;\n",
       "    }\n",
       "</style>\n",
       "<table border=\"1\" class=\"dataframe\">\n",
       "  <thead>\n",
       "    <tr style=\"text-align: right;\">\n",
       "      <th></th>\n",
       "      <th>Word1</th>\n",
       "      <th>Word2</th>\n",
       "      <th>FrequencyMale</th>\n",
       "      <th>FrequencyFemale</th>\n",
       "      <th>Entropy</th>\n",
       "    </tr>\n",
       "  </thead>\n",
       "  <tbody>\n",
       "    <tr>\n",
       "      <td>0</td>\n",
       "      <td>CVCC</td>\n",
       "      <td>,</td>\n",
       "      <td>699.771789</td>\n",
       "      <td>673.078455</td>\n",
       "      <td>0.999727</td>\n",
       "    </tr>\n",
       "    <tr>\n",
       "      <td>3</td>\n",
       "      <td>CVC</td>\n",
       "      <td>VC</td>\n",
       "      <td>1381.987574</td>\n",
       "      <td>1386.200353</td>\n",
       "      <td>0.999998</td>\n",
       "    </tr>\n",
       "    <tr>\n",
       "      <td>4</td>\n",
       "      <td>VC</td>\n",
       "      <td>VCC</td>\n",
       "      <td>459.352684</td>\n",
       "      <td>448.490169</td>\n",
       "      <td>0.999897</td>\n",
       "    </tr>\n",
       "    <tr>\n",
       "      <td>5</td>\n",
       "      <td>VCC</td>\n",
       "      <td>CVVCC</td>\n",
       "      <td>89.299599</td>\n",
       "      <td>93.043350</td>\n",
       "      <td>0.999696</td>\n",
       "    </tr>\n",
       "    <tr>\n",
       "      <td>6</td>\n",
       "      <td>CVVCC</td>\n",
       "      <td>CCVC</td>\n",
       "      <td>162.613082</td>\n",
       "      <td>160.766179</td>\n",
       "      <td>0.999976</td>\n",
       "    </tr>\n",
       "  </tbody>\n",
       "</table>\n",
       "</div>"
      ],
      "text/plain": [
       "   Word1  Word2  FrequencyMale  FrequencyFemale   Entropy\n",
       "0   CVCC      ,     699.771789       673.078455  0.999727\n",
       "3    CVC     VC    1381.987574      1386.200353  0.999998\n",
       "4     VC    VCC     459.352684       448.490169  0.999897\n",
       "5    VCC  CVVCC      89.299599        93.043350  0.999696\n",
       "6  CVVCC   CCVC     162.613082       160.766179  0.999976"
      ]
     },
     "execution_count": 6,
     "metadata": {},
     "output_type": "execute_result"
    }
   ],
   "source": [
    "male_prob, female_prob = df['FrequencyMale']/total_count, df['FrequencyFemale']/total_count\n",
    "\n",
    "male_prob.shape\n",
    "df['Entropy'] = - ( male_prob * np.log2(male_prob) + female_prob * np.log2(female_prob) )\n",
    "\n",
    "df.head()"
   ]
  },
  {
   "cell_type": "markdown",
   "metadata": {},
   "source": [
    "### Take top 100 with least entropy (ie which discriminate the most)"
   ]
  },
  {
   "cell_type": "code",
   "execution_count": 7,
   "metadata": {},
   "outputs": [
    {
     "data": {
      "text/html": [
       "<div>\n",
       "<style scoped>\n",
       "    .dataframe tbody tr th:only-of-type {\n",
       "        vertical-align: middle;\n",
       "    }\n",
       "\n",
       "    .dataframe tbody tr th {\n",
       "        vertical-align: top;\n",
       "    }\n",
       "\n",
       "    .dataframe thead th {\n",
       "        text-align: right;\n",
       "    }\n",
       "</style>\n",
       "<table border=\"1\" class=\"dataframe\">\n",
       "  <thead>\n",
       "    <tr style=\"text-align: right;\">\n",
       "      <th></th>\n",
       "      <th>Word1</th>\n",
       "      <th>Word2</th>\n",
       "      <th>FrequencyMale</th>\n",
       "      <th>FrequencyFemale</th>\n",
       "      <th>Entropy</th>\n",
       "    </tr>\n",
       "  </thead>\n",
       "  <tbody>\n",
       "    <tr>\n",
       "      <td>0</td>\n",
       "      <td>CVV</td>\n",
       "      <td>?</td>\n",
       "      <td>56.567883</td>\n",
       "      <td>111.408437</td>\n",
       "      <td>0.921685</td>\n",
       "    </tr>\n",
       "    <tr>\n",
       "      <td>1</td>\n",
       "      <td>VCCCVCC</td>\n",
       "      <td>CVCCVC</td>\n",
       "      <td>139.235562</td>\n",
       "      <td>71.851794</td>\n",
       "      <td>0.925190</td>\n",
       "    </tr>\n",
       "    <tr>\n",
       "      <td>2</td>\n",
       "      <td>--</td>\n",
       "      <td>--</td>\n",
       "      <td>213.582195</td>\n",
       "      <td>110.926343</td>\n",
       "      <td>0.926558</td>\n",
       "    </tr>\n",
       "    <tr>\n",
       "      <td>3</td>\n",
       "      <td>VCCCVCC</td>\n",
       "      <td>CVCCVCC</td>\n",
       "      <td>83.445923</td>\n",
       "      <td>43.544732</td>\n",
       "      <td>0.927564</td>\n",
       "    </tr>\n",
       "    <tr>\n",
       "      <td>4</td>\n",
       "      <td>!</td>\n",
       "      <td>V</td>\n",
       "      <td>155.411963</td>\n",
       "      <td>294.238010</td>\n",
       "      <td>0.930103</td>\n",
       "    </tr>\n",
       "  </tbody>\n",
       "</table>\n",
       "</div>"
      ],
      "text/plain": [
       "     Word1    Word2  FrequencyMale  FrequencyFemale   Entropy\n",
       "0      CVV        ?      56.567883       111.408437  0.921685\n",
       "1  VCCCVCC   CVCCVC     139.235562        71.851794  0.925190\n",
       "2       --       --     213.582195       110.926343  0.926558\n",
       "3  VCCCVCC  CVCCVCC      83.445923        43.544732  0.927564\n",
       "4        !        V     155.411963       294.238010  0.930103"
      ]
     },
     "execution_count": 7,
     "metadata": {},
     "output_type": "execute_result"
    }
   ],
   "source": [
    "df = df.sort_values('Entropy').reset_index(drop = True)\n",
    "\n",
    "df = df.iloc[:100]\n",
    "\n",
    "df.head()"
   ]
  },
  {
   "cell_type": "markdown",
   "metadata": {},
   "source": [
    "### Save to new text file"
   ]
  },
  {
   "cell_type": "code",
   "execution_count": 8,
   "metadata": {},
   "outputs": [],
   "source": [
    "df[['Word']].to_csv(selected_fw_filename, header=False, index=False)"
   ]
  }
 ],
 "metadata": {
  "kernelspec": {
   "display_name": "Python 3",
   "language": "python",
   "name": "python3"
  },
  "language_info": {
   "codemirror_mode": {
    "name": "ipython",
    "version": 3
   },
   "file_extension": ".py",
   "mimetype": "text/x-python",
   "name": "python",
   "nbconvert_exporter": "python",
   "pygments_lexer": "ipython3",
   "version": "3.7.3"
  }
 },
 "nbformat": 4,
 "nbformat_minor": 2
}
