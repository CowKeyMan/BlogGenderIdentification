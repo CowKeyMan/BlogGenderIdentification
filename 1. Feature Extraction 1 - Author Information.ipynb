{
 "cells": [
  {
   "cell_type": "markdown",
   "metadata": {},
   "source": [
    "# 2. Data Exploration - Test and Train"
   ]
  },
  {
   "cell_type": "markdown",
   "metadata": {},
   "source": [
    "### Imports"
   ]
  },
  {
   "cell_type": "code",
   "execution_count": 6,
   "metadata": {},
   "outputs": [],
   "source": [
    "from bs4 import BeautifulSoup\n",
    "import pandas as pd\n",
    "import os\n",
    "from IPython.display import clear_output"
   ]
  },
  {
   "cell_type": "markdown",
   "metadata": {},
   "source": [
    "### Definitions"
   ]
  },
  {
   "cell_type": "code",
   "execution_count": 2,
   "metadata": {},
   "outputs": [],
   "source": [
    "data_path = 'data/blogs/'\n",
    "\n",
    "dataframe_columns = ['UserID', 'Gender', 'NoOfPosts']\n",
    "\n",
    "csv_filename = 'data/AuthorInformation.csv'"
   ]
  },
  {
   "cell_type": "markdown",
   "metadata": {},
   "source": [
    "### Initialise csv file"
   ]
  },
  {
   "cell_type": "code",
   "execution_count": 3,
   "metadata": {},
   "outputs": [],
   "source": [
    "df = pd.DataFrame(columns=dataframe_columns)\n",
    "df.to_csv(csv_filename, index=False)"
   ]
  },
  {
   "cell_type": "markdown",
   "metadata": {},
   "source": [
    "### Extracting the necessary data"
   ]
  },
  {
   "cell_type": "code",
   "execution_count": 4,
   "metadata": {},
   "outputs": [],
   "source": [
    "def extract_posts(filename):\n",
    "    with open(data_path + filename, \"rb\", encoding=None) as f:\n",
    "        contents = f.read().decode('utf8', 'ignore')\n",
    "        \n",
    "    soup = BeautifulSoup(contents, 'html')\n",
    "    \n",
    "    meta = filename.split('.')\n",
    "    UserID = meta[0]\n",
    "    Gender = meta[1]\n",
    "    \n",
    "    number_of_posts = 0\n",
    "    for post in soup.findAll('post'):\n",
    "        number_of_posts += 1\n",
    "    \n",
    "    entry = {\n",
    "        'UserID': UserID,\n",
    "        'Gender': Gender,\n",
    "        'NoOfPosts': number_of_posts\n",
    "    }\n",
    "    \n",
    "    return entry"
   ]
  },
  {
   "cell_type": "code",
   "execution_count": 5,
   "metadata": {},
   "outputs": [
    {
     "name": "stdout",
     "output_type": "stream",
     "text": [
      "DONE - 19320 files\n"
     ]
    }
   ],
   "source": [
    "# Iterate over all the xml files and get number of files (to see how much is left)\n",
    "number_of_files = len(os.listdir(data_path))\n",
    "    \n",
    "PostID = 0\n",
    "# open CSV file in append mode\n",
    "with open(csv_filename, 'a') as f:\n",
    "    # Use sorted for platform independence\n",
    "    for i, filename in enumerate( sorted(os.listdir(data_path) )) :\n",
    "        if i % 100 == 0:\n",
    "            clear_output()\n",
    "            print('{0}/{1}'.format((i+1), number_of_files), end = '', flush=True)\n",
    "        \n",
    "        # Extract data from each file\n",
    "        df = df.append(extract_posts(filename), ignore_index=True)\n",
    "        if df.shape[0] > 100:\n",
    "            df.to_csv(f, header=False, index=False)\n",
    "            df = df.iloc[0:0]\n",
    "    df.to_csv(f, header=False, index=False)\n",
    "\n",
    "\n",
    "clear_output()\n",
    "print('DONE - {0} files'.format(number_of_files))"
   ]
  }
 ],
 "metadata": {
  "kernelspec": {
   "display_name": "Python 3",
   "language": "python",
   "name": "python3"
  },
  "language_info": {
   "codemirror_mode": {
    "name": "ipython",
    "version": 3
   },
   "file_extension": ".py",
   "mimetype": "text/x-python",
   "name": "python",
   "nbconvert_exporter": "python",
   "pygments_lexer": "ipython3",
   "version": "3.7.3"
  }
 },
 "nbformat": 4,
 "nbformat_minor": 2
}
