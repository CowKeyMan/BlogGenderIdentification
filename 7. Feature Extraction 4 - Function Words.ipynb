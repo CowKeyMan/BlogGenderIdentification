{
 "cells": [
  {
   "cell_type": "markdown",
   "metadata": {},
   "source": [
    "# 7. Feature Extraction 4 - Function Words"
   ]
  },
  {
   "cell_type": "markdown",
   "metadata": {},
   "source": [
    "#### Extracting function words from the train set and storing the frequencies in a CSV file to later select the most suitable ones"
   ]
  },
  {
   "cell_type": "markdown",
   "metadata": {},
   "source": [
    "### Imports"
   ]
  },
  {
   "cell_type": "code",
   "execution_count": null,
   "metadata": {},
   "outputs": [],
   "source": [
    "import nltk\n",
    "import pandas as pd"
   ]
  },
  {
   "cell_type": "markdown",
   "metadata": {},
   "source": [
    "### Definitions"
   ]
  },
  {
   "cell_type": "code",
   "execution_count": null,
   "metadata": {},
   "outputs": [],
   "source": [
    "post_list_dictionary = 'PostsList.csv'\n",
    "\n",
    "function_word_list_filename = 'FunctionWords-all.txt'\n",
    "\n",
    "function_word_extracted = 'FunctionWords-extracted.csv'"
   ]
  },
  {
   "cell_type": "markdown",
   "metadata": {},
   "source": [
    "### Read the function word list into a dictionary"
   ]
  },
  {
   "cell_type": "code",
   "execution_count": null,
   "metadata": {},
   "outputs": [],
   "source": [
    "word_dict = {}\n",
    "\n",
    "with open(function_word_list_filename, 'r') as f:\n",
    "    words = f.readlines()"
   ]
  },
  {
   "cell_type": "markdown",
   "metadata": {},
   "source": [
    "### Open the CSV file, go trought the training data and put the frequencies into the dictionary"
   ]
  },
  {
   "cell_type": "code",
   "execution_count": null,
   "metadata": {},
   "outputs": [],
   "source": [
    "number_of_posts=0\n",
    "chunksize=10\n",
    "for chunk in pd.read_csv(pos_filename, usecols=['PostID'], chunksize=chunksize):\n",
    "    number_of_posts = np.max(chunk.PostID)\n",
    "\n",
    "number_of_chunks = math.ceil(number_of_posts / chunksize)"
   ]
  },
  {
   "cell_type": "code",
   "execution_count": null,
   "metadata": {},
   "outputs": [],
   "source": [
    "for word in lines:\n",
    "    word_dict[word] = (0, 0) # (Male Frequency, Female Frequency)\n",
    "    \n",
    "# open CSV file in append mode\n",
    "with open(pos_ngram_filename, 'a') as f:\n",
    "    for i,chunk in enumerate(pd.read_csv(bleached_filename, chunksize=chunksize)):\n",
    "        chunk = chunk.dropna()\n",
    "        \n",
    "        if i%30 == 0:\n",
    "            clear_output()\n",
    "            print('{0}/{1}'.format(i+1, number_of_chunks), end = '', flush=True)\n",
    "        \n",
    "        for row in chunk.iterrows():\n",
    "            if row[1][4] == 'train':\n",
    "                post = row[1][3]\n",
    "                words = nltk.word_tokenize(post)\n",
    "                if len(words) > 0:\n",
    "                    inverse_number_of_words = 1/len(words)\n",
    "                    if row[1][2] == 'male':\n",
    "                        for word in words:\n",
    "                            if word in word_dict:\n",
    "                                word_dict[word] = (\n",
    "                                    word_dict[word][0] + inverse_number_of_words,\n",
    "                                    word_dict[word][1]\n",
    "                                )\n",
    "                    else:\n",
    "                        for word in words:\n",
    "                            if word in word_dict:\n",
    "                                word_dict[word] = (\n",
    "                                    word_dict[word][0],\n",
    "                                    word_dict[word][1] + inverse_number_of_words\n",
    "                                )\n",
    "clear_output()\n",
    "print('DONE - {0} files'.format(number_of_posts))"
   ]
  },
  {
   "cell_type": "code",
   "execution_count": null,
   "metadata": {},
   "outputs": [],
   "source": [
    "df = pd.DataFrame(columns=['Word', 'FrequencyMale', 'FrequencyFemale'])\n",
    "\n",
    "for Word1, (FrequencyMale, FrequencyFemale) in ngrams_dict.items():\n",
    "    df = df.append({\n",
    "        'Word': Word,\n",
    "        'FrequencyMale': FrequencyMale,\n",
    "        'FrequencyFemale': FrequencyFemale\n",
    "    }, ignore_index = True)\n",
    "\n",
    "df.to_csv(function_word_extracted, index=False)"
   ]
  }
 ],
 "metadata": {
  "kernelspec": {
   "display_name": "Python 3",
   "language": "python",
   "name": "python3"
  },
  "language_info": {
   "codemirror_mode": {
    "name": "ipython",
    "version": 3
   },
   "file_extension": ".py",
   "mimetype": "text/x-python",
   "name": "python",
   "nbconvert_exporter": "python",
   "pygments_lexer": "ipython3",
   "version": "3.7.3"
  }
 },
 "nbformat": 4,
 "nbformat_minor": 2
}
