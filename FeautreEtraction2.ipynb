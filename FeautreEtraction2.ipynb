{
 "cells": [
  {
   "cell_type": "markdown",
   "metadata": {},
   "source": [
    "# Extracting the features from blog files"
   ]
  },
  {
   "cell_type": "markdown",
   "metadata": {},
   "source": [
    "#### This script takes each blog file and creates a CSV with the 'normal' features and a JSON with the list of features to be handled by the RNN part only"
   ]
  },
  {
   "cell_type": "markdown",
   "metadata": {},
   "source": [
    "### Imports"
   ]
  },
  {
   "cell_type": "code",
   "execution_count": 147,
   "metadata": {},
   "outputs": [],
   "source": [
    "import nltk\n",
    "from bs4 import BeautifulSoup\n",
    "import pandas as pd\n",
    "import json\n",
    "import os\n",
    "from IPython.display import clear_output\n",
    "import numpy as np\n",
    "import string"
   ]
  },
  {
   "cell_type": "markdown",
   "metadata": {},
   "source": [
    "### Definitions"
   ]
  },
  {
   "cell_type": "code",
   "execution_count": 163,
   "metadata": {},
   "outputs": [],
   "source": [
    "data_path = 'data/blogs/'\n",
    "\n",
    "punctuation = string.punctuation + ' '\n",
    "\n",
    "PostID = 0 # A global parameter to give unique IDs to posts"
   ]
  },
  {
   "cell_type": "markdown",
   "metadata": {},
   "source": [
    "### Define helper functions"
   ]
  },
  {
   "cell_type": "code",
   "execution_count": 164,
   "metadata": {},
   "outputs": [],
   "source": [
    "def split(string, delimeter_string):\n",
    "    first_delim = delimeter_string[0]\n",
    "    for current_delim in delimeter_string[1:]:\n",
    "        string = string.replace(current_delim, first_delim)\n",
    "    splits = string.split(first_delim)\n",
    "    \n",
    "    ret_splits = []\n",
    "    for string in splits:\n",
    "        if len(string) > 0:\n",
    "            ret_splits.append(string)\n",
    "    \n",
    "    return ret_splits\n",
    "\n",
    "def get_no_of_words_ending_with(suffix, words):\n",
    "    count = 0\n",
    "    for word in words:\n",
    "        if word.endswith(suffix):\n",
    "            count += 1\n",
    "    return count"
   ]
  },
  {
   "cell_type": "markdown",
   "metadata": {},
   "source": [
    "### Initialise CSV file with some basic columns"
   ]
  },
  {
   "cell_type": "code",
   "execution_count": 165,
   "metadata": {},
   "outputs": [],
   "source": [
    "csv_filename = 'data/ExtractedData.csv'\n",
    "\n",
    "dataframe_columns = [\n",
    "    #ID to identify the post\n",
    "    'PostID',\n",
    "    \n",
    "    # Basic Features\n",
    "    'WordCount',\n",
    "    'SentenceCount',\n",
    "    'AvgWordLength',\n",
    "    'AvgSentenceLength',\n",
    "    'UniqueWordsPercentage',\n",
    "    'URLCount',\n",
    "    \n",
    "    # Words ending with some suffix\n",
    "    'ableWords',\n",
    "    'alWords',\n",
    "    'fulWords',\n",
    "    'ibleWords',\n",
    "    'icWords',\n",
    "    'iveWords',\n",
    "    'lessWords',\n",
    "    'lyWords',\n",
    "    'ousWords',\n",
    "    \n",
    "    # Target value\n",
    "    'Gender' \n",
    "]\n",
    "\n",
    "df = pd.DataFrame(columns=dataframe_columns)\n",
    "df.to_csv(csv_filename, index=False)"
   ]
  },
  {
   "cell_type": "markdown",
   "metadata": {},
   "source": [
    "### Define main functions to parse a blog file and return a new full dataframe"
   ]
  },
  {
   "cell_type": "code",
   "execution_count": 167,
   "metadata": {},
   "outputs": [],
   "source": [
    "def extract_data(filename):\n",
    "    global PostID\n",
    "    \n",
    "    with open(data_path + filename, \"rb\", encoding=None) as f:\n",
    "        contents = f.read().decode('utf8', 'ignore')\n",
    "        \n",
    "    soup = BeautifulSoup(contents, 'html')\n",
    "    \n",
    "    meta = filename.split('.')\n",
    "    gender = meta[1]\n",
    "    \n",
    "    df = pd.DataFrame(columns=dataframe_columns)\n",
    "    \n",
    "    for post in soup.findAll('post'):\n",
    "        post = post.text.strip()\n",
    "        words = split(post, punctuation)\n",
    "        sentences = post.split('.')\n",
    "        \n",
    "        entry = {\n",
    "            'PostID': PostID,\n",
    "            \n",
    "            'WordCount': getWordCount(words),\n",
    "            'SentenceCount': getSentenceCount(sentences),\n",
    "            'AvgWordLength': getAvgWordLength(words),\n",
    "            'AvgSentenceLength': getAvgSentenceLength(sentences),\n",
    "            'UniqueWordsPercentage': UniqueWordsPercentage(words),\n",
    "            'URLCount': getURLCount(words),\n",
    "\n",
    "            'Gender': gender\n",
    "        }\n",
    "        \n",
    "        entry.update( getWordsEndingDict(words) )\n",
    "        df = df.append(entry, ignore_index=True)\n",
    "        \n",
    "        PostID +=1\n",
    "        \n",
    "    return df"
   ]
  },
  {
   "cell_type": "markdown",
   "metadata": {},
   "source": [
    "### Define functions to parse blog posts individually"
   ]
  },
  {
   "cell_type": "code",
   "execution_count": 168,
   "metadata": {},
   "outputs": [],
   "source": [
    "def getWordCount(words):\n",
    "    return len(words)\n",
    "\n",
    "def getSentenceCount(sentences):\n",
    "    return len(sentences)\n",
    "\n",
    "def getAvgWordLength(words):\n",
    "    return np.mean( np.asarray(list( map(len, words) )) )\n",
    "\n",
    "def getAvgSentenceLength(sentences):\n",
    "    sentences = [split(s,punctuation) for s in sentences]\n",
    "    return np.mean( np.asarray(list( map(len, sentences) )) )\n",
    "\n",
    "def UniqueWordsPercentage(words):\n",
    "    if len(words) == 0: return 0\n",
    "    return len( np.unique(words) ) / len(words)\n",
    "\n",
    "def getURLCount(words):\n",
    "    return words.count('urlLink')\n",
    "\n",
    "def getWordsEndingDict(words):\n",
    "    return {\n",
    "        'ableWords': get_no_of_words_ending_with('able', words),\n",
    "        'alWords': get_no_of_words_ending_with('al', words),\n",
    "        'fulWords': get_no_of_words_ending_with('ful', words),\n",
    "        'ibleWords': get_no_of_words_ending_with('ible', words),\n",
    "        'icWords': get_no_of_words_ending_with('ic', words),\n",
    "        'iveWords': get_no_of_words_ending_with('ive', words),\n",
    "        'lessWords': get_no_of_words_ending_with('less', words),\n",
    "        'lyWords': get_no_of_words_ending_with('ly', words),\n",
    "        'ousWords': get_no_of_words_ending_with('ous', words)\n",
    "    }"
   ]
  },
  {
   "cell_type": "markdown",
   "metadata": {},
   "source": [
    "### Extract the features"
   ]
  },
  {
   "cell_type": "code",
   "execution_count": 169,
   "metadata": {},
   "outputs": [
    {
     "name": "stdout",
     "output_type": "stream",
     "text": [
      "35/19320['There', 'is', 'a', 'fake', 'commercial', 'on', 'Nickelodeon', 'about', 'Scream', 'in', 'a', 'Box', 'as', 'a', 'device', 'to', 'keep', 'you', 'awake', 'and', 'give', 'you', 'more', 'time', 'to', 'do', 'things', 'Maybe', 'I', 'need', 'that', 'I', 'waste', 'too', 'much', 'time', 'on', 'stuff', 'like', 'Neopets', 'brutal', 'honesty', 'here', 'I', 'm', 'behind', 'transcribing', 'my', 'notes', 'from', 'my', 'Exploring', 'the', 'Visual', 'Arts', 'class', 'I', 've', 'been', 'putting', 'them', 'online', 'so', 'I', 'can', 'include', 'links', 'that', 'I', 've', 'looked', 'up', 'I', 'don', 't', 'know', 'if', 'this', 'is', 'all', 'a', 'waste', 'of', 'time', 'or', 'what', 'Anyway', 'I', 'was', 'up', 'til', 'about', '2', '30', 'this', 'morning', 'and', 'didn', 't', 'finish', 'Monday', 's', 'notes', 'When', 'I', 'came', 'home', 'from', 'picking', 'the', 'girls', 'up', 'from', 'school', 'I', 'was', 'hoping', 'to', 'do', 'today', 's', 'notes', 'Well', 'I', 'don', 't', 'have', 'time', 'I', 'll', 'have', 'to', 'do', 'them', 'tonight', 'when', 'I', 'get', 'off', 'work', 'Great', 'Sleep', 'what', 's', 'that', 'I', 'want', 'to', 'change', 'the', 'template', 'of', 'this', 'blog', 'but', 'again', 'no', 'time', 'Later', 'later', 'later']\n",
      "['This', 'is', 'my', 'first', 'published', 'post', 'on', 'Blogspot', 'I', 'tried', 'multiple', 'times', 'to', 'use', 'Blogger', 'to', 'ftp', 'to', 'my', 'website', 'but', 'it', 'just', 'wouldn', 't', 'work', 'I', 'give', 'up', 'I', 'll', 'adjust', 'Now', 'I', 'll', 'be', 'able', 'to', 'have', 'archives', 'and', 'not', 'have', 'to', 'change', 'each', 'week', 'I', 'started', 'blogging', 'when', 'my', 'site', 'was', 'on', 'Geocities', 'Each', 'week', 'I', 'would', 'rename', 'the', 'week', 's', 'blog', 'to', 'indicate', 'the', 'date', 'add', 'a', 'link', 'to', 'the', 'archive', 'page', 'and', 'start', 'a', 'new', 'blog', 'page', 'with', 'a', 'new', 'graphic', 'scheme', 'That', 'part', 'was', 'kind', 'of', 'cool', 'choosing', 'a', 'theme', 'for', 'the', 'week', 'But', 'the', 'whole', 'thing', 'is', 'becoming', 'unwieldy', 'and', 'could', 'be', 'a', 'nightmare', 'if', 'allowed', 'to', 'continue', 'So', 'I', 'started', 'looking', 'at', 'blogging', 'website', 'services', 'Geocities', 'doesn', 't', 'allow', 'you', 'to', 'ftp', 'unless', 'you', 'are', 'paying', 'for', 'their', 'service', 'So', 'I', 'moved', 'my', 'site', 'to', 'my', 'isp', 'I', 'm', 'paying', 'for', 'their', 'service', 'already', 'so', 'why', 'not', 'I', 've', 'found', 'it', 's', 'easier', 'to', 'update', 'now', 'and', 'ftp', 'is', 'a', 'breeze', 'However', 'the', 'blogging', 'services', 'I', 've', 'looked', 'at', 'mostly', 'require', 'you', 'to', 'use', 'cgi', 'or', 'perl', 'or', 'of', 'course', 'ftp', 'and', 'I', 'don', 't', 'know', 'what', 'permissions', 'I', 'have', 'and', 'right', 'now', 'I', 'm', 'not', 'interested', 'in', 'finding', 'out', 'Change', 'of', 'subject', 'we', 've', 'had', 'freezing', 'rain', 'in', 'our', 'area', 'north', 'central', 'Iowa', 'Schools', 'have', 'closed', 'or', 'are', 'dismissing', 'early', 'I', 'm', 'driving', 'back', 'to', 'town', 'now', 'to', 'pick', 'my', 'kids', 'up', 'before', 'it', 'gets', 'worse', 'Fun']\n",
      "['Letter', 'to', 'the', 'Editor', 'or', 'something', 'To', 'the', 'Editor', 'Some', 'people', 'spend', 'a', 'few', 'minutes', 'in', 'the', 'morning', 'clearing', 'the', 'frost', 'or', 'ice', 'off', 'their', 'car', 'windows', 'Other', 'people', 'clear', 'a', 'tiny', 'space', 'and', 'hope', 'the', 'people', 'who', 'are', 'more', 'careful', 'will', 'see', 'them', 'first', 'I', 'spent', 'the', 'time', 'this', 'morning', 'to', 'clear', 'my', 'car', 'windows', 'so', 'I', 'could', 'drive', 'safely', 'and', 'not', 'be', 'a', 'hazard', 'to', 'others', 'I', 'was', 'nearly', 'in', 'an', 'accident', 'however', 'when', 'someone', 'who', 'clearly', 'could', 'not', 'spend', 'the', 'time', 'to', 'clear', 'their', 'windows', 'pulled', 'out', 'on', 'the', 'street', 'in', 'front', 'of', 'me', 'I', 'slammed', 'on', 'my', 'brakes', 'and', 'honked', 'so', 'lady', 'yes', 'I', 'm', 'talking', 'to', 'you', 'I', 'could', 'see', 'through', 'your', 'back', 'window', 'that', 'you', 'were', 'crouching', 'down', 'peering', 'through', 'a', 'space', 'at', 'the', 'bottom', 'of', 'your', 'windshield', 'that', 'was', 'maybe', 'six', 'inches', 'high', 'and', 'about', 'half', 'of', 'the', 'width', 'of', 'your', 'windshield', 'You', 'pulled', 'out', 'in', 'front', 'of', 'me', 'because', 'you', 'apparently', 'didn', 't', 'think', 'you', 'needed', 'to', 'clear', 'your', 'side', 'windows', 'After', 'all', 'even', 'though', 'you', 'didn', 't', 'take', 'the', 'time', 'to', 'clear', 'your', 'windows', 'other', 'people', 'must', 'therefore', 'you', 'don', 't', 'need', 'to', 'worry', 'Every', 'driver', 'out', 'there', 'is', 'looking', 'out', 'for', 'you', 'We', 'are', 'making', 'sure', 'we', 'take', 'the', 'time', 'to', 'have', 'a', 'clear', 'field', 'of', 'vision', 'so', 'we', 'won', 't', 'run', 'into', 'you', 'If', 'you', 'got', 'a', 'ticket', 'this', 'morning', 'you', 'can', 'blame', 'me', 'I', 'called', 'the', 'cops', 'on', 'you', 'and', 'gave', 'them', 'your', 'license', 'plate', 'number', 'and', 'description', 'of', 'your', 'car', 'I', 'told', 'them', 'which', 'way', 'you', 'were', 'headed', 'Yeah', 'that', 's', 'right', 'I', 'm', 'an', 'interfering', 'person', 'who', 'thinks', 'that', 'other', 'people', 'should', 'be', 'able', 'to', 'see', 'where', 'they', 'are', 'driving', 'and', 'obey', 'the', 'laws', 'in', 'this', 'town', 'driving', 'with', 'an', 'obstructed', 'view', 'warrants', 'a', 'ticket', 'Too', 'bad', 'Next', 'time', 'maybe', 'you', 'will', 'take', 'a', 'couple', 'of', 'minutes', 'to', 'clear', 'those', 'windows', 'before', 'you', 'drive', 'off', 'I', 'don', 't', 'care', 'if', 'you', 'were', 'late', 'to', 'work', 'Getting', 'into', 'an', 'accident', 'makes', 'you', 'late', 'for', 'work', 'or', 'worse', 'And', 'I', 'saw', 'you', 'had', 'a', 'child', 'in', 'your', 'car', 'in', 'the', 'front', 'seat', 'It', 'didn', 't', 'look', 'like', 'your', 'child', 'was', 'wearing', 'a', 'seat', 'belt', 'but', 'I', 'couldn', 't', 'be', 'sure', 'In', 'this', 'state', 'it', 's', 'illegal', 'to', 'have', 'a', 'child', 'under', 'the', 'age', 'of', '12', 'ride', 'in', 'the', 'front', 'seat', 'and', 'seat', 'belts', 'are', 'required', 'for', 'front', 'seat', 'passengers', 'I', 'believe', 'they', 'are', 'required', 'for', 'children', 'of', 'that', 'age', 'and', 'under', 'as', 'well', 'Based', 'on', 'the', 'school', 'where', 'you', 'dropped', 'your', 'kid', 'off', 'I', 'd', 'say', 'the', 'chances', 'are', 'pretty', 'good', 'that', 'your', 'child', 'is', '12', 'or', 'under', 'Lady', 'is', 'it', 'worth', 'it', 'Done', 'ranting', 'for', 'now']\n",
      "['When', 'I', 'finished', 'that', 'last', 'entry', 'and', 'tried', 'to', 'publish', 'it', 'I', 'got', 'an', 'error', 'message', 'It', 'was', 'weird', 'like', 'the', 'computer', 'problems', 'followed', 'me', 'home', 'Just', 'what', 'I', 'need']\n",
      "['I', 'meant', 'to', 'go', 'to', 'bed', 'half', 'an', 'hour', 'ago', 'but', 'thought', 'I', 'might', 'as', 'well', 'get', 'this', 'down', 'before', 'I', 'forget', 'all', 'the', 'exciting', 'details', 'We', 'had', 'so', 'many', 'computer', 'problems', 'at', 'work', 'tonight', 'yes', 'it', 's', 'really', 'Wednesday', 'morning', 'but', 'I', 'm', 'still', 'up', 'so', 'to', 'me', 'it', 's', 'still', 'Tuesday', 'night', 'Dave', 'finally', 'restarted', 'the', 'pagination', 'server', 'and', 'things', 'worked', 'a', 'little', 'better', 'after', 'that', 'but', 'the', 'computers', 'were', 'still', 'sluggish', 'I', 'had', 'a', 'problem', 'which', 'started', 'when', 'I', 'tried', 'to', 'move', 'a', 'file', 'and', 'it', 'didn', 't', 'quite', 'work', 'then', 'I', 'had', 'to', 'close', 'the', 'program', 'and', 'I', 'couldn', 't', 'log', 'back', 'in', 'At', 'this', 'same', 'time', 'I', 'was', 'trying', 'to', 'PDF', 'a', 'page', 'that', 'hadn', 't', 'gone', 'right', 'when', 'I', 'did', 'it', 'before', 'My', 'Mac', 'froze', 'and', 'I', 'had', 'to', 'restart', 'There', 'was', 'about', '20', 'minutes', 'where', 'I', 'couldn', 't', 'work', 'on', 'my', 'pages', 'at', 'all', 'and', 'I', 'finished', 'about', '10', 'minutes', 'after', 'deadline', 'After', 'deadline', 'had', 'passed', 'and', 'I', 'finished', 'the', 'last', 'page', 'the', 'computer', 'started', 'working', 'a', 'little', 'better', 'I', 'did', 'a', 'couple', 'of', 'comics', 'pages', 'for', 'later', 'this', 'week', 'then', 'started', 'a', 'Sunday', 'Lifestyle', 'page', 'I', 'couldn', 't', 'believe', 'I', 'have', 'everything', 'for', 'that', 'page', 'except', 'from', 'one', 'source', 'That', 'page', '2E', 'for', 'Sunday', 'where', 'I', 'put', 'the', 'crossword', 'Annie', 's', 'Mailbox', 'and', 'information', 'from', 'service', 'organizations', 'I', 'decided', 'not', 'to', 'do', 'everything', 'tonight', 'but', 'left', 'at', 'midnight', 'came', 'home', 'and', 'played', 'on', 'the', 'computer', 'too', 'long', 'again', 'So', 'good', 'night']\n",
      "['Long', 'boring', 'ranting', 'blogging', 'babbling', 'stream', 'of', 'consciousness', 'did', 'I', 'mention', 'babbling', 'Since', 'it', 'is', 'after', '2', 'a', 'm', 'Saturday', 'morning', 'I', 'will', 'just', 'refer', 'to', 'Friday', 'as', 'yesterday', 'even', 'though', 'I', 'm', 'still', 'up', 'and', 'it', 'seems', 'like', 'the', 'same', 'day', 'I', 'skipped', 'my', 'Exploring', 'the', 'Visual', 'Arts', 'class', 'yesterday', 'but', 'made', 'it', 'to', 'my', 'Photoshop', 'class', 'I', 'had', 'to', 'go', 'to', 'work', 'right', 'after', 'class', 'because', 'I', 'had', 'put', 'my', 'timesheet', 'in', 'my', 'bag', 'and', 'took', 'it', 'home', 'Thursday', 'night', 'instead', 'of', 'turning', 'it', 'in', 'Brilliant', 'Some', 'background', 'information', 'On', 'January', '22', '2003', 'I', 'was', 'driving', 'Kent', 's', 'car', 'the', 'Escort', 'through', 'the', 'parking', 'lot', 'of', 'Citizens', 'Community', 'Credit', 'Union', 'in', 'Fort', 'Dodge', 'when', 'a', 'young', 'woman', 'Haley', 'backed', 'out', 'of', 'a', 'parking', 'space', 'and', 'ran', 'into', 'the', 'car', 'I', 'called', 'the', 'police', 'took', 'the', 'report', 'to', 'my', 'insurance', 'company', 'got', 'two', 'estimates', 'and', 'turned', 'them', 'in', 'to', 'the', 'insurance', 'company', 'that', 'same', 'day', 'The', 'following', 'week', 'I', 'got', 'a', 'letter', 'from', 'the', 'young', 'woman', 's', 'insurance', 'company', 'which', 'I', 'will', 'name', 'later', 'if', 'things', 'continue', 'in', 'this', 'manner', 'claims', 'adjuster', 'Brad', 'B', 'saying', 'that', 'he', 'was', 'unable', 'to', 'contact', 'me', 'and', 'I', 'should', 'call', 'him', 'We', 'have', 'a', 'post', 'office', 'box', 'in', 'Otho', 'where', 'we', 'live', 'When', 'I', 'got', 'the', 'mail', 'that', 'day', 'I', 'sat', 'in', 'my', 'car', 'and', 'called', 'him', 'right', 'away', 'didn', 't', 'even', 'drive', 'home', 'I', 'gave', 'him', 'my', 'side', 'of', 'the', 'incident', 'and', 'he', 'said', 'he', 'would', 'keep', 'trying', 'to', 'get', 'in', 'touch', 'with', 'the', 'girl', 'He', 'mentioned', 'she', 'is', '18', 'years', 'old', 'He', 'claimed', 'that', 'he', 'was', 'missing', 'some', 'information', 'damage', 'estimate', 'so', 'I', 'got', 'his', 'fax', 'number', 'and', 'had', 'my', 'insurance', 'company', 'fax', 'the', 'estimates', 'to', 'him', 'Time', 'passed', 'Around', 'Feb', '5', 'my', 'insurance', 'company', 'called', 'to', 'see', 'what', 'was', 'going', 'on', 'I', 'called', 'Brad', 'B', 'and', 'he', 'said', 'that', 'Haley', 'hadn', 't', 'contacted', 'him', 'big', 'surprise', 'and', 'he', 'had', 'to', 'give', 'her', '15', 'days', 'to', 'get', 'in', 'touch', 'He', 'said', 'he', 'would', 'send', 'a', 'letter', 'to', 'her', 'and', 'if', 'she', 'didn', 't', 'respond', 'in', '15', 'days', 'he', 'would', 'make', 'a', 'decision', 'I', 'called', 'this', 'week', 'on', 'Tuesday', 'or', 'Wednesday', 'He', 'said', 'he', 'had', 'to', 'give', 'Haley', 'until', 'Friday', 'then', 'he', 'would', 'make', 'a', 'determination', 'based', 'on', 'what', 'he', 'had', 'if', 'she', 'didn', 't', 'contact', 'him', 'He', 'did', 'not', 'say', 'he', 'had', 'not', 'sent', 'her', 'a', 'letter', 'He', 'said', 'he', 'would', 'call', 'me', 'Okay', 'When', 'he', 'didn', 't', 'call', 'and', 'I', 'had', 'to', 'go', 'to', 'class', 'I', 'called', 'and', 'left', 'a', 'message', 'on', 'his', 'voicemail', 'saying', 'he', 'could', 'call', 'Kent', 'and', 'tell', 'him', 'what', 'was', 'going', 'on', 'When', 'I', 'left', 'class', 'there', 'was', 'a', 'message', 'on', 'the', 'cell', 'phone', 'from', 'Kent', 'and', 'he', 'called', 'while', 'I', 'was', 'retrieving', 'it', 'Apparently', 'Brad', 'called', 'Kent', 'and', 'told', 'him', 'that', 'he', 'had', 'not', 'sent', 'the', 'letter', 'yet', 'he', 'was', 'going', 'to', 'send', 'it', 'and', 'had', 'to', 'give', 'Haley', '15', 'days', 'This', 'is', 'another', '15', 'days', 'in', 'addition', 'to', 'the', 'first', '15', 'days', 'we', 'just', 'went', 'through', 'I', 'called', 'my', 'insurance', 'company', 'and', 'they', 'are', 'trying', 'to', 'contact', 'Brad', 'Brad', 'did', 'not', 'return', 'their', 'call', 'before', 'he', 'left', 'work', 'Friday', 'afternoon', 'Apparently', 'our', 'next', 'step', 'is', 'to', 'contact', 'his', 'supervisor', 'then', 'maybe', 'file', 'in', 'small', 'claims', 'court', 'This', 'all', 'makes', 'me', 'angry', 'which', 'is', 'why', 'I', 'm', 'posting', 'this', 'here', 'I', 'won', 't', 'give', 'you', 'the', 'name', 'of', 'the', 'insurance', 'company', 'which', 'is', 'avoiding', 'paying', 'a', 'legitimate', 'claim', 'unless', 'I', 'feel', 'I', 'have', 'no', 'choice', 'Is', 'this', 'any', 'way', 'to', 'do', 'business', 'She', 'backed', 'into', 'me', 'It', 'was', 'clearly', 'her', 'fault', 'The', 'damage', 'is', 'to', 'the', 'passenger', 'door', 'rear', 'panel', 'and', 'bumper', 'on', 'the', 'driver', 's', 'side', 'Unless', 'my', 'car', 'suddenly', 'developed', 'the', 'ability', 'to', 'drive', 'sideways', 'I', 'could', 'not', 'have', 'hit', 'her', 'This', 'girl', 'refuses', 'to', 'contact', 'her', 'claims', 'agent', 'and', 'he', 'refuses', 'to', 'pay', 'the', 'claim', 'Would', 'you', 'really', 'want', 'to', 'do', 'business', 'with', 'a', 'company', 'that', 'won', 't', 'fulfill', 'its', 'contractual', 'obligations', 'What', 'if', 'you', 'had', 'a', 'claim', 'your', 'insurance', 'should', 'pay', 'such', 'as', 'a', 'fire', 'in', 'your', 'home', 'would', 'you', 'trust', 'a', 'company', 'that', 'won', 't', 'pay', 'out', 'on', 'claims', 'You', 'may', 'say', 'that', 'the', 'company', 'has', 'the', 'right', 'to', 'make', 'sure', 'about', 'the', 'facts', 'That', 's', 'true', 'But', 'I', 'think', 'the', 'fact', 'that', 'this', 'girl', 'refuses', 'to', 'return', 'his', 'calls', 'speaks', 'volumes', 'She', 'must', 'know', 'this', 'was', 'her', 'fault', 'Not', 'getting', 'in', 'touch', 'with', 'the', 'claims', 'agent', 'won', 't', 'make', 'this', 'go', 'away', 'Trust', 'me', 'I', 'm', 'not', 'giving', 'up', 'on', 'this', 'one', 'If', 'they', 'think', 'we', 'will', 'just', 'say', 'oh', 'this', 'is', 'too', 'much', 'trouble', 'I', 'll', 'let', 'it', 'pass', 'they', 'are', 'sadly', 'mistaken', 'And', 'actually', 'Kent', 'tells', 'me', 'that', 'Brad', 'told', 'him', 'that', 'we', 'should', 'have', 'our', 'insurance', 'pay', 'the', 'claim', 'and', 'then', 'our', 'insurance', 'company', 'can', 'try', 'to', 'get', 'the', 'money', 'from', 'them', 'Yeah', 'right', 'Wrong', 'Now', 'for', 'legal', 'purposes', 'meaning', 'I', 'don', 't', 'want', 'to', 'get', 'sued', 'I', 'am', 'not', 'giving', 'out', 'last', 'names', 'location', 'of', 'insurance', 'companies', 'or', 'the', 'names', 'of', 'the', 'companies', 'involved', 'However', 'I', 'may', 'reconsider', 'if', 'this', 'isn', 't', 'resolved', 'soon', 'Okay', 'that', 'takes', 'me', 'up', 'to', '3', 'p', 'm', 'Friday', 'and', 'there', 's', 'a', 'whole', 'lot', 'more', 'Kent', 'left', 'work', 'early', 'and', 'met', 'me', 'at', 'the', 'parking', 'lot', 'at', 'my', 'work', 'He', 'took', 'the', 'cell', 'phone', 'and', 'went', 'to', 'pick', 'up', 'the', 'girls', 'from', 'school', 'I', 'went', 'to', 'work', 'I', 'had', 'to', 'get', 'as', 'much', 'done', 'as', 'possible', 'because', 'I', 'needed', 'to', 'leave', 'for', 'awhile', 'to', 'go', 'to', 'a', 'film', 'showing', 'at', 'The', 'Blanden', 'The', 'film', 'was', 'Basquiat', 'about', 'the', 'life', 'and', 'art', 'of', 'Jean', 'Michel', 'Basquiat', 'I', 'will', 'write', 'my', 'review', 'of', 'it', 'later', 'although', 'I', 'have', 'a', 'small', 'start', 'already', 'I', 'think', 'I', 'can', 'sum', 'it', 'up', 'briefly', 'by', 'saying', 'that', 'like', 'drugs', 'Basquiat', 'is', 'a', 'mood', 'altering', 'experience', 'Why', 'drugs', 'Because', 'that', 'was', 'a', 'huge', 'part', 'of', 'his', 'life', 'and', 'ultimately', 'the', 'end', 'of', 'it', 'When', 'the', 'film', 'ended', 'I', 'had', 'to', 'leave', 'quickly', 'get', 'something', 'to', 'eat', 'and', 'rush', 'back', 'to', 'work', 'I', 'had', 'no', 'transition', 'from', 'one', 'thing', 'to', 'the', 'other', 'and', 'it', 'was', 'a', 'shock', 'Now', 'I', 'm', 'exhausted', 'sitting', 'here', 'at', 'the', 'computer', 'at', 'nearly', '3', 'a', 'm', 'My', 'head', 'is', 'floating', 'and', 'feels', 'too', 'big', 'for', 'my', 'neck', 'My', 'mind', 'was', 'restless', 'but', 'is', 'growing', 'numb', 'I', 'would', 'like', 'to', 'go', 'to', 'bed', 'and', 'watch', 'tv', 'flipping', 'through', 'the', 'channels', 'until', 'I', 'fall', 'asleep', 'but', 'I', 'can', 't', 'The', 'tv', 'in', 'the', 'bedroom', 'is', 'small', 'and', 'we', 'lost', 'the', 'remote', 'when', 'we', 'moved', 'I', 'can', 'never', 'get', 'the', 'volume', 'right', 'it', 's', 'either', 'too', 'loud', 'or', 'too', 'soft', 'Since', 'I', 'have', 'to', 'get', 'up', 'to', 'change', 'it', 'I', 'usually', 'don', 't', 'My', 'to', 'do', 'list', 'for', 'today', 'work', 'on', 'project', 'for', 'Photoshop', 'class', 'try', 'to', 'help', 'Donna', 'network', 'her', 'two', 'computers', 'go', 'to', 'work', 'I', 'll', 'be', 'up', 'too', 'late', 'at', 'night', 'again', 'and', 'probably', 'be', 'too', 'tired', 'for', 'church', 'on', 'Sunday', 'I', 'm', 'going', 'to', 'bed', 'now']\n"
     ]
    },
    {
     "name": "stdout",
     "output_type": "stream",
     "text": [
      "['Warning', 'long', 'rant', 'ahead', 'I', 'thought', 'I', 'was', 'going', 'to', 'have', 'a', 'stoke', 'today', 'I', 'was', 'up', 'too', 'late', 'again', 'last', 'night', 'as', 'usual', 'so', 'after', 'taking', 'the', 'girls', 'to', 'school', 'I', 'went', 'home', 'and', 'took', 'a', 'nap', 'When', 'I', 'got', 'up', 'I', 'had', 'time', 'to', 'eat', 'take', 'a', 'shower', 'and', 'get', 'dressed', 'for', 'work', 'go', 'to', 'the', 'pawn', 'shop', 'to', 'pay', 'interest', 'and', 'get', 'Kent', 'lunch', 'Then', 'I', 'went', 'to', 'work', 'I', 'got', 'there', 'about', '12', '30', 'which', 'is', 'normally', 'plenty', 'of', 'time', 'to', 'do', 'the', 'two', 'pages', 'I', 'do', 'for', 'the', 'Sunday', 'Lifestyle', 'section', 'I', 'do', 'one', 'page', 'with', 'highlights', 'from', 'various', 'organizations', 'a', 'couple', 'of', 'puzzles', 'and', 'Annie', 's', 'Mailbox', 'The', 'other', 'page', 'is', 'the', 'Announcements', 'Anniversary', 'Birthday', 'Engagement', 'Wedding', 'Normally', 'Bill', 'K', 'scans', 'the', 'photos', 'for', 'these', 'They', 'are', 'supposed', 'to', 'be', 'done', 'by', 'Tuesday', 'night', 'but', 'he', 'usually', 'does', 'them', 'Wednesday', 'night', 'I', 'didn', 't', 'work', 'Tuesday', 'and', 'Wednesday', 'I', 'just', 'didn', 't', 'notice', 'that', 'he', 'wasn', 't', 'there', 'I', 'was', 'pretty', 'busy', 'Wednesday', 'night', 'with', 'five', 'pages', 'So', 'if', 'I', 'had', 'known', 'that', 'Bill', 'K', 'was', 'ill', 'I', 'could', 'have', 'and', 'would', 'have', 'scanned', 'those', 'photos', 'Wednesday', 'night', 'after', 'the', 'paper', 'was', 'put', 'to', 'bed', 'and', 'I', 'was', 'waiting', 'to', 'hear', 'that', 'all', 'the', 'pages', 'were', 'okay', 'Unfortunately', 'I', 'missed', 'out', 'on', 'that', 'announcement', 'and', 'although', 'someone', 'in', 'the', 'newsroom', 'told', 'a', 'certain', 'person', 'that', 'it', 'needs', 'to', 'be', 'done', 'that', 'certain', 'person', 'didn', 't', 'realize', 'the', 'exact', 'deadline', 'so', 'they', 'didn', 't', 'get', 'done', 'I', 'realized', 'this', 'about', '1', 'or', '1', '30', 'in', 'the', 'afternoon', 'on', 'Thursday', 'the', 'day', 'that', 'I', 'do', 'the', 'pages', 'and', 'they', 'go', 'to', 'press', 'So', 'that', 'left', 'me', 'with', '15', 'photos', 'to', 'scan', 'which', 'was', 'totally', 'unexpected', 'I', 'was', 'nearly', 'having', 'a', 'panic', 'attack', 'I', 'have', 'to', 'leave', 'work', 'at', '3', 'p', 'm', 'to', 'pick', 'my', 'kids', 'up', 'and', 'can', 't', 'be', 'back', 'before', '4', 'I', 'was', 'really', 'freaking', 'out', 'thinking', 'about', 'all', 'the', 'stress', 'I', 'was', 'having', 'because', 'apparently', 'this', 'other', 'person', 'doesn', 't', 'realize', 'that', 'if', 'you', 'don', 't', 'get', 'something', 'done', 'it', 'affects', 'other', 'people', 'I', 'got', 'back', 'to', 'work', 'at', '4', 'and', 'got', 'the', 'photos', 'scanned', 'then', 'started', 'on', 'Friday', 's', 'paper', 'Finally', 'I', 'could', 'calm', 'down', 'Part', 'of', 'the', 'stress', 'came', 'from', 'the', 'fact', 'that', 'I', 'missed', 'a', 'personal', 'deadline', 'of', 'turning', 'my', 'timesheet', 'in', 'to', 'the', 'Student', 'Success', 'Center', 'I', 'get', 'paid', 'to', 'take', 'notes', 'and', 'transcribe', 'them', 'for', 'a', 'student', 'in', 'my', 'class', 'The', 'deadline', 'to', 'turn', 'timesheets', 'in', 'is', 'the', '20th', 'of', 'each', 'month', 'and', 'the', 'check', 'is', 'sent', 'on', 'the', '15th', 'of', 'the', 'following', 'month', 'So', 'now', 'I', 'won', 't', 'get', 'paid', 'for', 'my', 'February', 'hours', 'until', 'April', 'I', 'had', 'planned', 'to', 'turn', 'my', 'timesheet', 'in', 'after', 'dropping', 'the', 'girls', 'off', 'and', 'before', 'heading', 'back', 'to', 'work', 'but', 'that', 'plan', 'died', 'when', 'I', 'had', 'to', 'go', 'back', 'and', 'scan', 'the', 'photos', 'Part', 'of', 'my', 'stress', 'also', 'stems', 'from', 'the', 'fact', 'that', 'I', 'think', 'some', 'things', 'at', 'work', 'just', 'plan', 'don', 't', 'work', 'There', 'are', 'three', 'computers', 'in', 'the', 'newsroom', 'with', 'Photoshop', 'on', 'them', 'Two', 'are', 'next', 'to', 'each', 'other', 'one', 'is', 'at', 'the', 'desk', 'next', 'to', 'mine', 'The', 'person', 'who', 'was', 'there', 'quit', 'and', 'I', 'asked', 'if', 'that', 'copy', 'of', 'Photoshop', 'could', 'be', 'put', 'on', 'my', 'computer', 'instead', 'No', 'go', 'I', 'asked', 'if', 'a', 'scanner', 'could', 'be', 'put', 'there', 'Also', 'no', 'go', 'Picture', 'this', 'there', 'are', 'two', 'computers', 'in', 'the', 'old', 'Pagination', 'area', 'that', 'both', 'have', 'Photoshop', 'Another', 'department', 'got', 'a', 'new', 'scanner', 'so', 'their', 'old', 'one', 'was', 'put', 'on', 'the', 'computer', 'on', 'the', 'left', 'where', 'there', 'was', 'already', 'a', 'scanner', 'The', 'semi', 'new', 'scanner', 'is', 'under', 'the', 'older', 'scanner', 'You', 'can', 't', 'use', 'two', 'scanners', 'at', 'once', 'and', 'if', 'someone', 'is', 'on', 'that', 'computer', 'you', 'can', 't', 'scan', 'at', 'all', 'It', 'doesn', 't', 'make', 'sense', 'to', 'me', 'to', 'see', 'two', 'scanners', 'hooked', 'up', 'to', 'one', 'computer', 'and', 'someone', 's', 'using', 'it', 'when', 'I', 'm', 'frantically', 'going', 'around', 'trying', 'to', 'find', 'a', 'place', 'to', 'scan', 'the', 'darn', 'photos', 'It', 's', 'unreal', 'It', 'didn', 't', 'help', 'that', 'the', 'person', 'on', 'that', 'computer', 'refused', 'to', 'move', 'Although', 'I', 'got', 'back', 'around', '4', 'it', 'was', 'about', 'half', 'an', 'hour', 'before', 'I', 'could', 'start', 'doing', 'the', 'scans', 'The', 'rest', 'of', 'the', 'evening', 'seemed', 'to', 'go', 'okay', 'except', 'when', 'I', 'took', 'my', 'supper', 'break', 'I', 'wasn', 't', 'watching', 'where', 'I', 'was', 'going', 'and', 'my', 'left', 'arm', 'was', 'swinging', 'a', 'little', 'and', 'hit', 'something', 'hard', 'It', 'hurts', 'a', 'little', 'mobility', 'is', 'slightly', 'impaired', 'by', 'pain', 'and', 'there', 's', 'a', 'definite', 'bump', 'I', 'm', 'going', 'to', 'see', 'how', 'it', 'looks', 'in', 'the', 'morning', 'Wait', 'it', 'is', 'morning', 'well', 'when', 'I', 'wake', 'up', 'then', 'And', 'I', 'should', 'do', 'laundry', 'but', 'I', 'think', 'I', 'can', 'find', 'something', 'to', 'wear', 'I', 'hope', 'and', 'the', 'girls', 'will', 'just', 'have', 'to', 'find', 'some', 'not', 'too', 'dirty', 'socks', 'Good', 'night']\n",
      "['It', 's', 'nearly', '2', 'a', 'm', 'I', 'haven', 't', 'started', 'on', 'my', 'project', 'for', 'my', 'Advanced', 'Photoshop', 'class', 'because', 'apparently', 'I', 'didn', 't', 'really', 'upload', 'it', 'to', 'my', 'Yahoo', 'briefcase', 'like', 'I', 'thought', 'and', 'I', 'm', 'watching', 'House', 'Hunters', 'on', 'urlLink', 'HGTV', 'This', 'is', 'a', 'semi', 'interesting', 'show', 'you', 'get', 'to', 'see', 'other', 'people', 'look', 'at', 'homes', 'to', 'buy', 'The', 'couple', 'in', 'this', 'episode', 'Alicia', 'and', 'Gentry', 'Patrick', 'have', 'my', 'vote', 'for', 'most', 'overuse', 'of', 'the', 'word', 'nice', 'It', 's', 'starting', 'to', 'get', 'annoying', 'Tomorrow', 'actually', 'later', 'today', 'I', 'have', 'to', 'turn', 'in', 'my', 'days', 'off', 'request', 'for', 'March', 'my', 'timesheet', 'to', 'the', 'college', 'for', 'note', 'taking', 'and', 'my', 'timesheet', 'at', 'work', 'It', 's', 'that', 'time', 'already', 'I', 'was', 'playing', 'on', 'urlLink', 'Neopets', 'but', 'their', 'server', 'is', 'down', 'for', 'maintenance', 'according', 'to', 'them', 'so', 'I', 'gave', 'that', 'up', 'for', 'now', 'Oh', 'well', 'maybe', 'I', 'can', 'get', 'acquainted', 'with', 'sleep', 'That', 's', 'always', 'a', 'good', 'idea', 'When', 'I', 'was', 'still', 'at', 'work', 'I', 'had', 'rebooted', 'and', 'took', 'a', 'bathroom', 'break', 'While', 'I', 'was', 'busy', 'my', 'Mac', 'came', 'back', 'on', 'but', 'most', 'of', 'the', 'desktop', 'icons', 'didn', 't', 'appear', 'I', 'rebooted', 'again', 'and', 'turned', 'it', 'off', 'for', 'awhile', 'David', 'our', 'IT', 'guy', 'had', 'left', 'while', 'my', 'Mac', 'was', 'rebooting', 'the', 'first', 'time', 'I', 'didn', 't', 'feel', 'there', 'was', 'any', 'point', 'in', 'calling', 'him', 'in', 'since', 'he', 's', 'scheduled', 'to', 'come', 'back', 'in', 'at', '8', 'a', 'm', 'So', 'I', 'didn', 't', 'get', 'some', 'things', 'done', 'that', 'I', 'usually', 'get', 'started', 'on', 'Wednesday', 'night', 'after', 'the', 'paper', 'is', 'put', 'to', 'bed']\n"
     ]
    },
    {
     "name": "stdout",
     "output_type": "stream",
     "text": [
      "['I', 'added', 'a', 'cast', 'of', 'characters', 'to', 'my', 'blog', 'so', 'people', 'can', 'figure', 'out', 'who', 'the', 'heck', 'I', 'm', 'talking', 'about', 'that', 'is', 'if', 'anyone', 'is', 'reading', 'this', 'besides', 'me', 'I', 'went', 'to', 'Relief', 'Society', 'tonight', 'Jessica', 'volunteered', 'to', 'help', 'with', 'the', 'nursery', 'again', 'I', 'feel', 'guilty', 'about', 'relying', 'on', 'her', 'all', 'the', 'time', 'but', 'it', 'does', 'get', 'her', 'out', 'of', 'the', 'house', 'I', 'gave', 'her', 'a', 'scrapbooking', 'book', 'and', 'templates', 'that', 'I', 'had', 'It', 's', 'nearly', 'new', 'and', 'the', 'templates', 'were', 'only', 'used', 'once', 'when', 'Jessica', 'was', 'here', 'watching', 'the', 'girls', 'Anyway', 'I', 'think', 'she', 'likes', 'it', 'And', 'I', 'do', 'appreciate', 'all', 'the', 'help', 'she', 'gives', 'me', 'Enrichment', 'Night', 'was', 'about', 'music', 'how', 'it', 'can', 'help', 'in', 'many', 'ways', 'bonding', 'with', 'family', 'growing', 'spiritually', 'etc', 'Sister', 'McCall', 'read', 'from', 'her', 'journal', 'some', 'thoughts', 'about', 'when', 'she', 'was', 'young', 'and', 'her', 'dad', 'would', 'play', 'his', 'guitar', 'and', 'sing', 'her', 'to', 'sleep', 'It', 'was', 'really', 'well', 'written', 'It', 'wasn', 't', 'the', 'stream', 'of', 'consciousness', 'type', 'of', 'journal', 'like', 'mine', 'is', 'I', 'didn', 't', 'speak', 'up', 'during', 'the', 'lesson', 'but', 'I', 'was', 'thinking', 'of', 'a', 'lullaby', 'I', 'used', 'to', 'sing', 'to', 'the', 'girls', 'when', 'they', 'were', 'babies', 'I', 'had', 'a', 'little', 'book', 'called', 'Rock', 'Rock', 'My', 'Baby', 'by', 'Kay', 'Chorao', 'I', 'made', 'up', 'a', 'tune', 'to', 'the', 'words', 'in', 'the', 'book', 'and', 'would', 'sing', 'it', 'to', 'the', 'girls', 'when', 'they', 'cried', 'They', 'seemed', 'to', 'like', 'it', 'or', 'they', 'went', 'to', 'sleep', 'in', 'self', 'defense', 'Have', 'you', 'ever', 'had', 'your', 'kid', 'ask', 'you', 'to', 'stop', 'singing', 'Happened', 'to', 'me', 'Anyway', 'little', 'Peter', 'Hill', 'was', 'fussing', 'after', 'the', 'lesson', 'and', 'Jessica', 'picked', 'him', 'up', 'He', 'got', 'fussier', 'so', 'I', 'stepped', 'in', 'I', 'held', 'him', 'and', 'started', 'singing', 'that', 'song', 'and', 'soon', 'realized', 'I', 'had', 'forgotten', 'most', 'of', 'the', 'words', 'Well', 'Cayla', 'is', '7', 'so', 'it', 's', 'been', 'a', 'few', 'years', 'since', 'I', 've', 'sung', 'it', 'but', 'I', 'still', 'felt', 'bad', 'I', 'was', 'reduced', 'to', 'humming', 'the', 'melody', 'Peter', 'didn', 't', 'seem', 'to', 'mind', 'he', 'calmed', 'down', 'a', 'little', 'as', 'long', 'as', 'I', 'kept', 'humming', 'that', 'song', 'When', 'I', 'started', 'singing', 'another', 'song', 'softly', 'he', 'got', 'fussy', 'again', 'so', 'Heather', 'came', 'over', 'and', 'took', 'him', 'back', 'Ah', 'well', 'my', 'youngest', 'child', 'is', '7', 'and', 'it', 'will', 'be', 'many', 'many', 'years', 'before', 'I', 'will', 'be', 'a', 'grandmother', 'so', 'I', 'can', 'either', 'wait', 'til', 'then', 'or', 'keep', 'my', 'skills', 'polished', 'by', 'keeping', 'up', 'with', 'the', 'infants', 'at', 'church', 'I', 'like', 'that', 'second', 'option', 'better', 'I', 'miss', 'having', 'a', 'baby', 'to', 'hold']\n",
      "['Hey', 'My', 'urlLink', 'sister', 's', 'blogging', 'now']\n",
      "['I', 'made', 'a', 'blog', 'entry', 'before', 'I', 'left', 'for', 'work', 'but', 'when', 'I', 'tried', 'to', 'publish', 'it', 'somehow', 'it', 'got', 'lost', 'in', 'cyberspace', 'oh', 'well', 'I', 'have', 'submitted', 'to', 'and', 'been', 'added', 'to', 'two', 'web', 'rings', 'urlLink', 'blogs', 'by', 'women', 'and', 'urlLink', 'blogging', 'mommies', 'I', 'guess', 'this', 'is', 'all', 'my', 'little', 'slice', 'of', 'fame', 'Somebody', 'somewhere', 'might', 'read', 'this', 'and', 'think', 'about', 'me', 'Andy', 'Warhol', 'said', 'that', 'in', 'the', 'future', 'everyone', 'would', 'be', 'famous', 'for', '15', 'minutes', 'and', 'this', 'is', 'my', 'way', 'of', 'getting', 'my', '15', 'minutes', 'I', 'didn', 't', 'have', 'any', 'problems', 'going', 'to', 'work', 'or', 'coming', 'home', 'The', 'roads', 'were', 'still', 'kind', 'of', 'messed', 'up', 'when', 'I', 'went', 'to', 'work', 'but', 'nearly', 'clear', 'by', 'the', 'time', 'I', 'made', 'it', 'home', 'Well', 'the', 'county', 'road', 'from', '169', 'to', 'Otho', 'was', 'pretty', 'much', 'covered', 'so', 'I', 'drove', 'slowly', 'about', '40', '45', 'for', 'that', 'short', 'distance', 'The', 'streets', 'in', 'Otho', 'are', 'still', 'pretty', 'much', 'covered', 'in', 'snow', 'but', 'the', 'drifts', 'are', 'gone', 'I', 'wonder', 'what', 'Riverside', 'Trail', 'looks', 'like', 'There', 's', 'a', 'road', 'leaving', 'Otho', 'that', 'goes', 'zigzagging', 'through', 'trees', 'It', 'is', 'a', 'pretty', 'drive', 'but', 'you', 'really', 'have', 'to', 'keep', 'your', 'eyes', 'on', 'the', 'road', 'With', 'snow', 'on', 'the', 'road', 'it', 'would', 'be', 'very', 'hazardous', 'Well', 'we', 'll', 'see', 'tomorrow', 'later', 'today', 'if', 'I', 'actually', 'go', 'to', 'church']\n",
      "['We', 're', 'in', 'the', 'grip', 'of', 'a', 'serious', 'winter', 'storm', 'It', 'rained', 'a', 'good', 'part', 'of', 'the', 'day', 'Friday', 'before', 'turning', 'to', 'snow', 'I', 'don', 't', 'think', 'the', 'snow', 'has', 'stopped', 'I', 'left', 'work', 'at', 'about', '9', '45', 'p', 'm', 'and', 'took', 'about', '30', 'minutes', 'to', 'drive', 'the', '10', 'miles', 'home', 'I', 'was', 'going', 'about', '25', 'mph', 'most', 'of', 'the', 'way', 'Highway', '169', 'was', 'nearly', '100', 'snow', 'and', 'ice', 'covered', 'with', 'drifts', 'up', 'to', '1', '2', 'foot', 'and', 'visibility', 'was', 'less', 'that', '100', 'feet', 'at', 'times', 'That', 'was', 'nearly', '4', 'hours', 'ago', 'and', 'it', 'can', 'only', 'have', 'gotten', 'worse', 'I', 'didn', 't', 'see', 'a', 'snowplow', 'on', 'the', 'way', 'home', 'I', 'could', 'tell', 'there', 'had', 'been', 'one', 'but', 'that', 'it', 'had', 'been', 'quite', 'some', 'time', 'since', 'it', 'was', 'there', 'Kent', 'is', 'at', 'work', 'Normally', 'he', 'works', '8', 'a', 'm', 'to', '4', 'p', 'm', 'Monday', 'through', 'Friday', 'but', 'he', 'went', 'in', 'at', 'midnight', 'tonight', 'in', 'place', 'of', 'a', 'guard', 'who', 'lives', 'farther', 'away', 'than', 'we', 'do', 'At', 'this', 'point', 'we', 're', 'just', 'hoping', 'the', 'guy', 'will', 'be', 'able', 'to', 'work', 'tonight', 'I', 'called', 'Kent', 'at', 'work', 'he', 'hasn', 't', 'seen', 'a', 'snowplow', 'yet', 'We', 'live', 'in', 'a', 'mobile', 'home', 'and', 'I', 'm', 'wondering', 'just', 'how', 'sturdy', 'the', 'roof', 'is']\n",
      "['I', 'decided', 'to', 'add', 'a', 'link', 'to', 'my', 'home', 'page', 'on', 'the', 'side', 'and', 'in', 'the', 'process', 'thoroughly', 'messed', 'up', 'the', 'fonts', 'I', 'll', 'see', 'if', 'I', 'can', 'fix', 'them', 'tonight', 'Sleep', 'deprivation', 'while', 'now', 'my', 'normal', 'state', 'doesn', 't', 'do', 'me', 'any', 'good', 'in', 'the', 'brain', 'processing', 'department', 'In', 'other', 'words', 'I', 'm', 'stupid', 'without', 'sleep', 'No', 'comments', 'from', 'the', 'peanut', 'gallery']\n",
      "['Well', 'I', 'nearly', 'got', 'my', 'wish', 'today', 'I', 've', 'been', 'wishing', 'for', 'a', 'snow', 'day', 'You', 'might', 'think', 'that', 'most', 'moms', 'would', 'be', 'against', 'a', 'snow', 'day', 'because', 'it', 'can', 'be', 'inconvenient', 'to', 'have', 'the', 'kids', 'home', 'when', 'you', 'have', 'other', 'plans', 'Well', 'my', 'wish', 'for', 'a', 'snow', 'day', 'is', 'based', 'on', 'my', 'need', 'for', 'sleep', 'I', 've', 'been', 'wanting', 'the', 'opportunity', 'to', 'sleep', 'in', 'I', 'would', 'have', 'settled', 'for', 'a', '2', 'hour', 'delay', 'which', 'would', 'allow', 'me', 'an', 'extra', '2', 'hours', 'of', 'sleep', 'but', 'today', 'I', 'just', 'wanted', 'the', 'whole', 'day', 'free', 'The', 'brakes', 'in', 'Kent', 's', 'car', 'are', 'going', 'bad', 'so', 'for', 'the', 'last', 'week', 'I', 've', 'been', 'driving', 'him', 'to', 'work', 'driving', 'the', 'kids', 'to', 'school', 'going', 'home', 'for', 'a', 'nap', 'going', 'to', 'school', 'going', 'home', 'again', 'driving', 'back', 'to', 'town', 'to', 'pick', 'the', 'girls', 'up', 'from', 'school', 'picking', 'Kent', 'up', 'from', 'work', 'then', 'going', 'to', 'work', 'This', 'only', 'makes', 'my', 'bad', 'habit', 'of', 'staying', 'up', 'way', 'too', 'late', 'even', 'more', 'tiring', 'If', 'school', 'had', 'just', 'been', 'cancelled', 'today', 'I', 'could', 'have', 'let', 'Kent', 'drive', 'my', 'car', 'to', 'work', 'then', 'wait', 'at', 'home', 'til', 'he', 'gets', 'back', 'then', 'go', 'to', 'work', 'Yes', 'even', 'though', 'it', 's', 'raining', 'now', 'and', 'will', 'freeze', 'and', 'then', 'it', 'will', 'snow', 'tonight', 'I', 'will', 'still', 'be', 'going', 'to', 'work', 'So', 'here', 's', 'the', 'day', 'I', 'wanted', 'Kent', 'drives', 'himself', 'to', 'work', 'and', 'the', 'girls', 'and', 'I', 'wait', 'til', 'he', 'gets', 'home', 'then', 'I', 'drive', 'to', 'work', 'for', 'only', '2', 'round', 'trips', 'and', 'probably', 'less', 'than', '50', 'miles', 'total', 'Well', 'I', 'have', 'to', 'amend', 'that', 'because', 'he', 'll', 'probably', 'have', 'to', 'go', 'back', 'at', 'midnight', 'since', 'the', 'guard', 'that', 'comes', 'in', 'then', 'lives', 'even', 'farther', 'away', 'from', 'Fort', 'Dodge', 'than', 'we', 'do', 'so', 'Kent', 'will', 'cover', 'for', 'him', 'So', 'less', 'than', '70', 'miles', 'Here', 's', 'the', 'day', 'I', 'got', 'Drove', 'Kent', 'to', 'work', 'and', 'the', 'girls', 'to', 'school', 'went', 'home', 'for', 'a', 'nap', 'Kent', 'called', 'to', 'tell', 'me', 'the', 'schools', 'were', 'dismissing', 'at', '10', '45', 'went', 'to', 'pick', 'the', 'girls', 'up', 'went', 'home', 'the', 'rest', 'of', 'the', 'day', 'should', 'go', 'like', 'this', 'Nap', 'til', '3', 'get', 'ready', 'for', 'work', 'go', 'pick', 'Kent', 'up', 'from', 'work', 'drive', 'everyone', 'home', 'go', 'to', 'work', 'come', 'home', 'Kent', 'drives', 'to', 'work', 'at', 'midnight', 'for', 'about', '100', 'miles', 'and', 'much', 'much', 'less', 'sleep', 'I', 'better', 'get', 'started', 'on', 'that', 'nap']\n",
      "['Something', 'I', 'didn', 't', 'notice', 'til', 'Wednesday', 'my', 'car', 's', 'mileage', 'rolled', 'over', 'to', '263', '000', 'miles', 'on', 'Tuesday', 'night', 'It', 'must', 'have', 'been', 'on', 'my', 'way', 'home', 'I', 'was', 'so', 'tired', 'that', 'night', 'I', 'wouldn', 't', 'have', 'noticed', 'if', 'confetti', 'and', 'balloons', 'had', 'dropped', 'down', 'Some', 'nights', 'I', 'm', 'so', 'tired', 'that', 'I', 'm', 'amazed', 'I', 'don', 't', 'end', 'up', 'in', 'a', 'ditch', 'It', 'wouldn', 't', 'be', 'so', 'bad', 'if', 'we', 'still', 'lived', 'in', 'Fort', 'Dodge', 'and', 'I', 'only', 'had', 'a', 'short', 'distance', 'but', 'Otho', 'is', 'about', '10', 'miles', 'away', 'and', 'it', 's', '55', 'all', 'the', 'way', 'there', 'I', 'm', 'an', 'accident', 'waiting', 'to', 'happen', 'Okay', 'I', 'was', 'thinking', 'about', 'what', 'I', 'wanted', 'to', 'say', 'while', 'I', 'was', 'driving', 'home', 'tonight', 'unfortunately', 'I', 'have', 'forgotten', 'Let', 'me', 'think', 'Oh', 'yeah', 'I', 'was', 'thinking', 'about', 'how', 'vindictive', 'I', 'get', 'while', 'driving', 'sometimes', 'Most', 'of', 'my', 'way', 'home', 'is', 'on', 'Highway', '169', 'as', 'a', 'four', 'lane', 'but', 'a', 'mile', 'before', 'the', 'turn', 'off', 'for', 'Otho', 'it', 'goes', 'to', 'two', 'lanes', 'Even', 'so', 'I', 'expect', 'oncoming', 'drivers', 'to', 'not', 'use', 'their', 'high', 'beam', 'headlights', 'when', 'approaching', 'but', 'the', 'concept', 'of', 'courtesy', 'to', 'other', 'drivers', 'seems', 'to', 'be', 'lacking', 'in', 'many', 'people', 'Similarly', 'I', 'get', 'a', 'little', 'steamed', 'at', 'people', 'behind', 'me', 'with', 'their', 'brights', 'on', 'I', 'love', 'to', 'let', 'them', 'pass', 'me', 'and', 'when', 'they', 'do', 'they', 'are', 'now', 'in', 'front', 'and', 'I', 'will', 'keep', 'my', 'high', 'beams', 'on', 'just', 'for', 'them', 'I', 'know', 'it', 's', 'petty', 'but', 'maybe', 'they', 'll', 'learn', 'a', 'lesson', 'Maybe', 'I', 'used', 'to', 'when', 'I', 'did', 'my', 'blogs', 'at', 'my', 'web', 'site', 'give', 'each', 'day', 's', 'entry', 'a', 'title', 'I', 'kind', 'of', 'like', 'thinking', 'of', 'a', 'theme', 'for', 'the', 'day', 'I', 'haven', 't', 'implemented', 'that', 'on', 'this', 'one', 'yet', 'We', 'll', 'see', 'Catching', 'up', 'Cayla', 'lost', 'a', 'tooth', 'on', 'Feb', '5', 'She', 'forgot', 'to', 'put', 'her', 'tooth', 'under', 'her', 'pillow', 'that', 'night', 'so', 'she', 'didn', 't', 'get', 'her', 'money', 'until', 'the', 'next', 'night', 'when', 'she', 'remembered', 'Then', 'she', 'lost', 'another', 'tooth', 'Friday', 'morning', 'Feb', '7', 'We', 'were', 'getting', 'ready', 'for', 'school', 'so', 'I', 'taped', 'the', 'tooth', 'to', 'the', 'side', 'of', 'the', 'fridge', 'thinking', 'this', 'is', 'a', 'good', 'place', 'for', 'it', 'easily', 'accessible', 'easy', 'to', 'see', 'and', 'not', 'forget', 'not', 'easily', 'lost', 'oops', 'When', 'we', 'got', 'home', 'that', 'afternoon', 'Cayla', 'immediately', 'went', 'to', 'the', 'fridge', 'started', 'to', 'take', 'the', 'tooth', 'off', 'the', 'fridge', 'and', 'dropped', 'it', 'somewhere', 'on', 'the', 'floor', 'maybe', 'I', 'm', 'afraid', 'it', 'may', 'be', 'between', 'the', 'fridge', 'and', 'counter', 'in', 'which', 'case', 'the', 'tooth', 'fairy', 'will', 'stiff', 'her', 'on', 'this', 'one', 'If', 'it', 's', 'not', 'under', 'the', 'pillow', 'she', 'gets', 'nothing', 'Just', 'call', 'me', 'Mommy', 'Meanie']\n"
     ]
    },
    {
     "ename": "KeyboardInterrupt",
     "evalue": "",
     "output_type": "error",
     "traceback": [
      "\u001b[0;31m---------------------------------------------------------------------------\u001b[0m",
      "\u001b[0;31mKeyboardInterrupt\u001b[0m                         Traceback (most recent call last)",
      "\u001b[0;32m<ipython-input-169-5c69f3eeefa8>\u001b[0m in \u001b[0;36m<module>\u001b[0;34m\u001b[0m\n\u001b[1;32m     12\u001b[0m \u001b[0;34m\u001b[0m\u001b[0m\n\u001b[1;32m     13\u001b[0m         \u001b[0;31m# Extract data from each file\u001b[0m\u001b[0;34m\u001b[0m\u001b[0;34m\u001b[0m\u001b[0;34m\u001b[0m\u001b[0m\n\u001b[0;32m---> 14\u001b[0;31m         \u001b[0mdf\u001b[0m \u001b[0;34m=\u001b[0m \u001b[0mextract_data\u001b[0m\u001b[0;34m(\u001b[0m\u001b[0mfilename\u001b[0m\u001b[0;34m)\u001b[0m\u001b[0;34m\u001b[0m\u001b[0;34m\u001b[0m\u001b[0m\n\u001b[0m\u001b[1;32m     15\u001b[0m         \u001b[0mdf\u001b[0m\u001b[0;34m.\u001b[0m\u001b[0mto_csv\u001b[0m\u001b[0;34m(\u001b[0m\u001b[0mf\u001b[0m\u001b[0;34m,\u001b[0m \u001b[0mheader\u001b[0m\u001b[0;34m=\u001b[0m\u001b[0;32mFalse\u001b[0m\u001b[0;34m,\u001b[0m \u001b[0mindex\u001b[0m\u001b[0;34m=\u001b[0m\u001b[0;32mFalse\u001b[0m\u001b[0;34m)\u001b[0m\u001b[0;34m\u001b[0m\u001b[0;34m\u001b[0m\u001b[0m\n",
      "\u001b[0;32m<ipython-input-167-a0d0d5411efd>\u001b[0m in \u001b[0;36mextract_data\u001b[0;34m(filename)\u001b[0m\n\u001b[1;32m     33\u001b[0m \u001b[0;34m\u001b[0m\u001b[0m\n\u001b[1;32m     34\u001b[0m         \u001b[0mentry\u001b[0m\u001b[0;34m.\u001b[0m\u001b[0mupdate\u001b[0m\u001b[0;34m(\u001b[0m \u001b[0mgetWordsEndingDict\u001b[0m\u001b[0;34m(\u001b[0m\u001b[0mwords\u001b[0m\u001b[0;34m)\u001b[0m \u001b[0;34m)\u001b[0m\u001b[0;34m\u001b[0m\u001b[0;34m\u001b[0m\u001b[0m\n\u001b[0;32m---> 35\u001b[0;31m         \u001b[0mdf\u001b[0m \u001b[0;34m=\u001b[0m \u001b[0mdf\u001b[0m\u001b[0;34m.\u001b[0m\u001b[0mappend\u001b[0m\u001b[0;34m(\u001b[0m\u001b[0mentry\u001b[0m\u001b[0;34m,\u001b[0m \u001b[0mignore_index\u001b[0m\u001b[0;34m=\u001b[0m\u001b[0;32mTrue\u001b[0m\u001b[0;34m)\u001b[0m\u001b[0;34m\u001b[0m\u001b[0;34m\u001b[0m\u001b[0m\n\u001b[0m\u001b[1;32m     36\u001b[0m \u001b[0;34m\u001b[0m\u001b[0m\n\u001b[1;32m     37\u001b[0m         \u001b[0mPostID\u001b[0m \u001b[0;34m+=\u001b[0m\u001b[0;36m1\u001b[0m\u001b[0;34m\u001b[0m\u001b[0;34m\u001b[0m\u001b[0m\n",
      "\u001b[0;32m~/miniconda3/envs/nlp/lib/python3.7/site-packages/pandas/core/frame.py\u001b[0m in \u001b[0;36mappend\u001b[0;34m(self, other, ignore_index, verify_integrity, sort)\u001b[0m\n\u001b[1;32m   7103\u001b[0m                 \u001b[0mcolumns\u001b[0m\u001b[0;34m=\u001b[0m\u001b[0mcombined_columns\u001b[0m\u001b[0;34m,\u001b[0m\u001b[0;34m\u001b[0m\u001b[0;34m\u001b[0m\u001b[0m\n\u001b[1;32m   7104\u001b[0m             )\n\u001b[0;32m-> 7105\u001b[0;31m             \u001b[0mother\u001b[0m \u001b[0;34m=\u001b[0m \u001b[0mother\u001b[0m\u001b[0;34m.\u001b[0m\u001b[0m_convert\u001b[0m\u001b[0;34m(\u001b[0m\u001b[0mdatetime\u001b[0m\u001b[0;34m=\u001b[0m\u001b[0;32mTrue\u001b[0m\u001b[0;34m,\u001b[0m \u001b[0mtimedelta\u001b[0m\u001b[0;34m=\u001b[0m\u001b[0;32mTrue\u001b[0m\u001b[0;34m)\u001b[0m\u001b[0;34m\u001b[0m\u001b[0;34m\u001b[0m\u001b[0m\n\u001b[0m\u001b[1;32m   7106\u001b[0m             \u001b[0;32mif\u001b[0m \u001b[0;32mnot\u001b[0m \u001b[0mself\u001b[0m\u001b[0;34m.\u001b[0m\u001b[0mcolumns\u001b[0m\u001b[0;34m.\u001b[0m\u001b[0mequals\u001b[0m\u001b[0;34m(\u001b[0m\u001b[0mcombined_columns\u001b[0m\u001b[0;34m)\u001b[0m\u001b[0;34m:\u001b[0m\u001b[0;34m\u001b[0m\u001b[0;34m\u001b[0m\u001b[0m\n\u001b[1;32m   7107\u001b[0m                 \u001b[0mself\u001b[0m \u001b[0;34m=\u001b[0m \u001b[0mself\u001b[0m\u001b[0;34m.\u001b[0m\u001b[0mreindex\u001b[0m\u001b[0;34m(\u001b[0m\u001b[0mcolumns\u001b[0m\u001b[0;34m=\u001b[0m\u001b[0mcombined_columns\u001b[0m\u001b[0;34m)\u001b[0m\u001b[0;34m\u001b[0m\u001b[0;34m\u001b[0m\u001b[0m\n",
      "\u001b[0;32m~/miniconda3/envs/nlp/lib/python3.7/site-packages/pandas/core/generic.py\u001b[0m in \u001b[0;36m_convert\u001b[0;34m(self, datetime, numeric, timedelta, coerce, copy)\u001b[0m\n\u001b[1;32m   6044\u001b[0m                 \u001b[0mtimedelta\u001b[0m\u001b[0;34m=\u001b[0m\u001b[0mtimedelta\u001b[0m\u001b[0;34m,\u001b[0m\u001b[0;34m\u001b[0m\u001b[0;34m\u001b[0m\u001b[0m\n\u001b[1;32m   6045\u001b[0m                 \u001b[0mcoerce\u001b[0m\u001b[0;34m=\u001b[0m\u001b[0mcoerce\u001b[0m\u001b[0;34m,\u001b[0m\u001b[0;34m\u001b[0m\u001b[0;34m\u001b[0m\u001b[0m\n\u001b[0;32m-> 6046\u001b[0;31m                 \u001b[0mcopy\u001b[0m\u001b[0;34m=\u001b[0m\u001b[0mcopy\u001b[0m\u001b[0;34m,\u001b[0m\u001b[0;34m\u001b[0m\u001b[0;34m\u001b[0m\u001b[0m\n\u001b[0m\u001b[1;32m   6047\u001b[0m             )\n\u001b[1;32m   6048\u001b[0m         ).__finalize__(self)\n",
      "\u001b[0;32m~/miniconda3/envs/nlp/lib/python3.7/site-packages/pandas/core/internals/managers.py\u001b[0m in \u001b[0;36mconvert\u001b[0;34m(self, **kwargs)\u001b[0m\n\u001b[1;32m    582\u001b[0m \u001b[0;34m\u001b[0m\u001b[0m\n\u001b[1;32m    583\u001b[0m     \u001b[0;32mdef\u001b[0m \u001b[0mconvert\u001b[0m\u001b[0;34m(\u001b[0m\u001b[0mself\u001b[0m\u001b[0;34m,\u001b[0m \u001b[0;34m**\u001b[0m\u001b[0mkwargs\u001b[0m\u001b[0;34m)\u001b[0m\u001b[0;34m:\u001b[0m\u001b[0;34m\u001b[0m\u001b[0;34m\u001b[0m\u001b[0m\n\u001b[0;32m--> 584\u001b[0;31m         \u001b[0;32mreturn\u001b[0m \u001b[0mself\u001b[0m\u001b[0;34m.\u001b[0m\u001b[0mapply\u001b[0m\u001b[0;34m(\u001b[0m\u001b[0;34m\"convert\"\u001b[0m\u001b[0;34m,\u001b[0m \u001b[0;34m**\u001b[0m\u001b[0mkwargs\u001b[0m\u001b[0;34m)\u001b[0m\u001b[0;34m\u001b[0m\u001b[0;34m\u001b[0m\u001b[0m\n\u001b[0m\u001b[1;32m    585\u001b[0m \u001b[0;34m\u001b[0m\u001b[0m\n\u001b[1;32m    586\u001b[0m     \u001b[0;32mdef\u001b[0m \u001b[0mreplace\u001b[0m\u001b[0;34m(\u001b[0m\u001b[0mself\u001b[0m\u001b[0;34m,\u001b[0m \u001b[0mvalue\u001b[0m\u001b[0;34m,\u001b[0m \u001b[0;34m**\u001b[0m\u001b[0mkwargs\u001b[0m\u001b[0;34m)\u001b[0m\u001b[0;34m:\u001b[0m\u001b[0;34m\u001b[0m\u001b[0;34m\u001b[0m\u001b[0m\n",
      "\u001b[0;32m~/miniconda3/envs/nlp/lib/python3.7/site-packages/pandas/core/internals/managers.py\u001b[0m in \u001b[0;36mapply\u001b[0;34m(self, f, axes, filter, do_integrity_check, consolidate, **kwargs)\u001b[0m\n\u001b[1;32m    442\u001b[0m             \u001b[0;32mreturn\u001b[0m \u001b[0mself\u001b[0m\u001b[0;34m.\u001b[0m\u001b[0mmake_empty\u001b[0m\u001b[0;34m(\u001b[0m\u001b[0maxes\u001b[0m \u001b[0;32mor\u001b[0m \u001b[0mself\u001b[0m\u001b[0;34m.\u001b[0m\u001b[0maxes\u001b[0m\u001b[0;34m)\u001b[0m\u001b[0;34m\u001b[0m\u001b[0;34m\u001b[0m\u001b[0m\n\u001b[1;32m    443\u001b[0m         bm = self.__class__(\n\u001b[0;32m--> 444\u001b[0;31m             \u001b[0mresult_blocks\u001b[0m\u001b[0;34m,\u001b[0m \u001b[0maxes\u001b[0m \u001b[0;32mor\u001b[0m \u001b[0mself\u001b[0m\u001b[0;34m.\u001b[0m\u001b[0maxes\u001b[0m\u001b[0;34m,\u001b[0m \u001b[0mdo_integrity_check\u001b[0m\u001b[0;34m=\u001b[0m\u001b[0mdo_integrity_check\u001b[0m\u001b[0;34m\u001b[0m\u001b[0;34m\u001b[0m\u001b[0m\n\u001b[0m\u001b[1;32m    445\u001b[0m         )\n\u001b[1;32m    446\u001b[0m         \u001b[0mbm\u001b[0m\u001b[0;34m.\u001b[0m\u001b[0m_consolidate_inplace\u001b[0m\u001b[0;34m(\u001b[0m\u001b[0;34m)\u001b[0m\u001b[0;34m\u001b[0m\u001b[0;34m\u001b[0m\u001b[0m\n",
      "\u001b[0;32m~/miniconda3/envs/nlp/lib/python3.7/site-packages/pandas/core/internals/managers.py\u001b[0m in \u001b[0;36m__init__\u001b[0;34m(self, blocks, axes, do_integrity_check)\u001b[0m\n\u001b[1;32m    145\u001b[0m         \u001b[0mself\u001b[0m\u001b[0;34m.\u001b[0m\u001b[0m_consolidate_check\u001b[0m\u001b[0;34m(\u001b[0m\u001b[0;34m)\u001b[0m\u001b[0;34m\u001b[0m\u001b[0;34m\u001b[0m\u001b[0m\n\u001b[1;32m    146\u001b[0m \u001b[0;34m\u001b[0m\u001b[0m\n\u001b[0;32m--> 147\u001b[0;31m         \u001b[0mself\u001b[0m\u001b[0;34m.\u001b[0m\u001b[0m_rebuild_blknos_and_blklocs\u001b[0m\u001b[0;34m(\u001b[0m\u001b[0;34m)\u001b[0m\u001b[0;34m\u001b[0m\u001b[0;34m\u001b[0m\u001b[0m\n\u001b[0m\u001b[1;32m    148\u001b[0m \u001b[0;34m\u001b[0m\u001b[0m\n\u001b[1;32m    149\u001b[0m     \u001b[0;32mdef\u001b[0m \u001b[0mmake_empty\u001b[0m\u001b[0;34m(\u001b[0m\u001b[0mself\u001b[0m\u001b[0;34m,\u001b[0m \u001b[0maxes\u001b[0m\u001b[0;34m=\u001b[0m\u001b[0;32mNone\u001b[0m\u001b[0;34m)\u001b[0m\u001b[0;34m:\u001b[0m\u001b[0;34m\u001b[0m\u001b[0;34m\u001b[0m\u001b[0m\n",
      "\u001b[0;32m~/miniconda3/envs/nlp/lib/python3.7/site-packages/pandas/core/internals/managers.py\u001b[0m in \u001b[0;36m_rebuild_blknos_and_blklocs\u001b[0;34m(self)\u001b[0m\n\u001b[1;32m    226\u001b[0m             \u001b[0mrl\u001b[0m \u001b[0;34m=\u001b[0m \u001b[0mblk\u001b[0m\u001b[0;34m.\u001b[0m\u001b[0mmgr_locs\u001b[0m\u001b[0;34m\u001b[0m\u001b[0;34m\u001b[0m\u001b[0m\n\u001b[1;32m    227\u001b[0m             \u001b[0mnew_blknos\u001b[0m\u001b[0;34m[\u001b[0m\u001b[0mrl\u001b[0m\u001b[0;34m.\u001b[0m\u001b[0mindexer\u001b[0m\u001b[0;34m]\u001b[0m \u001b[0;34m=\u001b[0m \u001b[0mblkno\u001b[0m\u001b[0;34m\u001b[0m\u001b[0;34m\u001b[0m\u001b[0m\n\u001b[0;32m--> 228\u001b[0;31m             \u001b[0mnew_blklocs\u001b[0m\u001b[0;34m[\u001b[0m\u001b[0mrl\u001b[0m\u001b[0;34m.\u001b[0m\u001b[0mindexer\u001b[0m\u001b[0;34m]\u001b[0m \u001b[0;34m=\u001b[0m \u001b[0mnp\u001b[0m\u001b[0;34m.\u001b[0m\u001b[0marange\u001b[0m\u001b[0;34m(\u001b[0m\u001b[0mlen\u001b[0m\u001b[0;34m(\u001b[0m\u001b[0mrl\u001b[0m\u001b[0;34m)\u001b[0m\u001b[0;34m)\u001b[0m\u001b[0;34m\u001b[0m\u001b[0;34m\u001b[0m\u001b[0m\n\u001b[0m\u001b[1;32m    229\u001b[0m \u001b[0;34m\u001b[0m\u001b[0m\n\u001b[1;32m    230\u001b[0m         \u001b[0;32mif\u001b[0m \u001b[0;34m(\u001b[0m\u001b[0mnew_blknos\u001b[0m \u001b[0;34m==\u001b[0m \u001b[0;34m-\u001b[0m\u001b[0;36m1\u001b[0m\u001b[0;34m)\u001b[0m\u001b[0;34m.\u001b[0m\u001b[0many\u001b[0m\u001b[0;34m(\u001b[0m\u001b[0;34m)\u001b[0m\u001b[0;34m:\u001b[0m\u001b[0;34m\u001b[0m\u001b[0;34m\u001b[0m\u001b[0m\n",
      "\u001b[0;31mKeyboardInterrupt\u001b[0m: "
     ]
    }
   ],
   "source": [
    "# Iterate over all the html files and get number of files (to see how much is left)\n",
    "number_of_files = 0\n",
    "for filename in os.listdir('data/blogs'):\n",
    "    number_of_files += 1\n",
    "    \n",
    "PostID = 0\n",
    "# open CSV file in append mode\n",
    "with open(csv_filename, 'a') as f:\n",
    "    for i, filename in enumerate(os.listdir('data/blogs')):\n",
    "        clear_output()\n",
    "        print('{0}/{1}'.format(i, number_of_files), end = '', flush=True)\n",
    "        \n",
    "        # Extract data from each file\n",
    "        df = extract_data(filename)\n",
    "        df.to_csv(f, header=False, index=False)"
   ]
  },
  {
   "cell_type": "code",
   "execution_count": null,
   "metadata": {},
   "outputs": [],
   "source": []
  }
 ],
 "metadata": {
  "kernelspec": {
   "display_name": "Python 3",
   "language": "python",
   "name": "python3"
  },
  "language_info": {
   "codemirror_mode": {
    "name": "ipython",
    "version": 3
   },
   "file_extension": ".py",
   "mimetype": "text/x-python",
   "name": "python",
   "nbconvert_exporter": "python",
   "pygments_lexer": "ipython3",
   "version": "3.7.3"
  }
 },
 "nbformat": 4,
 "nbformat_minor": 2
}
