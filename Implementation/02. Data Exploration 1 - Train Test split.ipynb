{
 "cells": [
  {
   "cell_type": "markdown",
   "metadata": {},
   "source": [
    "# 2. Data Exploration 1 - Train Test split"
   ]
  },
  {
   "cell_type": "markdown",
   "metadata": {},
   "source": [
    "#### This script takes the AuthorInformation CSV file and creates a new csv file, tagging each author as part of the training set or part of the testing set. This split tries to make it so that there are 50/50 of each gender in the train set"
   ]
  },
  {
   "cell_type": "markdown",
   "metadata": {},
   "source": [
    "### Imports"
   ]
  },
  {
   "cell_type": "code",
   "execution_count": 1,
   "metadata": {},
   "outputs": [],
   "source": [
    "import pandas as pd\n",
    "from IPython.display import clear_output\n",
    "import numpy as np\n",
    "import warnings"
   ]
  },
  {
   "cell_type": "markdown",
   "metadata": {},
   "source": [
    "### Defnitions"
   ]
  },
  {
   "cell_type": "code",
   "execution_count": 2,
   "metadata": {},
   "outputs": [],
   "source": [
    "data_path = 'data/'\n",
    "\n",
    "data_filename = 'AuthorInformation.csv'"
   ]
  },
  {
   "cell_type": "markdown",
   "metadata": {},
   "source": [
    "### Load Dataframe"
   ]
  },
  {
   "cell_type": "code",
   "execution_count": 3,
   "metadata": {},
   "outputs": [
    {
     "data": {
      "text/html": [
       "<div>\n",
       "<style scoped>\n",
       "    .dataframe tbody tr th:only-of-type {\n",
       "        vertical-align: middle;\n",
       "    }\n",
       "\n",
       "    .dataframe tbody tr th {\n",
       "        vertical-align: top;\n",
       "    }\n",
       "\n",
       "    .dataframe thead th {\n",
       "        text-align: right;\n",
       "    }\n",
       "</style>\n",
       "<table border=\"1\" class=\"dataframe\">\n",
       "  <thead>\n",
       "    <tr style=\"text-align: right;\">\n",
       "      <th></th>\n",
       "      <th>UserID</th>\n",
       "      <th>Gender</th>\n",
       "      <th>NoOfPosts</th>\n",
       "    </tr>\n",
       "  </thead>\n",
       "  <tbody>\n",
       "    <tr>\n",
       "      <td>0</td>\n",
       "      <td>1000331</td>\n",
       "      <td>female</td>\n",
       "      <td>13</td>\n",
       "    </tr>\n",
       "    <tr>\n",
       "      <td>1</td>\n",
       "      <td>1000866</td>\n",
       "      <td>female</td>\n",
       "      <td>771</td>\n",
       "    </tr>\n",
       "    <tr>\n",
       "      <td>2</td>\n",
       "      <td>1004904</td>\n",
       "      <td>male</td>\n",
       "      <td>52</td>\n",
       "    </tr>\n",
       "    <tr>\n",
       "      <td>3</td>\n",
       "      <td>1005076</td>\n",
       "      <td>female</td>\n",
       "      <td>85</td>\n",
       "    </tr>\n",
       "    <tr>\n",
       "      <td>4</td>\n",
       "      <td>1005545</td>\n",
       "      <td>male</td>\n",
       "      <td>80</td>\n",
       "    </tr>\n",
       "  </tbody>\n",
       "</table>\n",
       "</div>"
      ],
      "text/plain": [
       "    UserID  Gender  NoOfPosts\n",
       "0  1000331  female         13\n",
       "1  1000866  female        771\n",
       "2  1004904    male         52\n",
       "3  1005076  female         85\n",
       "4  1005545    male         80"
      ]
     },
     "execution_count": 3,
     "metadata": {},
     "output_type": "execute_result"
    }
   ],
   "source": [
    "df = pd.read_csv(data_path+data_filename)\n",
    "df.head()"
   ]
  },
  {
   "cell_type": "markdown",
   "metadata": {},
   "source": [
    "### Split into female and male"
   ]
  },
  {
   "cell_type": "code",
   "execution_count": 4,
   "metadata": {},
   "outputs": [
    {
     "name": "stdout",
     "output_type": "stream",
     "text": [
      "Number of male blogs: 9660\n",
      "Number of male posts: 344773\n",
      "Number of female blogs: 9660\n",
      "Number of female posts: 335010\n"
     ]
    }
   ],
   "source": [
    "df_male = df[ df['Gender'] == 'male' ]\n",
    "df_female = df[ df['Gender'] == 'female']\n",
    "\n",
    "print('Number of male blogs: {0}'.format( df_male.shape[0] ))\n",
    "print('Number of male posts: {0}'.format( df_male['NoOfPosts'].sum() ))\n",
    "print('Number of female blogs: {0}'.format( df_female.shape[0] ))\n",
    "print('Number of female posts: {0}'.format( df_female['NoOfPosts'].sum() ))"
   ]
  },
  {
   "cell_type": "markdown",
   "metadata": {},
   "source": [
    "From the above we can see that there are almost equal female and male blogs"
   ]
  },
  {
   "cell_type": "markdown",
   "metadata": {},
   "source": [
    "### Split into train and test for each dataframe"
   ]
  },
  {
   "cell_type": "code",
   "execution_count": 5,
   "metadata": {},
   "outputs": [
    {
     "name": "stdout",
     "output_type": "stream",
     "text": [
      "Number of training male blogs: 7728\n",
      "Number of training male posts: 270176\n",
      "Number of training female blogs: 7148\n",
      "Number of training female posts: 269911\n",
      "\n",
      "Number of testing male blogs: 1932\n",
      "Number of testing male posts: 74597\n",
      "Number of testing female blogs: 2512\n",
      "Number of testing female posts: 65099\n"
     ]
    }
   ],
   "source": [
    "df_male_train = df_male.iloc[:int(df_male.shape[0]*0.8)]\n",
    "df_male_test = df_male.iloc[int(df_male.shape[0]*0.8):]\n",
    "df_female_train = df_female.iloc[:int(df_female.shape[0]*0.74)]\n",
    "df_female_test = df_female.iloc[int(df_female.shape[0]*0.74):]\n",
    "\n",
    "print('Number of training male blogs: {0}'.format( df_male_train.shape[0] ))\n",
    "print('Number of training male posts: {0}'.format( df_male_train['NoOfPosts'].sum() ))\n",
    "print('Number of training female blogs: {0}'.format( df_female_train.shape[0] ))\n",
    "print('Number of training female posts: {0}'.format( df_female_train['NoOfPosts'].sum() ))\n",
    "print()\n",
    "print('Number of testing male blogs: {0}'.format( df_male_test.shape[0] ))\n",
    "print('Number of testing male posts: {0}'.format( df_male_test['NoOfPosts'].sum() ))\n",
    "print('Number of testing female blogs: {0}'.format( df_female_test.shape[0] ))\n",
    "print('Number of testing female posts: {0}'.format( df_female_test['NoOfPosts'].sum() ))"
   ]
  },
  {
   "cell_type": "markdown",
   "metadata": {},
   "source": [
    "### Concatenate back with new training and test tags"
   ]
  },
  {
   "cell_type": "code",
   "execution_count": 6,
   "metadata": {},
   "outputs": [
    {
     "data": {
      "text/html": [
       "<div>\n",
       "<style scoped>\n",
       "    .dataframe tbody tr th:only-of-type {\n",
       "        vertical-align: middle;\n",
       "    }\n",
       "\n",
       "    .dataframe tbody tr th {\n",
       "        vertical-align: top;\n",
       "    }\n",
       "\n",
       "    .dataframe thead th {\n",
       "        text-align: right;\n",
       "    }\n",
       "</style>\n",
       "<table border=\"1\" class=\"dataframe\">\n",
       "  <thead>\n",
       "    <tr style=\"text-align: right;\">\n",
       "      <th></th>\n",
       "      <th>UserID</th>\n",
       "      <th>TrainTest</th>\n",
       "    </tr>\n",
       "  </thead>\n",
       "  <tbody>\n",
       "    <tr>\n",
       "      <td>2</td>\n",
       "      <td>1004904</td>\n",
       "      <td>train</td>\n",
       "    </tr>\n",
       "    <tr>\n",
       "      <td>4</td>\n",
       "      <td>1005545</td>\n",
       "      <td>train</td>\n",
       "    </tr>\n",
       "    <tr>\n",
       "      <td>5</td>\n",
       "      <td>1007188</td>\n",
       "      <td>train</td>\n",
       "    </tr>\n",
       "    <tr>\n",
       "      <td>8</td>\n",
       "      <td>1009572</td>\n",
       "      <td>train</td>\n",
       "    </tr>\n",
       "    <tr>\n",
       "      <td>12</td>\n",
       "      <td>1013637</td>\n",
       "      <td>train</td>\n",
       "    </tr>\n",
       "  </tbody>\n",
       "</table>\n",
       "</div>"
      ],
      "text/plain": [
       "     UserID TrainTest\n",
       "2   1004904     train\n",
       "4   1005545     train\n",
       "5   1007188     train\n",
       "8   1009572     train\n",
       "12  1013637     train"
      ]
     },
     "execution_count": 6,
     "metadata": {},
     "output_type": "execute_result"
    }
   ],
   "source": [
    "with warnings.catch_warnings():\n",
    "    warnings.simplefilter(\"ignore\")\n",
    "    df_male_train['TrainTest'] = 'train'\n",
    "    df_male_test['TrainTest'] = 'test'\n",
    "    df_female_train['TrainTest'] = 'train'\n",
    "    df_female_test['TrainTest'] = 'test'\n",
    "\n",
    "    df = pd.concat([\n",
    "        df_male_train,\n",
    "        df_male_test,\n",
    "        df_female_train,\n",
    "        df_female_test\n",
    "    ])\n",
    "\n",
    "    df = df.loc[:][['UserID', 'TrainTest']]\n",
    "df.head()"
   ]
  },
  {
   "cell_type": "markdown",
   "metadata": {},
   "source": [
    "### Save it to new CSV"
   ]
  },
  {
   "cell_type": "code",
   "execution_count": 7,
   "metadata": {},
   "outputs": [],
   "source": [
    "df.to_csv('data/AuthorTrainTest.csv', index=False)"
   ]
  }
 ],
 "metadata": {
  "kernelspec": {
   "display_name": "Python 3",
   "language": "python",
   "name": "python3"
  },
  "language_info": {
   "codemirror_mode": {
    "name": "ipython",
    "version": 3
   },
   "file_extension": ".py",
   "mimetype": "text/x-python",
   "name": "python",
   "nbconvert_exporter": "python",
   "pygments_lexer": "ipython3",
   "version": "3.7.3"
  }
 },
 "nbformat": 4,
 "nbformat_minor": 2
}
