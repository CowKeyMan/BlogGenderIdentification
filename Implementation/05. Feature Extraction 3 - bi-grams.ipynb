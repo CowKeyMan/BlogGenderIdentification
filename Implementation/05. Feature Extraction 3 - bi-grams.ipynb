{
 "cells": [
  {
   "cell_type": "markdown",
   "metadata": {},
   "source": [
    "# 5. Feature Extraction 3 - bi-grams"
   ]
  },
  {
   "cell_type": "markdown",
   "metadata": {},
   "source": [
    "#### This script extracts the n-grams of words in the POS and bleached csv files and also calculates the TF-IDF of it, so that the top few can be extracted and used as features. This is only done for the training set, so that the 'vocabulary' is then applied to the testing set as well."
   ]
  },
  {
   "cell_type": "markdown",
   "metadata": {},
   "source": [
    "### Imports"
   ]
  },
  {
   "cell_type": "code",
   "execution_count": 1,
   "metadata": {},
   "outputs": [],
   "source": [
    "import pandas as pd\n",
    "import numpy as np\n",
    "import nltk\n",
    "from collections import defaultdict\n",
    "import math\n",
    "from IPython.display import clear_output"
   ]
  },
  {
   "cell_type": "markdown",
   "metadata": {},
   "source": [
    "### Definitions"
   ]
  },
  {
   "cell_type": "code",
   "execution_count": 2,
   "metadata": {},
   "outputs": [],
   "source": [
    "pos_filename = 'data/POS.csv'\n",
    "bleached_filename = 'data/Bleached.csv'\n",
    "\n",
    "pos_ngram_filename = 'data/POS-ngram-all.csv'\n",
    "bleached_ngram_filename = 'data/Bleached-ngram-all.csv'"
   ]
  },
  {
   "cell_type": "markdown",
   "metadata": {},
   "source": [
    "### Go trough POS file, get bi-grams and add to the dictionary"
   ]
  },
  {
   "cell_type": "code",
   "execution_count": 3,
   "metadata": {},
   "outputs": [],
   "source": [
    "number_of_posts=0\n",
    "chunksize=10\n",
    "for chunk in pd.read_csv(pos_filename, usecols=['PostID'], chunksize=chunksize):\n",
    "    number_of_posts = np.max(chunk.PostID)\n",
    "\n",
    "number_of_chunks = math.ceil(number_of_posts / chunksize)"
   ]
  },
  {
   "cell_type": "code",
   "execution_count": 4,
   "metadata": {
    "scrolled": true
   },
   "outputs": [
    {
     "name": "stdout",
     "output_type": "stream",
     "text": [
      "DONE - 679782 files\n"
     ]
    }
   ],
   "source": [
    "ngrams_dict = defaultdict( lambda:(0, 0) )\n",
    "\n",
    "# open CSV file in append mode\n",
    "with open(pos_ngram_filename, 'a') as f:\n",
    "    for i,chunk in enumerate(pd.read_csv(pos_filename, chunksize=chunksize)):\n",
    "        chunk = chunk.dropna()\n",
    "        \n",
    "        if i%30 == 0:\n",
    "            clear_output()\n",
    "            print('{0}/{1}'.format(i+1, number_of_chunks), end = '', flush=True)\n",
    "        \n",
    "        for row in chunk.iterrows():\n",
    "            if row[1][3] == 'train':\n",
    "                post = row[1][1]\n",
    "                if len(list(nltk.bigrams(nltk.word_tokenize(post)))) > 0:\n",
    "                    inverse_number_of_bigrams = 1/len(list(nltk.bigrams(nltk.word_tokenize(post))))\n",
    "                    if row[1][2] == 'male':\n",
    "                        for w1, w2 in nltk.bigrams(nltk.word_tokenize(post)):\n",
    "                            ngrams_dict[(w1,w2)] = (\n",
    "                                ngrams_dict[(w1,w2)][0] + inverse_number_of_bigrams,\n",
    "                                ngrams_dict[(w1,w2)][1]\n",
    "                            )\n",
    "                    else:\n",
    "                        for w1, w2 in nltk.bigrams(nltk.word_tokenize(post)):\n",
    "                            ngrams_dict[(w1,w2)] = (\n",
    "                                ngrams_dict[(w1,w2)][0],\n",
    "                                ngrams_dict[(w1,w2)][1] + inverse_number_of_bigrams\n",
    "                            )\n",
    "clear_output()\n",
    "print('DONE - {0} files'.format(number_of_posts))"
   ]
  },
  {
   "cell_type": "markdown",
   "metadata": {},
   "source": [
    "### Save dictionary as new csv"
   ]
  },
  {
   "cell_type": "code",
   "execution_count": 5,
   "metadata": {},
   "outputs": [],
   "source": [
    "df = pd.DataFrame(columns=['Word1', 'Word2', 'FrequencyMale', 'FrequencyFemale'])\n",
    "\n",
    "for (Word1, Word2), (FrequencyMale, FrequencyFemale) in ngrams_dict.items():\n",
    "    df = df.append({\n",
    "        'Word1': Word1,\n",
    "        'Word2': Word2,\n",
    "        'FrequencyMale': FrequencyMale,\n",
    "        'FrequencyFemale': FrequencyFemale\n",
    "    }, ignore_index = True)\n",
    "\n",
    "df.to_csv(pos_ngram_filename, index=False)"
   ]
  },
  {
   "cell_type": "markdown",
   "metadata": {},
   "source": [
    "### Go trough Bleached file, get bi-grams and add to the dictionary"
   ]
  },
  {
   "cell_type": "code",
   "execution_count": 6,
   "metadata": {},
   "outputs": [
    {
     "name": "stdout",
     "output_type": "stream",
     "text": [
      "DONE - 679782 files\n"
     ]
    }
   ],
   "source": [
    "ngrams_dict = defaultdict( lambda:(0, 0) )\n",
    "\n",
    "# open CSV file in append mode\n",
    "with open(pos_ngram_filename, 'a') as f:\n",
    "    for i,chunk in enumerate(pd.read_csv(bleached_filename, chunksize=chunksize)):\n",
    "        chunk = chunk.dropna()\n",
    "        \n",
    "        if i%30 == 0:\n",
    "            clear_output()\n",
    "            print('{0}/{1}'.format(i+1, number_of_chunks), end = '', flush=True)\n",
    "        \n",
    "        for row in chunk.iterrows():\n",
    "            if row[1][3] == 'train':\n",
    "                post = row[1][1]\n",
    "                if len(list(nltk.bigrams(nltk.word_tokenize(post)))) > 0:\n",
    "                    inverse_number_of_bigrams = 1/len(list(nltk.bigrams(nltk.word_tokenize(post))))\n",
    "                    if row[1][2] == 'male':\n",
    "                        for w1, w2 in nltk.bigrams(nltk.word_tokenize(post)):\n",
    "                            ngrams_dict[(w1,w2)] = (\n",
    "                                ngrams_dict[(w1,w2)][0] + inverse_number_of_bigrams,\n",
    "                                ngrams_dict[(w1,w2)][1]\n",
    "                            )\n",
    "                    else:\n",
    "                        for w1, w2 in nltk.bigrams(nltk.word_tokenize(post)):\n",
    "                            ngrams_dict[(w1,w2)] = (\n",
    "                                ngrams_dict[(w1,w2)][0],\n",
    "                                ngrams_dict[(w1,w2)][1] + inverse_number_of_bigrams\n",
    "                            )\n",
    "clear_output()\n",
    "print('DONE - {0} files'.format(number_of_posts))"
   ]
  },
  {
   "cell_type": "markdown",
   "metadata": {},
   "source": [
    "### Save dict as new csv"
   ]
  },
  {
   "cell_type": "code",
   "execution_count": 9,
   "metadata": {},
   "outputs": [
    {
     "name": "stdout",
     "output_type": "stream",
     "text": [
      "DONE - 2010166 files\n"
     ]
    }
   ],
   "source": [
    "number_of_entries = len(ngrams_dict)\n",
    "\n",
    "df = pd.DataFrame(columns=['Word1', 'Word2', 'FrequencyMale', 'FrequencyFemale'])\n",
    "df.to_csv(bleached_ngram_filename, index=False)\n",
    "\n",
    "with open(bleached_ngram_filename, 'a') as f:\n",
    "    for i, ((Word1, Word2), (FrequencyMale, FrequencyFemale)) in enumerate(ngrams_dict.items()):\n",
    "\n",
    "        if(i%30 == 0):\n",
    "            clear_output()\n",
    "            print('{0}/{1}'.format((i+1), number_of_entries), end = '', flush=True)\n",
    "\n",
    "        df = df.append({\n",
    "            'Word1': Word1,\n",
    "            'Word2': Word2,\n",
    "            'FrequencyMale': FrequencyMale,\n",
    "            'FrequencyFemale': FrequencyFemale\n",
    "        }, ignore_index = True)\n",
    "\n",
    "        if df.shape[0] > 1000:\n",
    "            df.to_csv(f, header=False, index=False)\n",
    "            df = df.iloc[0:0]\n",
    "\n",
    "    df.to_csv(f, header=False, index=False)\n",
    "\n",
    "clear_output()\n",
    "print('DONE - {0} files'.format(number_of_entries))"
   ]
  }
 ],
 "metadata": {
  "kernelspec": {
   "display_name": "Python 3",
   "language": "python",
   "name": "python3"
  },
  "language_info": {
   "codemirror_mode": {
    "name": "ipython",
    "version": 3
   },
   "file_extension": ".py",
   "mimetype": "text/x-python",
   "name": "python",
   "nbconvert_exporter": "python",
   "pygments_lexer": "ipython3",
   "version": "3.7.3"
  }
 },
 "nbformat": 4,
 "nbformat_minor": 2
}
