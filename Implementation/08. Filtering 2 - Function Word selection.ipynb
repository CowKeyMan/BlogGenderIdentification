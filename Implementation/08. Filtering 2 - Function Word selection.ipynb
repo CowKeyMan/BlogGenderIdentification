{
 "cells": [
  {
   "cell_type": "markdown",
   "metadata": {},
   "source": [
    "# 8. Filtering 2 - Function Word selection"
   ]
  },
  {
   "cell_type": "markdown",
   "metadata": {},
   "source": [
    "#### This script loads the Function Words dataset and selects the most relevant ones, so as to not have too many sprseness in the data"
   ]
  },
  {
   "cell_type": "markdown",
   "metadata": {},
   "source": [
    "### Imports"
   ]
  },
  {
   "cell_type": "code",
   "execution_count": 1,
   "metadata": {},
   "outputs": [],
   "source": [
    "import pandas as pd\n",
    "import numpy as np"
   ]
  },
  {
   "cell_type": "markdown",
   "metadata": {},
   "source": [
    "### Definitions"
   ]
  },
  {
   "cell_type": "code",
   "execution_count": 2,
   "metadata": {},
   "outputs": [],
   "source": [
    "all_fw_filename = 'data/FunctionWords-extracted.csv'\n",
    "\n",
    "selected_fw_filename = 'data/FunctionWords-selected.txt'"
   ]
  },
  {
   "cell_type": "markdown",
   "metadata": {},
   "source": [
    "### Load Bleached bigrams"
   ]
  },
  {
   "cell_type": "code",
   "execution_count": 3,
   "metadata": {},
   "outputs": [
    {
     "data": {
      "text/html": [
       "<div>\n",
       "<style scoped>\n",
       "    .dataframe tbody tr th:only-of-type {\n",
       "        vertical-align: middle;\n",
       "    }\n",
       "\n",
       "    .dataframe tbody tr th {\n",
       "        vertical-align: top;\n",
       "    }\n",
       "\n",
       "    .dataframe thead th {\n",
       "        text-align: right;\n",
       "    }\n",
       "</style>\n",
       "<table border=\"1\" class=\"dataframe\">\n",
       "  <thead>\n",
       "    <tr style=\"text-align: right;\">\n",
       "      <th></th>\n",
       "      <th>Word</th>\n",
       "      <th>FrequencyMale</th>\n",
       "      <th>FrequencyFemale</th>\n",
       "    </tr>\n",
       "  </thead>\n",
       "  <tbody>\n",
       "    <tr>\n",
       "      <td>0</td>\n",
       "      <td>i</td>\n",
       "      <td>1567.799083</td>\n",
       "      <td>2414.589971</td>\n",
       "    </tr>\n",
       "    <tr>\n",
       "      <td>1</td>\n",
       "      <td>we</td>\n",
       "      <td>758.887689</td>\n",
       "      <td>872.903331</td>\n",
       "    </tr>\n",
       "    <tr>\n",
       "      <td>2</td>\n",
       "      <td>you</td>\n",
       "      <td>1962.369570</td>\n",
       "      <td>2229.430293</td>\n",
       "    </tr>\n",
       "    <tr>\n",
       "      <td>3</td>\n",
       "      <td>he</td>\n",
       "      <td>535.290889</td>\n",
       "      <td>676.134495</td>\n",
       "    </tr>\n",
       "    <tr>\n",
       "      <td>4</td>\n",
       "      <td>she</td>\n",
       "      <td>307.796310</td>\n",
       "      <td>449.041207</td>\n",
       "    </tr>\n",
       "  </tbody>\n",
       "</table>\n",
       "</div>"
      ],
      "text/plain": [
       "  Word  FrequencyMale  FrequencyFemale\n",
       "0    i    1567.799083      2414.589971\n",
       "1   we     758.887689       872.903331\n",
       "2  you    1962.369570      2229.430293\n",
       "3   he     535.290889       676.134495\n",
       "4  she     307.796310       449.041207"
      ]
     },
     "execution_count": 3,
     "metadata": {},
     "output_type": "execute_result"
    }
   ],
   "source": [
    "df = pd.read_csv(all_fw_filename)\n",
    "\n",
    "df.head()"
   ]
  },
  {
   "cell_type": "markdown",
   "metadata": {},
   "source": [
    "### Get information on what is considered as 'low frequency'"
   ]
  },
  {
   "cell_type": "code",
   "execution_count": 4,
   "metadata": {},
   "outputs": [
    {
     "name": "stdout",
     "output_type": "stream",
     "text": [
      "Counts more than 1: 251\n",
      "Counts more than 10: 227\n",
      "Counts more than 20: 212\n",
      "Counts more than 50: 174\n",
      "Counts more than 100: 148\n",
      "Counts more than 1000: 46\n",
      "Counts more than 10000: 2\n"
     ]
    }
   ],
   "source": [
    "total_count = np.asarray(df['FrequencyMale'] + df['FrequencyFemale'])\n",
    "\n",
    "for i in [1, 10, 20, 50, 100, 1000, 10000]:\n",
    "    print('Counts more than {0}: {1}'.format(i, np.sum(total_count > i)))"
   ]
  },
  {
   "cell_type": "markdown",
   "metadata": {},
   "source": [
    "We will consider only those more than 50"
   ]
  },
  {
   "cell_type": "markdown",
   "metadata": {},
   "source": [
    "### Remove columns with low frequency"
   ]
  },
  {
   "cell_type": "code",
   "execution_count": 5,
   "metadata": {},
   "outputs": [],
   "source": [
    "df = df[total_count > 50]\n",
    "\n",
    "total_count = total_count[total_count > 50]"
   ]
  },
  {
   "cell_type": "markdown",
   "metadata": {},
   "source": [
    "### Calculate the entropy column"
   ]
  },
  {
   "cell_type": "code",
   "execution_count": 6,
   "metadata": {},
   "outputs": [
    {
     "data": {
      "text/html": [
       "<div>\n",
       "<style scoped>\n",
       "    .dataframe tbody tr th:only-of-type {\n",
       "        vertical-align: middle;\n",
       "    }\n",
       "\n",
       "    .dataframe tbody tr th {\n",
       "        vertical-align: top;\n",
       "    }\n",
       "\n",
       "    .dataframe thead th {\n",
       "        text-align: right;\n",
       "    }\n",
       "</style>\n",
       "<table border=\"1\" class=\"dataframe\">\n",
       "  <thead>\n",
       "    <tr style=\"text-align: right;\">\n",
       "      <th></th>\n",
       "      <th>Word</th>\n",
       "      <th>FrequencyMale</th>\n",
       "      <th>FrequencyFemale</th>\n",
       "      <th>Entropy</th>\n",
       "    </tr>\n",
       "  </thead>\n",
       "  <tbody>\n",
       "    <tr>\n",
       "      <td>0</td>\n",
       "      <td>i</td>\n",
       "      <td>1567.799083</td>\n",
       "      <td>2414.589971</td>\n",
       "      <td>0.967135</td>\n",
       "    </tr>\n",
       "    <tr>\n",
       "      <td>1</td>\n",
       "      <td>we</td>\n",
       "      <td>758.887689</td>\n",
       "      <td>872.903331</td>\n",
       "      <td>0.996475</td>\n",
       "    </tr>\n",
       "    <tr>\n",
       "      <td>2</td>\n",
       "      <td>you</td>\n",
       "      <td>1962.369570</td>\n",
       "      <td>2229.430293</td>\n",
       "      <td>0.997070</td>\n",
       "    </tr>\n",
       "    <tr>\n",
       "      <td>3</td>\n",
       "      <td>he</td>\n",
       "      <td>535.290889</td>\n",
       "      <td>676.134495</td>\n",
       "      <td>0.990227</td>\n",
       "    </tr>\n",
       "    <tr>\n",
       "      <td>4</td>\n",
       "      <td>she</td>\n",
       "      <td>307.796310</td>\n",
       "      <td>449.041207</td>\n",
       "      <td>0.974728</td>\n",
       "    </tr>\n",
       "  </tbody>\n",
       "</table>\n",
       "</div>"
      ],
      "text/plain": [
       "  Word  FrequencyMale  FrequencyFemale   Entropy\n",
       "0    i    1567.799083      2414.589971  0.967135\n",
       "1   we     758.887689       872.903331  0.996475\n",
       "2  you    1962.369570      2229.430293  0.997070\n",
       "3   he     535.290889       676.134495  0.990227\n",
       "4  she     307.796310       449.041207  0.974728"
      ]
     },
     "execution_count": 6,
     "metadata": {},
     "output_type": "execute_result"
    }
   ],
   "source": [
    "male_prob, female_prob = df['FrequencyMale']/total_count, df['FrequencyFemale']/total_count\n",
    "\n",
    "male_prob.shape\n",
    "df['Entropy'] = - ( male_prob * np.log2(male_prob) + female_prob * np.log2(female_prob) )\n",
    "\n",
    "df.head()"
   ]
  },
  {
   "cell_type": "markdown",
   "metadata": {},
   "source": [
    "### Take top 50 with least entropy (ie which discriminate the most)"
   ]
  },
  {
   "cell_type": "code",
   "execution_count": 7,
   "metadata": {},
   "outputs": [
    {
     "data": {
      "text/html": [
       "<div>\n",
       "<style scoped>\n",
       "    .dataframe tbody tr th:only-of-type {\n",
       "        vertical-align: middle;\n",
       "    }\n",
       "\n",
       "    .dataframe tbody tr th {\n",
       "        vertical-align: top;\n",
       "    }\n",
       "\n",
       "    .dataframe thead th {\n",
       "        text-align: right;\n",
       "    }\n",
       "</style>\n",
       "<table border=\"1\" class=\"dataframe\">\n",
       "  <thead>\n",
       "    <tr style=\"text-align: right;\">\n",
       "      <th></th>\n",
       "      <th>Word</th>\n",
       "      <th>FrequencyMale</th>\n",
       "      <th>FrequencyFemale</th>\n",
       "      <th>Entropy</th>\n",
       "    </tr>\n",
       "  </thead>\n",
       "  <tbody>\n",
       "    <tr>\n",
       "      <td>0</td>\n",
       "      <td>him</td>\n",
       "      <td>214.292223</td>\n",
       "      <td>356.036603</td>\n",
       "      <td>0.954974</td>\n",
       "    </tr>\n",
       "    <tr>\n",
       "      <td>1</td>\n",
       "      <td>against</td>\n",
       "      <td>51.037687</td>\n",
       "      <td>30.730540</td>\n",
       "      <td>0.955040</td>\n",
       "    </tr>\n",
       "    <tr>\n",
       "      <td>2</td>\n",
       "      <td>i</td>\n",
       "      <td>1567.799083</td>\n",
       "      <td>2414.589971</td>\n",
       "      <td>0.967135</td>\n",
       "    </tr>\n",
       "    <tr>\n",
       "      <td>3</td>\n",
       "      <td>she</td>\n",
       "      <td>307.796310</td>\n",
       "      <td>449.041207</td>\n",
       "      <td>0.974728</td>\n",
       "    </tr>\n",
       "    <tr>\n",
       "      <td>4</td>\n",
       "      <td>alone</td>\n",
       "      <td>32.569053</td>\n",
       "      <td>46.736906</td>\n",
       "      <td>0.976854</td>\n",
       "    </tr>\n",
       "  </tbody>\n",
       "</table>\n",
       "</div>"
      ],
      "text/plain": [
       "      Word  FrequencyMale  FrequencyFemale   Entropy\n",
       "0      him     214.292223       356.036603  0.954974\n",
       "1  against      51.037687        30.730540  0.955040\n",
       "2        i    1567.799083      2414.589971  0.967135\n",
       "3      she     307.796310       449.041207  0.974728\n",
       "4    alone      32.569053        46.736906  0.976854"
      ]
     },
     "execution_count": 7,
     "metadata": {},
     "output_type": "execute_result"
    }
   ],
   "source": [
    "df = df.sort_values('Entropy').reset_index(drop = True)\n",
    "\n",
    "df = df.iloc[:50]\n",
    "\n",
    "df.head()"
   ]
  },
  {
   "cell_type": "markdown",
   "metadata": {},
   "source": [
    "### Save to new text file"
   ]
  },
  {
   "cell_type": "code",
   "execution_count": 8,
   "metadata": {},
   "outputs": [],
   "source": [
    "with open(selected_fw_filename, 'w') as f:\n",
    "    for word in df['Word']:\n",
    "        f.write(word + '\\n')"
   ]
  }
 ],
 "metadata": {
  "kernelspec": {
   "display_name": "Python 3",
   "language": "python",
   "name": "python3"
  },
  "language_info": {
   "codemirror_mode": {
    "name": "ipython",
    "version": 3
   },
   "file_extension": ".py",
   "mimetype": "text/x-python",
   "name": "python",
   "nbconvert_exporter": "python",
   "pygments_lexer": "ipython3",
   "version": "3.7.3"
  }
 },
 "nbformat": 4,
 "nbformat_minor": 2
}
