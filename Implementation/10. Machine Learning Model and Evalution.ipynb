{
 "cells": [
  {
   "cell_type": "markdown",
   "metadata": {},
   "source": [
    "# 10. Machine Learning Model and Evaluation"
   ]
  },
  {
   "cell_type": "markdown",
   "metadata": {},
   "source": [
    "#### This script trains a baseline and 'main' model on the training data and evaluates them on the test set"
   ]
  },
  {
   "cell_type": "markdown",
   "metadata": {},
   "source": [
    "### Imports"
   ]
  },
  {
   "cell_type": "code",
   "execution_count": 1,
   "metadata": {},
   "outputs": [],
   "source": [
    "import pandas as pd\n",
    "import sklearn\n",
    "import numpy as np\n",
    "from sklearn.linear_model import LogisticRegression\n",
    "from sklearn.neural_network import MLPClassifier\n",
    "from sklearn.svm import SVC\n",
    "from sklearn.model_selection import RandomizedSearchCV\n",
    "from sklearn import metrics\n",
    "from scipy.stats import reciprocal, uniform\n",
    "from joblib import dump, load\n",
    "import seaborn as sns\n",
    "import matplotlib.pyplot as plt"
   ]
  },
  {
   "cell_type": "markdown",
   "metadata": {},
   "source": [
    "### Definitions"
   ]
  },
  {
   "cell_type": "code",
   "execution_count": 2,
   "metadata": {},
   "outputs": [],
   "source": [
    "data_filename = 'data/MachineLearningData.csv'\n",
    "\n",
    "baseline_model_filename = 'TrainedModels/Baseline.bin'\n",
    "final_model_filename = 'TrainedModels/Final.bin'\n",
    "\n",
    "svm_model_filename = 'TrainedModels/SVM.bin'"
   ]
  },
  {
   "cell_type": "markdown",
   "metadata": {},
   "source": [
    "### Defining helper function"
   ]
  },
  {
   "cell_type": "code",
   "execution_count": 3,
   "metadata": {},
   "outputs": [],
   "source": [
    "def plot_confusion_matrix(targets = [], predicted = [], labels = []):\n",
    "    cm = metrics.confusion_matrix(targets, predicted)\n",
    "    cm = cm.astype('float') / cm.sum(axis=1)[:, np.newaxis] # normalize confusion matrix\n",
    "    sns.heatmap(cm, annot=True, fmt='.2f', xticklabels=labels, yticklabels=labels)\n",
    "    plt.ylabel('Actual')\n",
    "    plt.xlabel('Predicted')\n",
    "    plt.rcParams[\"figure.figsize\"] =  [15, 9]\n",
    "    plt.show(block=False)"
   ]
  },
  {
   "cell_type": "markdown",
   "metadata": {},
   "source": [
    "### Load Dataframe"
   ]
  },
  {
   "cell_type": "code",
   "execution_count": 4,
   "metadata": {},
   "outputs": [
    {
     "data": {
      "text/html": [
       "<div>\n",
       "<style scoped>\n",
       "    .dataframe tbody tr th:only-of-type {\n",
       "        vertical-align: middle;\n",
       "    }\n",
       "\n",
       "    .dataframe tbody tr th {\n",
       "        vertical-align: top;\n",
       "    }\n",
       "\n",
       "    .dataframe thead th {\n",
       "        text-align: right;\n",
       "    }\n",
       "</style>\n",
       "<table border=\"1\" class=\"dataframe\">\n",
       "  <thead>\n",
       "    <tr style=\"text-align: right;\">\n",
       "      <th></th>\n",
       "      <th>PostID</th>\n",
       "      <th>WordCount</th>\n",
       "      <th>SentenceCount</th>\n",
       "      <th>AvgWordLength</th>\n",
       "      <th>AvgSentenceLength</th>\n",
       "      <th>UniqueWordsPercentage</th>\n",
       "      <th>URLCount</th>\n",
       "      <th>ableWords</th>\n",
       "      <th>alWords</th>\n",
       "      <th>fulWords</th>\n",
       "      <th>...</th>\n",
       "      <th>fw_by</th>\n",
       "      <th>fw_these</th>\n",
       "      <th>fw_second</th>\n",
       "      <th>fw_do</th>\n",
       "      <th>fw_shall</th>\n",
       "      <th>fw_of</th>\n",
       "      <th>fw_most</th>\n",
       "      <th>fw_mine</th>\n",
       "      <th>fw_under</th>\n",
       "      <th>fw_even</th>\n",
       "    </tr>\n",
       "  </thead>\n",
       "  <tbody>\n",
       "    <tr>\n",
       "      <td>0</td>\n",
       "      <td>264416.0</td>\n",
       "      <td>7</td>\n",
       "      <td>1</td>\n",
       "      <td>5.714286</td>\n",
       "      <td>7.000000</td>\n",
       "      <td>1.000000</td>\n",
       "      <td>0.142857</td>\n",
       "      <td>0.000000</td>\n",
       "      <td>0.000000</td>\n",
       "      <td>0.000000</td>\n",
       "      <td>...</td>\n",
       "      <td>0.000000</td>\n",
       "      <td>0.000000</td>\n",
       "      <td>0.000000</td>\n",
       "      <td>0.000000</td>\n",
       "      <td>0.0</td>\n",
       "      <td>0.000000</td>\n",
       "      <td>0.000000</td>\n",
       "      <td>0.0</td>\n",
       "      <td>0.0</td>\n",
       "      <td>0.000000</td>\n",
       "    </tr>\n",
       "    <tr>\n",
       "      <td>1</td>\n",
       "      <td>655816.0</td>\n",
       "      <td>19</td>\n",
       "      <td>2</td>\n",
       "      <td>4.421053</td>\n",
       "      <td>9.500000</td>\n",
       "      <td>0.894737</td>\n",
       "      <td>0.000000</td>\n",
       "      <td>0.000000</td>\n",
       "      <td>0.000000</td>\n",
       "      <td>0.000000</td>\n",
       "      <td>...</td>\n",
       "      <td>0.000000</td>\n",
       "      <td>0.000000</td>\n",
       "      <td>0.000000</td>\n",
       "      <td>0.000000</td>\n",
       "      <td>0.0</td>\n",
       "      <td>0.000000</td>\n",
       "      <td>0.000000</td>\n",
       "      <td>0.0</td>\n",
       "      <td>0.0</td>\n",
       "      <td>0.000000</td>\n",
       "    </tr>\n",
       "    <tr>\n",
       "      <td>2</td>\n",
       "      <td>384055.0</td>\n",
       "      <td>187</td>\n",
       "      <td>20</td>\n",
       "      <td>3.743316</td>\n",
       "      <td>9.350000</td>\n",
       "      <td>0.631016</td>\n",
       "      <td>0.000000</td>\n",
       "      <td>0.000000</td>\n",
       "      <td>0.010695</td>\n",
       "      <td>0.000000</td>\n",
       "      <td>...</td>\n",
       "      <td>0.004762</td>\n",
       "      <td>0.000000</td>\n",
       "      <td>0.000000</td>\n",
       "      <td>0.004762</td>\n",
       "      <td>0.0</td>\n",
       "      <td>0.004762</td>\n",
       "      <td>0.000000</td>\n",
       "      <td>0.0</td>\n",
       "      <td>0.0</td>\n",
       "      <td>0.004762</td>\n",
       "    </tr>\n",
       "    <tr>\n",
       "      <td>3</td>\n",
       "      <td>573725.0</td>\n",
       "      <td>416</td>\n",
       "      <td>27</td>\n",
       "      <td>4.149038</td>\n",
       "      <td>15.407407</td>\n",
       "      <td>0.591346</td>\n",
       "      <td>0.000000</td>\n",
       "      <td>0.000000</td>\n",
       "      <td>0.007212</td>\n",
       "      <td>0.002404</td>\n",
       "      <td>...</td>\n",
       "      <td>0.004338</td>\n",
       "      <td>0.000000</td>\n",
       "      <td>0.002169</td>\n",
       "      <td>0.004338</td>\n",
       "      <td>0.0</td>\n",
       "      <td>0.010846</td>\n",
       "      <td>0.000000</td>\n",
       "      <td>0.0</td>\n",
       "      <td>0.0</td>\n",
       "      <td>0.002169</td>\n",
       "    </tr>\n",
       "    <tr>\n",
       "      <td>4</td>\n",
       "      <td>214177.0</td>\n",
       "      <td>558</td>\n",
       "      <td>46</td>\n",
       "      <td>3.621864</td>\n",
       "      <td>12.130435</td>\n",
       "      <td>0.525090</td>\n",
       "      <td>0.000000</td>\n",
       "      <td>0.000000</td>\n",
       "      <td>0.000000</td>\n",
       "      <td>0.001792</td>\n",
       "      <td>...</td>\n",
       "      <td>0.000000</td>\n",
       "      <td>0.001653</td>\n",
       "      <td>0.000000</td>\n",
       "      <td>0.001653</td>\n",
       "      <td>0.0</td>\n",
       "      <td>0.003306</td>\n",
       "      <td>0.001653</td>\n",
       "      <td>0.0</td>\n",
       "      <td>0.0</td>\n",
       "      <td>0.000000</td>\n",
       "    </tr>\n",
       "    <tr>\n",
       "      <td>...</td>\n",
       "      <td>...</td>\n",
       "      <td>...</td>\n",
       "      <td>...</td>\n",
       "      <td>...</td>\n",
       "      <td>...</td>\n",
       "      <td>...</td>\n",
       "      <td>...</td>\n",
       "      <td>...</td>\n",
       "      <td>...</td>\n",
       "      <td>...</td>\n",
       "      <td>...</td>\n",
       "      <td>...</td>\n",
       "      <td>...</td>\n",
       "      <td>...</td>\n",
       "      <td>...</td>\n",
       "      <td>...</td>\n",
       "      <td>...</td>\n",
       "      <td>...</td>\n",
       "      <td>...</td>\n",
       "      <td>...</td>\n",
       "      <td>...</td>\n",
       "    </tr>\n",
       "    <tr>\n",
       "      <td>676308</td>\n",
       "      <td>411315.0</td>\n",
       "      <td>105</td>\n",
       "      <td>9</td>\n",
       "      <td>3.933333</td>\n",
       "      <td>11.666667</td>\n",
       "      <td>0.780952</td>\n",
       "      <td>0.000000</td>\n",
       "      <td>0.009524</td>\n",
       "      <td>0.000000</td>\n",
       "      <td>0.000000</td>\n",
       "      <td>...</td>\n",
       "      <td>0.000000</td>\n",
       "      <td>0.000000</td>\n",
       "      <td>0.000000</td>\n",
       "      <td>0.007692</td>\n",
       "      <td>0.0</td>\n",
       "      <td>0.023077</td>\n",
       "      <td>0.000000</td>\n",
       "      <td>0.0</td>\n",
       "      <td>0.0</td>\n",
       "      <td>0.000000</td>\n",
       "    </tr>\n",
       "    <tr>\n",
       "      <td>676309</td>\n",
       "      <td>377274.0</td>\n",
       "      <td>103</td>\n",
       "      <td>12</td>\n",
       "      <td>4.019417</td>\n",
       "      <td>8.583333</td>\n",
       "      <td>0.815534</td>\n",
       "      <td>0.000000</td>\n",
       "      <td>0.000000</td>\n",
       "      <td>0.000000</td>\n",
       "      <td>0.000000</td>\n",
       "      <td>...</td>\n",
       "      <td>0.000000</td>\n",
       "      <td>0.000000</td>\n",
       "      <td>0.000000</td>\n",
       "      <td>0.000000</td>\n",
       "      <td>0.0</td>\n",
       "      <td>0.000000</td>\n",
       "      <td>0.000000</td>\n",
       "      <td>0.0</td>\n",
       "      <td>0.0</td>\n",
       "      <td>0.000000</td>\n",
       "    </tr>\n",
       "    <tr>\n",
       "      <td>676310</td>\n",
       "      <td>656598.0</td>\n",
       "      <td>160</td>\n",
       "      <td>16</td>\n",
       "      <td>3.775000</td>\n",
       "      <td>10.000000</td>\n",
       "      <td>0.718750</td>\n",
       "      <td>0.000000</td>\n",
       "      <td>0.000000</td>\n",
       "      <td>0.000000</td>\n",
       "      <td>0.000000</td>\n",
       "      <td>...</td>\n",
       "      <td>0.000000</td>\n",
       "      <td>0.005682</td>\n",
       "      <td>0.000000</td>\n",
       "      <td>0.005682</td>\n",
       "      <td>0.0</td>\n",
       "      <td>0.005682</td>\n",
       "      <td>0.000000</td>\n",
       "      <td>0.0</td>\n",
       "      <td>0.0</td>\n",
       "      <td>0.000000</td>\n",
       "    </tr>\n",
       "    <tr>\n",
       "      <td>676311</td>\n",
       "      <td>246852.0</td>\n",
       "      <td>124</td>\n",
       "      <td>16</td>\n",
       "      <td>3.927419</td>\n",
       "      <td>7.750000</td>\n",
       "      <td>0.790323</td>\n",
       "      <td>0.000000</td>\n",
       "      <td>0.000000</td>\n",
       "      <td>0.000000</td>\n",
       "      <td>0.000000</td>\n",
       "      <td>...</td>\n",
       "      <td>0.006623</td>\n",
       "      <td>0.000000</td>\n",
       "      <td>0.000000</td>\n",
       "      <td>0.013245</td>\n",
       "      <td>0.0</td>\n",
       "      <td>0.013245</td>\n",
       "      <td>0.000000</td>\n",
       "      <td>0.0</td>\n",
       "      <td>0.0</td>\n",
       "      <td>0.000000</td>\n",
       "    </tr>\n",
       "    <tr>\n",
       "      <td>676312</td>\n",
       "      <td>468097.0</td>\n",
       "      <td>371</td>\n",
       "      <td>23</td>\n",
       "      <td>4.417790</td>\n",
       "      <td>16.130435</td>\n",
       "      <td>0.595687</td>\n",
       "      <td>0.002695</td>\n",
       "      <td>0.000000</td>\n",
       "      <td>0.005391</td>\n",
       "      <td>0.000000</td>\n",
       "      <td>...</td>\n",
       "      <td>0.005195</td>\n",
       "      <td>0.000000</td>\n",
       "      <td>0.000000</td>\n",
       "      <td>0.002597</td>\n",
       "      <td>0.0</td>\n",
       "      <td>0.015584</td>\n",
       "      <td>0.002597</td>\n",
       "      <td>0.0</td>\n",
       "      <td>0.0</td>\n",
       "      <td>0.002597</td>\n",
       "    </tr>\n",
       "  </tbody>\n",
       "</table>\n",
       "<p>676313 rows × 168 columns</p>\n",
       "</div>"
      ],
      "text/plain": [
       "          PostID  WordCount  SentenceCount  AvgWordLength  AvgSentenceLength  \\\n",
       "0       264416.0          7              1       5.714286           7.000000   \n",
       "1       655816.0         19              2       4.421053           9.500000   \n",
       "2       384055.0        187             20       3.743316           9.350000   \n",
       "3       573725.0        416             27       4.149038          15.407407   \n",
       "4       214177.0        558             46       3.621864          12.130435   \n",
       "...          ...        ...            ...            ...                ...   \n",
       "676308  411315.0        105              9       3.933333          11.666667   \n",
       "676309  377274.0        103             12       4.019417           8.583333   \n",
       "676310  656598.0        160             16       3.775000          10.000000   \n",
       "676311  246852.0        124             16       3.927419           7.750000   \n",
       "676312  468097.0        371             23       4.417790          16.130435   \n",
       "\n",
       "        UniqueWordsPercentage  URLCount  ableWords   alWords  fulWords  ...  \\\n",
       "0                    1.000000  0.142857   0.000000  0.000000  0.000000  ...   \n",
       "1                    0.894737  0.000000   0.000000  0.000000  0.000000  ...   \n",
       "2                    0.631016  0.000000   0.000000  0.010695  0.000000  ...   \n",
       "3                    0.591346  0.000000   0.000000  0.007212  0.002404  ...   \n",
       "4                    0.525090  0.000000   0.000000  0.000000  0.001792  ...   \n",
       "...                       ...       ...        ...       ...       ...  ...   \n",
       "676308               0.780952  0.000000   0.009524  0.000000  0.000000  ...   \n",
       "676309               0.815534  0.000000   0.000000  0.000000  0.000000  ...   \n",
       "676310               0.718750  0.000000   0.000000  0.000000  0.000000  ...   \n",
       "676311               0.790323  0.000000   0.000000  0.000000  0.000000  ...   \n",
       "676312               0.595687  0.002695   0.000000  0.005391  0.000000  ...   \n",
       "\n",
       "           fw_by  fw_these  fw_second     fw_do  fw_shall     fw_of   fw_most  \\\n",
       "0       0.000000  0.000000   0.000000  0.000000       0.0  0.000000  0.000000   \n",
       "1       0.000000  0.000000   0.000000  0.000000       0.0  0.000000  0.000000   \n",
       "2       0.004762  0.000000   0.000000  0.004762       0.0  0.004762  0.000000   \n",
       "3       0.004338  0.000000   0.002169  0.004338       0.0  0.010846  0.000000   \n",
       "4       0.000000  0.001653   0.000000  0.001653       0.0  0.003306  0.001653   \n",
       "...          ...       ...        ...       ...       ...       ...       ...   \n",
       "676308  0.000000  0.000000   0.000000  0.007692       0.0  0.023077  0.000000   \n",
       "676309  0.000000  0.000000   0.000000  0.000000       0.0  0.000000  0.000000   \n",
       "676310  0.000000  0.005682   0.000000  0.005682       0.0  0.005682  0.000000   \n",
       "676311  0.006623  0.000000   0.000000  0.013245       0.0  0.013245  0.000000   \n",
       "676312  0.005195  0.000000   0.000000  0.002597       0.0  0.015584  0.002597   \n",
       "\n",
       "       fw_mine  fw_under   fw_even  \n",
       "0          0.0       0.0  0.000000  \n",
       "1          0.0       0.0  0.000000  \n",
       "2          0.0       0.0  0.004762  \n",
       "3          0.0       0.0  0.002169  \n",
       "4          0.0       0.0  0.000000  \n",
       "...        ...       ...       ...  \n",
       "676308     0.0       0.0  0.000000  \n",
       "676309     0.0       0.0  0.000000  \n",
       "676310     0.0       0.0  0.000000  \n",
       "676311     0.0       0.0  0.000000  \n",
       "676312     0.0       0.0  0.002597  \n",
       "\n",
       "[676313 rows x 168 columns]"
      ]
     },
     "execution_count": 4,
     "metadata": {},
     "output_type": "execute_result"
    }
   ],
   "source": [
    "# Note: We call this df_train for memory issues\n",
    "df_train = pd.read_csv(data_filename).dropna()\n",
    "df_train = df_train.sample(frac=1).reset_index(drop=True)\n",
    "df_train"
   ]
  },
  {
   "cell_type": "markdown",
   "metadata": {},
   "source": [
    "### Filter and split into train and test set"
   ]
  },
  {
   "cell_type": "code",
   "execution_count": 5,
   "metadata": {
    "scrolled": true
   },
   "outputs": [],
   "source": [
    "df_test = df_train[ df_train['TrainTest'] == 'test' ]\n",
    "\n",
    "# df_male = df_test[ df_test['Gender'] == 'male' ][:5000]\n",
    "# df_female = df_test[ df_test['Gender'] == 'female' ][:5000]\n",
    "# df_test = df_male.append(df_female, ignore_index=True)\n",
    "\n",
    "y_test = df_test['Gender']\n",
    "df_test = df_test.drop(['TrainTest', 'Gender', 'PostID'], axis=1)\n",
    "\n",
    "df_train = df_train[ df_train['TrainTest'] == 'train' ]\n",
    "\n",
    "# df_male = df_train[ df_train['Gender'] == 'male' ][:5000]\n",
    "# df_female = df_train[ df_train['Gender'] == 'female' ][:5000]\n",
    "# df_train = df_male.append(df_female, ignore_index=True)\n",
    "\n",
    "y_train = df_train['Gender']\n",
    "df_train = df_train.drop(['TrainTest', 'Gender', 'PostID'], axis=1)"
   ]
  },
  {
   "cell_type": "markdown",
   "metadata": {},
   "source": [
    "### Check how many train and test items there are"
   ]
  },
  {
   "cell_type": "code",
   "execution_count": 6,
   "metadata": {},
   "outputs": [
    {
     "name": "stdout",
     "output_type": "stream",
     "text": [
      "Number of TOTAL training examples: 537215\n",
      "Number of MALE training examples: 268572\n",
      "Number of FEMALE training examples: 268643\n",
      "\n",
      "Number of TOTAL testing examples: 139098\n",
      "Number of MALE testing examples: 74300\n",
      "Number of FEMALE testing examples: 64798\n"
     ]
    }
   ],
   "source": [
    "print('Number of TOTAL training examples: {0}'.format(df_train.shape[0]))\n",
    "print('Number of MALE training examples: {0}'.format(np.sum(y_train == 'male' )))\n",
    "print('Number of FEMALE training examples: {0}'.format(np.sum(y_train == 'female')))\n",
    "print()\n",
    "print('Number of TOTAL testing examples: {0}'.format(df_test.shape[0]))\n",
    "print('Number of MALE testing examples: {0}'.format(np.sum(y_test == 'male')))\n",
    "print('Number of FEMALE testing examples: {0}'.format(np.sum(y_test == 'female')))"
   ]
  },
  {
   "cell_type": "markdown",
   "metadata": {},
   "source": [
    "### Train the baseline"
   ]
  },
  {
   "cell_type": "code",
   "execution_count": 7,
   "metadata": {
    "scrolled": true
   },
   "outputs": [
    {
     "name": "stderr",
     "output_type": "stream",
     "text": [
      "[Parallel(n_jobs=-1)]: Using backend LokyBackend with 8 concurrent workers.\n",
      "[Parallel(n_jobs=-1)]: Done   1 out of   1 | elapsed:    4.9s finished\n"
     ]
    },
    {
     "data": {
      "text/plain": [
       "LogisticRegression(C=9.50814306409916, class_weight=None, dual=False,\n",
       "                   fit_intercept=True, intercept_scaling=1, l1_ratio=None,\n",
       "                   max_iter=100, multi_class='auto', n_jobs=-1, penalty='l2',\n",
       "                   random_state=42, solver='newton-cg', tol=0.0001, verbose=1,\n",
       "                   warm_start=False)"
      ]
     },
     "execution_count": 7,
     "metadata": {},
     "output_type": "execute_result"
    }
   ],
   "source": [
    "# Tune hyperparmeters by sklearn's random search\n",
    "param_distributions =  {\"C\": uniform(0.001, 10)}\n",
    "\n",
    "lr = LogisticRegression(penalty='l2', tol=0.0001, C=1.0,\n",
    "                        fit_intercept=True, class_weight=None,\n",
    "                        random_state=42, solver='newton-cg', max_iter=100, multi_class='auto',\n",
    "                        verbose=1, warm_start=False, n_jobs=-1, l1_ratio=None)\n",
    "\n",
    "# random search trough the hyperparameters\n",
    "clf_search_cv = RandomizedSearchCV(lr,\n",
    "                                    param_distributions,\n",
    "                                    iid=False,\n",
    "                                    n_iter=20,\n",
    "                                    n_jobs=2,\n",
    "                                    pre_dispatch='2*n_jobs',\n",
    "                                    cv=5,\n",
    "                                    refit=True,\n",
    "                                    verbose=False, \n",
    "                                    random_state=42,\n",
    "                                    return_train_score=False\n",
    "                                   )\n",
    "\n",
    "clf_search_cv.fit(df_train.iloc[:10000], y_train[:10000])\n",
    "\n",
    "lr = clf_search_cv.best_estimator_\n",
    "lr"
   ]
  },
  {
   "cell_type": "code",
   "execution_count": 8,
   "metadata": {},
   "outputs": [
    {
     "name": "stderr",
     "output_type": "stream",
     "text": [
      "[Parallel(n_jobs=-1)]: Using backend LokyBackend with 8 concurrent workers.\n",
      "[Parallel(n_jobs=-1)]: Done   1 out of   1 | elapsed: 32.2min finished\n"
     ]
    },
    {
     "data": {
      "text/plain": [
       "['TrainedModels/Baseline.bin']"
      ]
     },
     "execution_count": 8,
     "metadata": {},
     "output_type": "execute_result"
    }
   ],
   "source": [
    "# Train it\n",
    "lr.fit(df_train, y_train)\n",
    "dump(lr, baseline_model_filename)"
   ]
  },
  {
   "cell_type": "markdown",
   "metadata": {},
   "source": [
    "### Evaluate the baseline"
   ]
  },
  {
   "cell_type": "code",
   "execution_count": 7,
   "metadata": {},
   "outputs": [
    {
     "name": "stdout",
     "output_type": "stream",
     "text": [
      "              precision    recall  f1-score   support\n",
      "\n",
      "      female       0.58      0.57      0.57     64798\n",
      "        male       0.63      0.64      0.63     74300\n",
      "\n",
      "    accuracy                           0.60    139098\n",
      "   macro avg       0.60      0.60      0.60    139098\n",
      "weighted avg       0.60      0.60      0.60    139098\n",
      "\n"
     ]
    },
    {
     "data": {
      "image/png": "[encoded data removed]",
      "text/plain": [
       "<Figure size 432x288 with 2 Axes>"
      ]
     },
     "metadata": {
      "needs_background": "light"
     },
     "output_type": "display_data"
    },
    {
     "name": "stdout",
     "output_type": "stream",
     "text": [
      "[[36731 28067]\n",
      " [27108 47192]]\n"
     ]
    }
   ],
   "source": [
    "lr = load(baseline_model_filename)\n",
    "predictions = lr.predict(df_test)\n",
    "print(metrics.classification_report(y_test, predictions))\n",
    "plot_confusion_matrix(targets=y_test, predicted=predictions, labels=['male', 'female'])\n",
    "print(metrics.confusion_matrix(y_test, predictions))"
   ]
  },
  {
   "cell_type": "markdown",
   "metadata": {},
   "source": [
    "### Train the main model"
   ]
  },
  {
   "cell_type": "code",
   "execution_count": 8,
   "metadata": {},
   "outputs": [
    {
     "name": "stdout",
     "output_type": "stream",
     "text": [
      "Fitting 3 folds for each of 30 candidates, totalling 90 fits\n"
     ]
    },
    {
     "name": "stderr",
     "output_type": "stream",
     "text": [
      "[Parallel(n_jobs=-1)]: Using backend LokyBackend with 8 concurrent workers.\n",
      "[Parallel(n_jobs=-1)]: Done  34 tasks      | elapsed:  1.5min\n",
      "[Parallel(n_jobs=-1)]: Done  90 out of  90 | elapsed:  1.7min finished\n",
      "/home/danielcauchi/miniconda3/envs/nlp/lib/python3.7/site-packages/sklearn/neural_network/multilayer_perceptron.py:350: UserWarning: Got `batch_size` less than 1 or larger than sample size. It is going to be clipped\n",
      "  warnings.warn(\"Got `batch_size` less than 1 or larger than \"\n"
     ]
    },
    {
     "data": {
      "text/plain": [
       "MLPClassifier(activation='relu', alpha=0.018192496720710064, batch_size=10000,\n",
       "              beta_1=0.9, beta_2=0.999, early_stopping=True, epsilon=1e-08,\n",
       "              hidden_layer_sizes=(265,), learning_rate='constant',\n",
       "              learning_rate_init=0.01844045098534338, max_iter=100,\n",
       "              momentum=0.8, n_iter_no_change=10, nesterovs_momentum=True,\n",
       "              power_t=0.5, random_state=42, shuffle=True, solver='adam',\n",
       "              tol=0.0001, validation_fraction=0.2, verbose=False,\n",
       "              warm_start=False)"
      ]
     },
     "execution_count": 8,
     "metadata": {},
     "output_type": "execute_result"
    }
   ],
   "source": [
    "# Tune hyperparmeters by sklearn's random search\n",
    "param_distributions =  {'learning_rate_init': uniform(0.0001, 0.1),\n",
    "                       'alpha': uniform(0.00001, 0.1)}\n",
    "\n",
    "mlp = MLPClassifier (hidden_layer_sizes=(df_train.shape[1]+100, ),\n",
    "                     activation='relu',\n",
    "                     solver='adam', alpha=0.0001, batch_size=10000,\n",
    "                     learning_rate='constant', learning_rate_init=0.001,\n",
    "                     max_iter=100, shuffle=True, random_state=42,\n",
    "                     tol=0.0001, verbose=False, warm_start=False, momentum=0.8,\n",
    "                     early_stopping=True, validation_fraction=0.2,\n",
    "                     beta_1=0.9, beta_2=0.999, epsilon=1e-08, n_iter_no_change=10)\n",
    "# random search trough the hyperparameters\n",
    "clf_search_cv = RandomizedSearchCV(mlp,\n",
    "                                    param_distributions,\n",
    "                                    iid=False,\n",
    "                                    n_iter=30,\n",
    "                                    n_jobs=-1,\n",
    "                                    pre_dispatch='2*n_jobs',\n",
    "                                    cv=3,\n",
    "                                    refit=True,\n",
    "                                    verbose=True, \n",
    "                                    random_state=42,\n",
    "                                    return_train_score=False\n",
    "                                   )\n",
    "\n",
    "clf_search_cv.fit(df_train.iloc[:1000],\n",
    "                  y_train[:1000])\n",
    "\n",
    "mlp = clf_search_cv.best_estimator_\n",
    "mlp"
   ]
  },
  {
   "cell_type": "code",
   "execution_count": 9,
   "metadata": {
    "scrolled": true
   },
   "outputs": [
    {
     "name": "stdout",
     "output_type": "stream",
     "text": [
      "Iteration 1, loss = inf\n",
      "Validation score: 0.499930\n",
      "Iteration 2, loss = inf\n",
      "Validation score: 0.502434\n",
      "Iteration 3, loss = inf\n",
      "Validation score: 0.499930\n",
      "Iteration 4, loss = inf\n",
      "Validation score: 0.500209\n",
      "Iteration 5, loss = inf\n",
      "Validation score: 0.500033\n",
      "Iteration 6, loss = inf\n",
      "Validation score: 0.529108\n",
      "Iteration 7, loss = inf\n",
      "Validation score: 0.525832\n",
      "Iteration 8, loss = inf\n",
      "Validation score: 0.511108\n",
      "Iteration 9, loss = inf\n",
      "Validation score: 0.510671\n",
      "Iteration 10, loss = inf\n",
      "Validation score: 0.514850\n",
      "Iteration 11, loss = inf\n",
      "Validation score: 0.545340\n",
      "Iteration 12, loss = inf\n",
      "Validation score: 0.534051\n",
      "Iteration 13, loss = inf\n",
      "Validation score: 0.504212\n",
      "Iteration 14, loss = inf\n",
      "Validation score: 0.543991\n",
      "Iteration 15, loss = inf\n",
      "Validation score: 0.540342\n",
      "Iteration 16, loss = inf\n",
      "Validation score: 0.574928\n",
      "Iteration 17, loss = inf\n",
      "Validation score: 0.511676\n",
      "Iteration 18, loss = inf\n",
      "Validation score: 0.563275\n",
      "Iteration 19, loss = inf\n",
      "Validation score: 0.574844\n",
      "Iteration 20, loss = inf\n",
      "Validation score: 0.574649\n",
      "Iteration 21, loss = inf\n",
      "Validation score: 0.553010\n",
      "Iteration 22, loss = inf\n",
      "Validation score: 0.556025\n",
      "Iteration 23, loss = 0.68704372\n",
      "Validation score: 0.555159\n",
      "Iteration 24, loss = inf\n",
      "Validation score: 0.582839\n",
      "Iteration 25, loss = inf\n",
      "Validation score: 0.572694\n",
      "Iteration 26, loss = inf\n",
      "Validation score: 0.579712\n",
      "Iteration 27, loss = inf\n",
      "Validation score: 0.574537\n",
      "Iteration 28, loss = inf\n",
      "Validation score: 0.561944\n",
      "Iteration 29, loss = inf\n",
      "Validation score: 0.583705\n",
      "Iteration 30, loss = inf\n",
      "Validation score: 0.509247\n",
      "Iteration 31, loss = inf\n",
      "Validation score: 0.525944\n",
      "Iteration 32, loss = inf\n",
      "Validation score: 0.542632\n",
      "Iteration 33, loss = inf\n",
      "Validation score: 0.553847\n",
      "Iteration 34, loss = inf\n",
      "Validation score: 0.516404\n",
      "Iteration 35, loss = inf\n",
      "Validation score: 0.524129\n",
      "Iteration 36, loss = inf\n",
      "Validation score: 0.546318\n",
      "Iteration 37, loss = inf\n",
      "Validation score: 0.553372\n",
      "Iteration 38, loss = inf\n",
      "Validation score: 0.523180\n",
      "Iteration 39, loss = inf\n",
      "Validation score: 0.532887\n",
      "Iteration 40, loss = inf\n",
      "Validation score: 0.552274\n",
      "Iteration 41, loss = inf\n",
      "Validation score: 0.561647\n",
      "Iteration 42, loss = inf\n",
      "Validation score: 0.519987\n",
      "Iteration 43, loss = inf\n",
      "Validation score: 0.525479\n",
      "Iteration 44, loss = inf\n",
      "Validation score: 0.558706\n",
      "Iteration 45, loss = inf\n",
      "Validation score: 0.573206\n",
      "Iteration 46, loss = inf\n",
      "Validation score: 0.529444\n",
      "Iteration 47, loss = inf\n",
      "Validation score: 0.588749\n",
      "Iteration 48, loss = inf\n",
      "Validation score: 0.561526\n",
      "Iteration 49, loss = inf\n",
      "Validation score: 0.569856\n",
      "Iteration 50, loss = inf\n",
      "Validation score: 0.584124\n",
      "Iteration 51, loss = inf\n",
      "Validation score: 0.582030\n",
      "Iteration 52, loss = 0.67903673\n",
      "Validation score: 0.590648\n",
      "Iteration 53, loss = inf\n",
      "Validation score: 0.589326\n",
      "Iteration 54, loss = inf\n",
      "Validation score: 0.591290\n",
      "Iteration 55, loss = inf\n",
      "Validation score: 0.591002\n",
      "Iteration 56, loss = inf\n",
      "Validation score: 0.574807\n",
      "Iteration 57, loss = inf\n",
      "Validation score: 0.593673\n",
      "Iteration 58, loss = inf\n",
      "Validation score: 0.592966\n",
      "Iteration 59, loss = inf\n",
      "Validation score: 0.593356\n",
      "Iteration 60, loss = inf\n",
      "Validation score: 0.594538\n",
      "Iteration 61, loss = inf\n",
      "Validation score: 0.583379\n",
      "Iteration 62, loss = inf\n",
      "Validation score: 0.584543\n",
      "Iteration 63, loss = inf\n",
      "Validation score: 0.576492\n",
      "Iteration 64, loss = inf\n",
      "Validation score: 0.595237\n",
      "Iteration 65, loss = inf\n",
      "Validation score: 0.563899\n",
      "Iteration 66, loss = inf\n",
      "Validation score: 0.594780\n",
      "Iteration 67, loss = inf\n",
      "Validation score: 0.595553\n",
      "Iteration 68, loss = inf\n",
      "Validation score: 0.580215\n",
      "Iteration 69, loss = inf\n",
      "Validation score: 0.592631\n",
      "Iteration 70, loss = inf\n",
      "Validation score: 0.585501\n",
      "Iteration 71, loss = 0.67607348\n",
      "Validation score: 0.597191\n",
      "Iteration 72, loss = inf\n",
      "Validation score: 0.595776\n",
      "Iteration 73, loss = inf\n",
      "Validation score: 0.581024\n",
      "Iteration 74, loss = inf\n",
      "Validation score: 0.579545\n",
      "Iteration 75, loss = inf\n",
      "Validation score: 0.585520\n",
      "Iteration 76, loss = inf\n",
      "Validation score: 0.578921\n",
      "Iteration 77, loss = inf\n",
      "Validation score: 0.579358\n",
      "Iteration 78, loss = inf\n",
      "Validation score: 0.593757\n",
      "Iteration 79, loss = inf\n",
      "Validation score: 0.563434\n",
      "Iteration 80, loss = inf\n",
      "Validation score: 0.568999\n",
      "Iteration 81, loss = inf\n",
      "Validation score: 0.560251\n",
      "Iteration 82, loss = inf\n",
      "Validation score: 0.583258\n",
      "Iteration 83, loss = inf\n",
      "Validation score: 0.586497\n",
      "Iteration 84, loss = inf\n",
      "Validation score: 0.570870\n",
      "Iteration 85, loss = inf\n",
      "Validation score: 0.572955\n",
      "Iteration 86, loss = inf\n",
      "Validation score: 0.578027\n",
      "Iteration 87, loss = inf\n",
      "Validation score: 0.573997\n",
      "Iteration 88, loss = inf\n",
      "Validation score: 0.566403\n",
      "Iteration 89, loss = inf\n",
      "Validation score: 0.581955\n",
      "Iteration 90, loss = inf\n",
      "Validation score: 0.591272\n",
      "Iteration 91, loss = inf\n",
      "Validation score: 0.597024\n",
      "Iteration 92, loss = inf\n",
      "Validation score: 0.599025\n",
      "Iteration 93, loss = inf\n",
      "Validation score: 0.593961\n",
      "Iteration 94, loss = inf\n",
      "Validation score: 0.591951\n",
      "Iteration 95, loss = inf\n",
      "Validation score: 0.576641\n",
      "Iteration 96, loss = inf\n",
      "Validation score: 0.574900\n",
      "Iteration 97, loss = inf\n",
      "Validation score: 0.580122\n",
      "Iteration 98, loss = inf\n",
      "Validation score: 0.575645\n",
      "Iteration 99, loss = inf\n",
      "Validation score: 0.582923\n",
      "Iteration 100, loss = inf\n",
      "Validation score: 0.598317\n",
      "Iteration 101, loss = inf\n",
      "Validation score: 0.581173\n",
      "Iteration 102, loss = inf\n",
      "Validation score: 0.597656\n",
      "Iteration 103, loss = inf\n",
      "Validation score: 0.585901\n",
      "Iteration 104, loss = inf\n",
      "Validation score: 0.574156\n",
      "Iteration 105, loss = inf\n",
      "Validation score: 0.569465\n",
      "Iteration 106, loss = inf\n",
      "Validation score: 0.560306\n",
      "Iteration 107, loss = inf\n",
      "Validation score: 0.567222\n",
      "Iteration 108, loss = inf\n",
      "Validation score: 0.576464\n",
      "Iteration 109, loss = inf\n",
      "Validation score: 0.579200\n",
      "Iteration 110, loss = inf\n",
      "Validation score: 0.596223\n",
      "Iteration 111, loss = inf\n",
      "Validation score: 0.590620\n",
      "Iteration 112, loss = inf\n",
      "Validation score: 0.569539\n",
      "Iteration 113, loss = inf\n",
      "Validation score: 0.567948\n",
      "Iteration 114, loss = inf\n",
      "Validation score: 0.601928\n",
      "Iteration 115, loss = inf\n",
      "Validation score: 0.581229\n",
      "Iteration 116, loss = inf\n",
      "Validation score: 0.568795\n",
      "Iteration 117, loss = inf\n",
      "Validation score: 0.600244\n",
      "Iteration 118, loss = inf\n",
      "Validation score: 0.590481\n",
      "Iteration 119, loss = inf\n",
      "Validation score: 0.601230\n",
      "Iteration 120, loss = inf\n",
      "Validation score: 0.586795\n",
      "Iteration 121, loss = inf\n",
      "Validation score: 0.574602\n",
      "Iteration 122, loss = inf\n",
      "Validation score: 0.587679\n",
      "Iteration 123, loss = inf\n",
      "Validation score: 0.600588\n",
      "Iteration 124, loss = inf\n",
      "Validation score: 0.603911\n",
      "Iteration 125, loss = inf\n",
      "Validation score: 0.573848\n",
      "Iteration 126, loss = inf\n",
      "Validation score: 0.578530\n",
      "Iteration 127, loss = inf\n",
      "Validation score: 0.596735\n",
      "Iteration 128, loss = inf\n",
      "Validation score: 0.599397\n",
      "Iteration 129, loss = inf\n",
      "Validation score: 0.576389\n",
      "Iteration 130, loss = inf\n",
      "Validation score: 0.570526\n",
      "Iteration 131, loss = inf\n",
      "Validation score: 0.583454\n",
      "Iteration 132, loss = inf\n",
      "Validation score: 0.591383\n",
      "Iteration 133, loss = inf\n",
      "Validation score: 0.598773\n",
      "Iteration 134, loss = inf\n",
      "Validation score: 0.596614\n",
      "Iteration 135, loss = inf\n",
      "Validation score: 0.602189\n",
      "Iteration 136, loss = inf\n",
      "Validation score: 0.601389\n",
      "Iteration 137, loss = inf\n",
      "Validation score: 0.602971\n",
      "Iteration 138, loss = inf\n",
      "Validation score: 0.602896\n",
      "Iteration 139, loss = inf\n",
      "Validation score: 0.604879\n",
      "Iteration 140, loss = inf\n",
      "Validation score: 0.590927\n",
      "Iteration 141, loss = inf\n",
      "Validation score: 0.600123\n",
      "Iteration 142, loss = inf\n",
      "Validation score: 0.603194\n",
      "Iteration 143, loss = inf\n",
      "Validation score: 0.564457\n",
      "Iteration 144, loss = inf\n",
      "Validation score: 0.580717\n",
      "Iteration 145, loss = inf\n",
      "Validation score: 0.604190\n",
      "Iteration 146, loss = inf\n",
      "Validation score: 0.594995\n",
      "Iteration 147, loss = inf\n",
      "Validation score: 0.582420\n",
      "Iteration 148, loss = inf\n",
      "Validation score: 0.584775\n",
      "Iteration 149, loss = inf\n",
      "Validation score: 0.598624\n",
      "Iteration 150, loss = 0.66868994\n",
      "Validation score: 0.602440\n",
      "Iteration 151, loss = 0.66749293\n",
      "Validation score: 0.596512\n",
      "Iteration 152, loss = inf\n",
      "Validation score: 0.604693\n",
      "Iteration 153, loss = 0.66953485\n",
      "Validation score: 0.604609\n",
      "Iteration 154, loss = inf\n",
      "Validation score: 0.606005\n",
      "Iteration 155, loss = inf\n",
      "Validation score: 0.587763\n",
      "Iteration 156, loss = 0.67448009\n",
      "Validation score: 0.575915\n"
     ]
    },
    {
     "name": "stdout",
     "output_type": "stream",
     "text": [
      "Iteration 157, loss = inf\n",
      "Validation score: 0.588377\n",
      "Iteration 158, loss = inf\n",
      "Validation score: 0.603762\n",
      "Iteration 159, loss = inf\n",
      "Validation score: 0.581052\n",
      "Iteration 160, loss = inf\n",
      "Validation score: 0.573969\n",
      "Iteration 161, loss = inf\n",
      "Validation score: 0.575124\n",
      "Iteration 162, loss = inf\n",
      "Validation score: 0.599183\n",
      "Iteration 163, loss = inf\n",
      "Validation score: 0.580066\n",
      "Iteration 164, loss = inf\n",
      "Validation score: 0.604088\n",
      "Iteration 165, loss = inf\n",
      "Validation score: 0.597498\n",
      "Iteration 166, loss = 0.66523437\n",
      "Validation score: 0.602748\n",
      "Iteration 167, loss = inf\n",
      "Validation score: 0.598615\n",
      "Iteration 168, loss = inf\n",
      "Validation score: 0.566896\n",
      "Iteration 169, loss = inf\n",
      "Validation score: 0.576306\n",
      "Iteration 170, loss = inf\n",
      "Validation score: 0.601156\n",
      "Iteration 171, loss = inf\n",
      "Validation score: 0.606024\n",
      "Iteration 172, loss = inf\n",
      "Validation score: 0.600830\n",
      "Iteration 173, loss = inf\n",
      "Validation score: 0.596456\n",
      "Iteration 174, loss = inf\n",
      "Validation score: 0.600262\n",
      "Iteration 175, loss = 0.66670512\n",
      "Validation score: 0.601919\n",
      "Iteration 176, loss = inf\n",
      "Validation score: 0.595432\n",
      "Iteration 177, loss = inf\n",
      "Validation score: 0.590620\n",
      "Iteration 178, loss = inf\n",
      "Validation score: 0.605093\n",
      "Iteration 179, loss = inf\n",
      "Validation score: 0.603771\n",
      "Iteration 180, loss = inf\n",
      "Validation score: 0.585343\n",
      "Iteration 181, loss = inf\n",
      "Validation score: 0.585268\n",
      "Iteration 182, loss = inf\n",
      "Validation score: 0.584114\n",
      "Iteration 183, loss = inf\n",
      "Validation score: 0.605251\n",
      "Iteration 184, loss = 0.66585006\n",
      "Validation score: 0.592128\n",
      "Iteration 185, loss = inf\n",
      "Validation score: 0.604116\n",
      "Validation score did not improve more than tol=0.000100 for 30 consecutive epochs. Stopping.\n"
     ]
    },
    {
     "data": {
      "text/plain": [
       "['TrainedModels/Final.bin']"
      ]
     },
     "execution_count": 9,
     "metadata": {},
     "output_type": "execute_result"
    }
   ],
   "source": [
    "# Train it\n",
    "mlp.max_iter=300\n",
    "mlp.n_iter_no_change=30\n",
    "mlp.batch_size=100000\n",
    "mlp.verbose = True\n",
    "mlp.fit(df_train, y_train)\n",
    "dump(mlp, final_model_filename)"
   ]
  },
  {
   "cell_type": "markdown",
   "metadata": {},
   "source": [
    "### Evaluate the Final"
   ]
  },
  {
   "cell_type": "code",
   "execution_count": 10,
   "metadata": {},
   "outputs": [
    {
     "name": "stdout",
     "output_type": "stream",
     "text": [
      "              precision    recall  f1-score   support\n",
      "\n",
      "      female       0.57      0.57      0.57     64798\n",
      "        male       0.62      0.62      0.62     74300\n",
      "\n",
      "    accuracy                           0.60    139098\n",
      "   macro avg       0.60      0.60      0.60    139098\n",
      "weighted avg       0.60      0.60      0.60    139098\n",
      "\n"
     ]
    },
    {
     "data": {
      "image/png": "[encoded data removed]",
      "text/plain": [
       "<Figure size 1080x648 with 2 Axes>"
      ]
     },
     "metadata": {
      "needs_background": "light"
     },
     "output_type": "display_data"
    },
    {
     "name": "stdout",
     "output_type": "stream",
     "text": [
      "[[37067 27731]\n",
      " [28352 45948]]\n"
     ]
    }
   ],
   "source": [
    "mlp = load(final_model_filename)\n",
    "predictions = mlp.predict(df_test)\n",
    "print(metrics.classification_report(y_test, predictions))\n",
    "plot_confusion_matrix(targets=y_test, predicted=predictions, labels=np.unique(y_test))\n",
    "print(metrics.confusion_matrix(y_test, predictions))"
   ]
  },
  {
   "cell_type": "markdown",
   "metadata": {},
   "source": [
    "### Train another model"
   ]
  },
  {
   "cell_type": "code",
   "execution_count": 11,
   "metadata": {},
   "outputs": [
    {
     "name": "stdout",
     "output_type": "stream",
     "text": [
      "Fitting 3 folds for each of 30 candidates, totalling 90 fits\n"
     ]
    },
    {
     "name": "stderr",
     "output_type": "stream",
     "text": [
      "[Parallel(n_jobs=-1)]: Using backend LokyBackend with 8 concurrent workers.\n",
      "[Parallel(n_jobs=-1)]: Done  34 tasks      | elapsed:   58.5s\n",
      "[Parallel(n_jobs=-1)]: Done  90 out of  90 | elapsed:  1.0min finished\n"
     ]
    },
    {
     "data": {
      "text/plain": [
       "SVC(C=10.656320330745594, cache_size=200, class_weight=None, coef0=0.0,\n",
       "    decision_function_shape='ovr', degree=3, gamma=0.04138040112561014,\n",
       "    kernel='rbf', max_iter=-1, probability=False, random_state=None,\n",
       "    shrinking=True, tol=0.001, verbose=False)"
      ]
     },
     "execution_count": 11,
     "metadata": {},
     "output_type": "execute_result"
    }
   ],
   "source": [
    "# Tune hyperparmeters by sklearn's random search\n",
    "param_distributions = {\"gamma\": reciprocal(0.001, 0.1), \"C\": uniform(1, 10)}\n",
    "\n",
    "svm = SVC('rbf')\n",
    "\n",
    "# random search trough the hyperparameters\n",
    "clf_search_cv = RandomizedSearchCV(svm,\n",
    "                                    param_distributions,\n",
    "                                    iid=False,\n",
    "                                    n_iter=30,\n",
    "                                    n_jobs=-1,\n",
    "                                    pre_dispatch='2*n_jobs',\n",
    "                                    cv=3,\n",
    "                                    refit=True,\n",
    "                                    verbose=True, \n",
    "                                    random_state=42,\n",
    "                                    return_train_score=False\n",
    "                                   )\n",
    "\n",
    "clf_search_cv.fit(df_train.iloc[:1000],\n",
    "                  y_train[:1000])\n",
    "\n",
    "svm = clf_search_cv.best_estimator_\n",
    "svm"
   ]
  },
  {
   "cell_type": "code",
   "execution_count": 12,
   "metadata": {},
   "outputs": [
    {
     "name": "stdout",
     "output_type": "stream",
     "text": [
      "[LibSVM]"
     ]
    },
    {
     "name": "stderr",
     "output_type": "stream",
     "text": [
      "/home/danielcauchi/miniconda3/envs/nlp/lib/python3.7/site-packages/sklearn/svm/base.py:241: ConvergenceWarning: Solver terminated early (max_iter=1000).  Consider pre-processing your data with StandardScaler or MinMaxScaler.\n",
      "  % self.max_iter, ConvergenceWarning)\n"
     ]
    },
    {
     "data": {
      "text/plain": [
       "['TrainedModels/SVM.bin']"
      ]
     },
     "execution_count": 12,
     "metadata": {},
     "output_type": "execute_result"
    }
   ],
   "source": [
    "# Train it\n",
    "svm.max_iter=1000\n",
    "svm.verbose = True\n",
    "svm.fit(df_train, y_train)\n",
    "dump(svm, svm_model_filename)"
   ]
  },
  {
   "cell_type": "markdown",
   "metadata": {},
   "source": [
    "### Evaluate the Final"
   ]
  },
  {
   "cell_type": "code",
   "execution_count": 13,
   "metadata": {},
   "outputs": [
    {
     "name": "stdout",
     "output_type": "stream",
     "text": [
      "              precision    recall  f1-score   support\n",
      "\n",
      "      female       0.47      0.98      0.63     64798\n",
      "        male       0.49      0.01      0.03     74300\n",
      "\n",
      "    accuracy                           0.47    139098\n",
      "   macro avg       0.48      0.50      0.33    139098\n",
      "weighted avg       0.48      0.47      0.31    139098\n",
      "\n"
     ]
    },
    {
     "data": {
      "image/png": "[encoded data removed]",
      "text/plain": [
       "<Figure size 1080x648 with 2 Axes>"
      ]
     },
     "metadata": {
      "needs_background": "light"
     },
     "output_type": "display_data"
    },
    {
     "name": "stdout",
     "output_type": "stream",
     "text": [
      "[[63768  1030]\n",
      " [73321   979]]\n"
     ]
    }
   ],
   "source": [
    "svm = load(svm_model_filename)\n",
    "predictions = svm.predict(df_test)\n",
    "print(metrics.classification_report(y_test, predictions))\n",
    "plot_confusion_matrix(targets=y_test, predicted=predictions, labels=np.unique(y_test))\n",
    "print(metrics.confusion_matrix(y_test, predictions))"
   ]
  }
 ],
 "metadata": {
  "kernelspec": {
   "display_name": "Python 3",
   "language": "python",
   "name": "python3"
  },
  "language_info": {
   "codemirror_mode": {
    "name": "ipython",
    "version": 3
   },
   "file_extension": ".py",
   "mimetype": "text/x-python",
   "name": "python",
   "nbconvert_exporter": "python",
   "pygments_lexer": "ipython3",
   "version": "3.7.3"
  }
 },
 "nbformat": 4,
 "nbformat_minor": 2
}
