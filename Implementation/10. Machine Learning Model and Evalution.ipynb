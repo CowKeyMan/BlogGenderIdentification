{
 "cells": [
  {
   "cell_type": "markdown",
   "metadata": {},
   "source": [
    "# 10. Machine Learning Model and Evaluation"
   ]
  },
  {
   "cell_type": "markdown",
   "metadata": {},
   "source": [
    "#### This script trains a baseline and 'main' model on the training data and evaluates them on the test set"
   ]
  },
  {
   "cell_type": "markdown",
   "metadata": {},
   "source": [
    "### Imports"
   ]
  },
  {
   "cell_type": "code",
   "execution_count": 1,
   "metadata": {},
   "outputs": [],
   "source": [
    "import pandas as pd\n",
    "import sklearn\n",
    "import numpy as np\n",
    "from sklearn.linear_model import LogisticRegression\n",
    "from sklearn.neural_network import MLPClassifier\n",
    "from sklearn.model_selection import RandomizedSearchCV\n",
    "from sklearn import metrics\n",
    "from scipy.stats import reciprocal, uniform\n",
    "from joblib import dump, load\n",
    "import seaborn as sns\n",
    "import matplotlib.pyplot as plt"
   ]
  },
  {
   "cell_type": "markdown",
   "metadata": {},
   "source": [
    "### Definitions"
   ]
  },
  {
   "cell_type": "code",
   "execution_count": 2,
   "metadata": {},
   "outputs": [],
   "source": [
    "data_filename = 'data/MachineLearningData.csv'\n",
    "\n",
    "baseline_model_filename = 'TrainedModels/Baseline.bin'\n",
    "final_model_filename = 'TrainedModels/Final.bin'"
   ]
  },
  {
   "cell_type": "markdown",
   "metadata": {},
   "source": [
    "### Defining helper function"
   ]
  },
  {
   "cell_type": "code",
   "execution_count": 3,
   "metadata": {},
   "outputs": [],
   "source": [
    "def plot_confusion_matrix(targets = [], predicted = [], labels = []):\n",
    "    cm = metrics.confusion_matrix(targets, predicted)\n",
    "    cm = cm.astype('float') / cm.sum(axis=1)[:, np.newaxis] # normalize confusion matrix\n",
    "    sns.heatmap(cm, annot=True, fmt='.2f', xticklabels=labels, yticklabels=labels)\n",
    "    plt.ylabel('Actual')\n",
    "    plt.xlabel('Predicted')\n",
    "    plt.rcParams[\"figure.figsize\"] =  [15, 9]\n",
    "    plt.show(block=False)"
   ]
  },
  {
   "cell_type": "markdown",
   "metadata": {},
   "source": [
    "### Load Dataframe"
   ]
  },
  {
   "cell_type": "code",
   "execution_count": 4,
   "metadata": {},
   "outputs": [
    {
     "data": {
      "text/html": [
       "<div>\n",
       "<style scoped>\n",
       "    .dataframe tbody tr th:only-of-type {\n",
       "        vertical-align: middle;\n",
       "    }\n",
       "\n",
       "    .dataframe tbody tr th {\n",
       "        vertical-align: top;\n",
       "    }\n",
       "\n",
       "    .dataframe thead th {\n",
       "        text-align: right;\n",
       "    }\n",
       "</style>\n",
       "<table border=\"1\" class=\"dataframe\">\n",
       "  <thead>\n",
       "    <tr style=\"text-align: right;\">\n",
       "      <th></th>\n",
       "      <th>PostID</th>\n",
       "      <th>WordCount</th>\n",
       "      <th>SentenceCount</th>\n",
       "      <th>AvgWordLength</th>\n",
       "      <th>AvgSentenceLength</th>\n",
       "      <th>UniqueWordsPercentage</th>\n",
       "      <th>URLCount</th>\n",
       "      <th>ableWords</th>\n",
       "      <th>alWords</th>\n",
       "      <th>fulWords</th>\n",
       "      <th>...</th>\n",
       "      <th>fw_by</th>\n",
       "      <th>fw_these</th>\n",
       "      <th>fw_second</th>\n",
       "      <th>fw_do</th>\n",
       "      <th>fw_shall</th>\n",
       "      <th>fw_of</th>\n",
       "      <th>fw_most</th>\n",
       "      <th>fw_mine</th>\n",
       "      <th>fw_under</th>\n",
       "      <th>fw_even</th>\n",
       "    </tr>\n",
       "  </thead>\n",
       "  <tbody>\n",
       "    <tr>\n",
       "      <td>0</td>\n",
       "      <td>108592.0</td>\n",
       "      <td>9</td>\n",
       "      <td>1</td>\n",
       "      <td>6.888889</td>\n",
       "      <td>9.000000</td>\n",
       "      <td>1.000000</td>\n",
       "      <td>0.111111</td>\n",
       "      <td>0.000000</td>\n",
       "      <td>0.111111</td>\n",
       "      <td>0.0</td>\n",
       "      <td>...</td>\n",
       "      <td>0.000000</td>\n",
       "      <td>0.0</td>\n",
       "      <td>0.0</td>\n",
       "      <td>0.0</td>\n",
       "      <td>0.0</td>\n",
       "      <td>0.111111</td>\n",
       "      <td>0.0</td>\n",
       "      <td>0.0</td>\n",
       "      <td>0.0</td>\n",
       "      <td>0.0</td>\n",
       "    </tr>\n",
       "    <tr>\n",
       "      <td>1</td>\n",
       "      <td>318830.0</td>\n",
       "      <td>151</td>\n",
       "      <td>12</td>\n",
       "      <td>3.920530</td>\n",
       "      <td>12.583333</td>\n",
       "      <td>0.768212</td>\n",
       "      <td>0.000000</td>\n",
       "      <td>0.000000</td>\n",
       "      <td>0.000000</td>\n",
       "      <td>0.0</td>\n",
       "      <td>...</td>\n",
       "      <td>0.000000</td>\n",
       "      <td>0.0</td>\n",
       "      <td>0.0</td>\n",
       "      <td>0.0</td>\n",
       "      <td>0.0</td>\n",
       "      <td>0.005618</td>\n",
       "      <td>0.0</td>\n",
       "      <td>0.0</td>\n",
       "      <td>0.0</td>\n",
       "      <td>0.0</td>\n",
       "    </tr>\n",
       "    <tr>\n",
       "      <td>2</td>\n",
       "      <td>603927.0</td>\n",
       "      <td>26</td>\n",
       "      <td>1</td>\n",
       "      <td>4.538462</td>\n",
       "      <td>26.000000</td>\n",
       "      <td>0.961538</td>\n",
       "      <td>0.038462</td>\n",
       "      <td>0.000000</td>\n",
       "      <td>0.000000</td>\n",
       "      <td>0.0</td>\n",
       "      <td>...</td>\n",
       "      <td>0.000000</td>\n",
       "      <td>0.0</td>\n",
       "      <td>0.0</td>\n",
       "      <td>0.0</td>\n",
       "      <td>0.0</td>\n",
       "      <td>0.000000</td>\n",
       "      <td>0.0</td>\n",
       "      <td>0.0</td>\n",
       "      <td>0.0</td>\n",
       "      <td>0.0</td>\n",
       "    </tr>\n",
       "    <tr>\n",
       "      <td>3</td>\n",
       "      <td>458516.0</td>\n",
       "      <td>114</td>\n",
       "      <td>15</td>\n",
       "      <td>3.526316</td>\n",
       "      <td>7.600000</td>\n",
       "      <td>0.692982</td>\n",
       "      <td>0.000000</td>\n",
       "      <td>0.000000</td>\n",
       "      <td>0.000000</td>\n",
       "      <td>0.0</td>\n",
       "      <td>...</td>\n",
       "      <td>0.000000</td>\n",
       "      <td>0.0</td>\n",
       "      <td>0.0</td>\n",
       "      <td>0.0</td>\n",
       "      <td>0.0</td>\n",
       "      <td>0.014925</td>\n",
       "      <td>0.0</td>\n",
       "      <td>0.0</td>\n",
       "      <td>0.0</td>\n",
       "      <td>0.0</td>\n",
       "    </tr>\n",
       "    <tr>\n",
       "      <td>4</td>\n",
       "      <td>275544.0</td>\n",
       "      <td>5</td>\n",
       "      <td>1</td>\n",
       "      <td>4.800000</td>\n",
       "      <td>5.000000</td>\n",
       "      <td>0.800000</td>\n",
       "      <td>0.400000</td>\n",
       "      <td>0.000000</td>\n",
       "      <td>0.000000</td>\n",
       "      <td>0.0</td>\n",
       "      <td>...</td>\n",
       "      <td>0.000000</td>\n",
       "      <td>0.0</td>\n",
       "      <td>0.0</td>\n",
       "      <td>0.0</td>\n",
       "      <td>0.0</td>\n",
       "      <td>0.000000</td>\n",
       "      <td>0.0</td>\n",
       "      <td>0.0</td>\n",
       "      <td>0.0</td>\n",
       "      <td>0.0</td>\n",
       "    </tr>\n",
       "    <tr>\n",
       "      <td>...</td>\n",
       "      <td>...</td>\n",
       "      <td>...</td>\n",
       "      <td>...</td>\n",
       "      <td>...</td>\n",
       "      <td>...</td>\n",
       "      <td>...</td>\n",
       "      <td>...</td>\n",
       "      <td>...</td>\n",
       "      <td>...</td>\n",
       "      <td>...</td>\n",
       "      <td>...</td>\n",
       "      <td>...</td>\n",
       "      <td>...</td>\n",
       "      <td>...</td>\n",
       "      <td>...</td>\n",
       "      <td>...</td>\n",
       "      <td>...</td>\n",
       "      <td>...</td>\n",
       "      <td>...</td>\n",
       "      <td>...</td>\n",
       "      <td>...</td>\n",
       "    </tr>\n",
       "    <tr>\n",
       "      <td>676308</td>\n",
       "      <td>408188.0</td>\n",
       "      <td>31</td>\n",
       "      <td>5</td>\n",
       "      <td>4.064516</td>\n",
       "      <td>6.200000</td>\n",
       "      <td>1.000000</td>\n",
       "      <td>0.032258</td>\n",
       "      <td>0.000000</td>\n",
       "      <td>0.032258</td>\n",
       "      <td>0.0</td>\n",
       "      <td>...</td>\n",
       "      <td>0.000000</td>\n",
       "      <td>0.0</td>\n",
       "      <td>0.0</td>\n",
       "      <td>0.0</td>\n",
       "      <td>0.0</td>\n",
       "      <td>0.025000</td>\n",
       "      <td>0.0</td>\n",
       "      <td>0.0</td>\n",
       "      <td>0.0</td>\n",
       "      <td>0.0</td>\n",
       "    </tr>\n",
       "    <tr>\n",
       "      <td>676309</td>\n",
       "      <td>80571.0</td>\n",
       "      <td>181</td>\n",
       "      <td>16</td>\n",
       "      <td>3.591160</td>\n",
       "      <td>11.312500</td>\n",
       "      <td>0.690608</td>\n",
       "      <td>0.000000</td>\n",
       "      <td>0.005525</td>\n",
       "      <td>0.011050</td>\n",
       "      <td>0.0</td>\n",
       "      <td>...</td>\n",
       "      <td>0.000000</td>\n",
       "      <td>0.0</td>\n",
       "      <td>0.0</td>\n",
       "      <td>0.0</td>\n",
       "      <td>0.0</td>\n",
       "      <td>0.015306</td>\n",
       "      <td>0.0</td>\n",
       "      <td>0.0</td>\n",
       "      <td>0.0</td>\n",
       "      <td>0.0</td>\n",
       "    </tr>\n",
       "    <tr>\n",
       "      <td>676310</td>\n",
       "      <td>33084.0</td>\n",
       "      <td>274</td>\n",
       "      <td>14</td>\n",
       "      <td>4.040146</td>\n",
       "      <td>19.571429</td>\n",
       "      <td>0.598540</td>\n",
       "      <td>0.000000</td>\n",
       "      <td>0.000000</td>\n",
       "      <td>0.003650</td>\n",
       "      <td>0.0</td>\n",
       "      <td>...</td>\n",
       "      <td>0.003344</td>\n",
       "      <td>0.0</td>\n",
       "      <td>0.0</td>\n",
       "      <td>0.0</td>\n",
       "      <td>0.0</td>\n",
       "      <td>0.023411</td>\n",
       "      <td>0.0</td>\n",
       "      <td>0.0</td>\n",
       "      <td>0.0</td>\n",
       "      <td>0.0</td>\n",
       "    </tr>\n",
       "    <tr>\n",
       "      <td>676311</td>\n",
       "      <td>57999.0</td>\n",
       "      <td>27</td>\n",
       "      <td>2</td>\n",
       "      <td>3.814815</td>\n",
       "      <td>13.500000</td>\n",
       "      <td>0.962963</td>\n",
       "      <td>0.037037</td>\n",
       "      <td>0.000000</td>\n",
       "      <td>0.000000</td>\n",
       "      <td>0.0</td>\n",
       "      <td>...</td>\n",
       "      <td>0.000000</td>\n",
       "      <td>0.0</td>\n",
       "      <td>0.0</td>\n",
       "      <td>0.0</td>\n",
       "      <td>0.0</td>\n",
       "      <td>0.000000</td>\n",
       "      <td>0.0</td>\n",
       "      <td>0.0</td>\n",
       "      <td>0.0</td>\n",
       "      <td>0.0</td>\n",
       "    </tr>\n",
       "    <tr>\n",
       "      <td>676312</td>\n",
       "      <td>11215.0</td>\n",
       "      <td>22</td>\n",
       "      <td>2</td>\n",
       "      <td>4.090909</td>\n",
       "      <td>11.000000</td>\n",
       "      <td>0.954545</td>\n",
       "      <td>0.090909</td>\n",
       "      <td>0.000000</td>\n",
       "      <td>0.000000</td>\n",
       "      <td>0.0</td>\n",
       "      <td>...</td>\n",
       "      <td>0.000000</td>\n",
       "      <td>0.0</td>\n",
       "      <td>0.0</td>\n",
       "      <td>0.0</td>\n",
       "      <td>0.0</td>\n",
       "      <td>0.000000</td>\n",
       "      <td>0.0</td>\n",
       "      <td>0.0</td>\n",
       "      <td>0.0</td>\n",
       "      <td>0.0</td>\n",
       "    </tr>\n",
       "  </tbody>\n",
       "</table>\n",
       "<p>676313 rows × 168 columns</p>\n",
       "</div>"
      ],
      "text/plain": [
       "          PostID  WordCount  SentenceCount  AvgWordLength  AvgSentenceLength  \\\n",
       "0       108592.0          9              1       6.888889           9.000000   \n",
       "1       318830.0        151             12       3.920530          12.583333   \n",
       "2       603927.0         26              1       4.538462          26.000000   \n",
       "3       458516.0        114             15       3.526316           7.600000   \n",
       "4       275544.0          5              1       4.800000           5.000000   \n",
       "...          ...        ...            ...            ...                ...   \n",
       "676308  408188.0         31              5       4.064516           6.200000   \n",
       "676309   80571.0        181             16       3.591160          11.312500   \n",
       "676310   33084.0        274             14       4.040146          19.571429   \n",
       "676311   57999.0         27              2       3.814815          13.500000   \n",
       "676312   11215.0         22              2       4.090909          11.000000   \n",
       "\n",
       "        UniqueWordsPercentage  URLCount  ableWords   alWords  fulWords  ...  \\\n",
       "0                    1.000000  0.111111   0.000000  0.111111       0.0  ...   \n",
       "1                    0.768212  0.000000   0.000000  0.000000       0.0  ...   \n",
       "2                    0.961538  0.038462   0.000000  0.000000       0.0  ...   \n",
       "3                    0.692982  0.000000   0.000000  0.000000       0.0  ...   \n",
       "4                    0.800000  0.400000   0.000000  0.000000       0.0  ...   \n",
       "...                       ...       ...        ...       ...       ...  ...   \n",
       "676308               1.000000  0.032258   0.000000  0.032258       0.0  ...   \n",
       "676309               0.690608  0.000000   0.005525  0.011050       0.0  ...   \n",
       "676310               0.598540  0.000000   0.000000  0.003650       0.0  ...   \n",
       "676311               0.962963  0.037037   0.000000  0.000000       0.0  ...   \n",
       "676312               0.954545  0.090909   0.000000  0.000000       0.0  ...   \n",
       "\n",
       "           fw_by  fw_these  fw_second  fw_do  fw_shall     fw_of fw_most  \\\n",
       "0       0.000000       0.0        0.0    0.0       0.0  0.111111     0.0   \n",
       "1       0.000000       0.0        0.0    0.0       0.0  0.005618     0.0   \n",
       "2       0.000000       0.0        0.0    0.0       0.0  0.000000     0.0   \n",
       "3       0.000000       0.0        0.0    0.0       0.0  0.014925     0.0   \n",
       "4       0.000000       0.0        0.0    0.0       0.0  0.000000     0.0   \n",
       "...          ...       ...        ...    ...       ...       ...     ...   \n",
       "676308  0.000000       0.0        0.0    0.0       0.0  0.025000     0.0   \n",
       "676309  0.000000       0.0        0.0    0.0       0.0  0.015306     0.0   \n",
       "676310  0.003344       0.0        0.0    0.0       0.0  0.023411     0.0   \n",
       "676311  0.000000       0.0        0.0    0.0       0.0  0.000000     0.0   \n",
       "676312  0.000000       0.0        0.0    0.0       0.0  0.000000     0.0   \n",
       "\n",
       "       fw_mine  fw_under  fw_even  \n",
       "0          0.0       0.0      0.0  \n",
       "1          0.0       0.0      0.0  \n",
       "2          0.0       0.0      0.0  \n",
       "3          0.0       0.0      0.0  \n",
       "4          0.0       0.0      0.0  \n",
       "...        ...       ...      ...  \n",
       "676308     0.0       0.0      0.0  \n",
       "676309     0.0       0.0      0.0  \n",
       "676310     0.0       0.0      0.0  \n",
       "676311     0.0       0.0      0.0  \n",
       "676312     0.0       0.0      0.0  \n",
       "\n",
       "[676313 rows x 168 columns]"
      ]
     },
     "execution_count": 4,
     "metadata": {},
     "output_type": "execute_result"
    }
   ],
   "source": [
    "# Note: We call this df_train for memory issues\n",
    "df_train = pd.read_csv(data_filename).dropna()\n",
    "df_train = df_train.sample(frac=1).reset_index(drop=True)\n",
    "df_train"
   ]
  },
  {
   "cell_type": "markdown",
   "metadata": {},
   "source": [
    "### Filter and split into train and test set"
   ]
  },
  {
   "cell_type": "code",
   "execution_count": 5,
   "metadata": {
    "scrolled": true
   },
   "outputs": [],
   "source": [
    "df_test = df_train[ df_train['TrainTest'] == 'test' ]\n",
    "\n",
    "# df_male = df_test[ df_test['Gender'] == 'male' ][:5000]\n",
    "# df_female = df_test[ df_test['Gender'] == 'female' ][:5000]\n",
    "# df_test = df_male.append(df_female, ignore_index=True)\n",
    "\n",
    "y_test = df_test['Gender']\n",
    "df_test = df_test.drop(['TrainTest', 'Gender', 'PostID'], axis=1)\n",
    "\n",
    "df_train = df_train[ df_train['TrainTest'] == 'train' ]\n",
    "\n",
    "# df_male = df_train[ df_train['Gender'] == 'male' ][:5000]\n",
    "# df_female = df_train[ df_train['Gender'] == 'female' ][:5000]\n",
    "# df_train = df_male.append(df_female, ignore_index=True)\n",
    "\n",
    "y_train = df_train['Gender']\n",
    "df_train = df_train.drop(['TrainTest', 'Gender', 'PostID'], axis=1)"
   ]
  },
  {
   "cell_type": "markdown",
   "metadata": {},
   "source": [
    "### Check how many train and test items there are"
   ]
  },
  {
   "cell_type": "code",
   "execution_count": 6,
   "metadata": {},
   "outputs": [
    {
     "name": "stdout",
     "output_type": "stream",
     "text": [
      "Number of TOTAL training examples: 537215\n",
      "Number of MALE training examples: 268572\n",
      "Number of FEMALE training examples: 268643\n",
      "\n",
      "Number of TOTAL testing examples: 139098\n",
      "Number of MALE testing examples: 74300\n",
      "Number of FEMALE testing examples: 64798\n"
     ]
    }
   ],
   "source": [
    "print('Number of TOTAL training examples: {0}'.format(df_train.shape[0]))\n",
    "print('Number of MALE training examples: {0}'.format(np.sum(y_train == 'male' )))\n",
    "print('Number of FEMALE training examples: {0}'.format(np.sum(y_train == 'female')))\n",
    "print()\n",
    "print('Number of TOTAL testing examples: {0}'.format(df_test.shape[0]))\n",
    "print('Number of MALE testing examples: {0}'.format(np.sum(y_test == 'male')))\n",
    "print('Number of FEMALE testing examples: {0}'.format(np.sum(y_test == 'female')))"
   ]
  },
  {
   "cell_type": "markdown",
   "metadata": {},
   "source": [
    "### Train the baseline"
   ]
  },
  {
   "cell_type": "code",
   "execution_count": 7,
   "metadata": {
    "scrolled": true
   },
   "outputs": [
    {
     "name": "stderr",
     "output_type": "stream",
     "text": [
      "[Parallel(n_jobs=-1)]: Using backend LokyBackend with 8 concurrent workers.\n",
      "[Parallel(n_jobs=-1)]: Done   1 out of   1 | elapsed:    4.9s finished\n"
     ]
    },
    {
     "data": {
      "text/plain": [
       "LogisticRegression(C=9.50814306409916, class_weight=None, dual=False,\n",
       "                   fit_intercept=True, intercept_scaling=1, l1_ratio=None,\n",
       "                   max_iter=100, multi_class='auto', n_jobs=-1, penalty='l2',\n",
       "                   random_state=42, solver='newton-cg', tol=0.0001, verbose=1,\n",
       "                   warm_start=False)"
      ]
     },
     "execution_count": 7,
     "metadata": {},
     "output_type": "execute_result"
    }
   ],
   "source": [
    "# Tune hyperparmeters by sklearn's random search\n",
    "param_distributions =  {\"C\": uniform(0.001, 10)}\n",
    "\n",
    "lr = LogisticRegression(penalty='l2', tol=0.0001, C=1.0,\n",
    "                        fit_intercept=True, class_weight=None,\n",
    "                        random_state=42, solver='newton-cg', max_iter=100, multi_class='auto',\n",
    "                        verbose=1, warm_start=False, n_jobs=-1, l1_ratio=None)\n",
    "\n",
    "# random search trough the hyperparameters\n",
    "clf_search_cv = RandomizedSearchCV(lr,\n",
    "                                    param_distributions,\n",
    "                                    iid=False,\n",
    "                                    n_iter=20,\n",
    "                                    n_jobs=2,\n",
    "                                    pre_dispatch='2*n_jobs',\n",
    "                                    cv=5,\n",
    "                                    refit=True,\n",
    "                                    verbose=False, \n",
    "                                    random_state=42,\n",
    "                                    return_train_score=False\n",
    "                                   )\n",
    "\n",
    "clf_search_cv.fit(df_train.iloc[:10000], y_train[:10000])\n",
    "\n",
    "lr = clf_search_cv.best_estimator_\n",
    "lr"
   ]
  },
  {
   "cell_type": "code",
   "execution_count": 8,
   "metadata": {},
   "outputs": [
    {
     "name": "stderr",
     "output_type": "stream",
     "text": [
      "[Parallel(n_jobs=-1)]: Using backend LokyBackend with 8 concurrent workers.\n",
      "[Parallel(n_jobs=-1)]: Done   1 out of   1 | elapsed: 32.2min finished\n"
     ]
    },
    {
     "data": {
      "text/plain": [
       "['TrainedModels/Baseline.bin']"
      ]
     },
     "execution_count": 8,
     "metadata": {},
     "output_type": "execute_result"
    }
   ],
   "source": [
    "# Train it\n",
    "lr.fit(df_train, y_train)\n",
    "dump(lr, baseline_model_filename)"
   ]
  },
  {
   "cell_type": "markdown",
   "metadata": {},
   "source": [
    "### Evaluate the baseline"
   ]
  },
  {
   "cell_type": "code",
   "execution_count": 9,
   "metadata": {},
   "outputs": [
    {
     "name": "stdout",
     "output_type": "stream",
     "text": [
      "              precision    recall  f1-score   support\n",
      "\n",
      "      female       0.58      0.57      0.57     64798\n",
      "        male       0.63      0.64      0.63     74300\n",
      "\n",
      "    accuracy                           0.60    139098\n",
      "   macro avg       0.60      0.60      0.60    139098\n",
      "weighted avg       0.60      0.60      0.60    139098\n",
      "\n"
     ]
    },
    {
     "data": {
      "image/png": "[encoded data removed]",
      "text/plain": [
       "<Figure size 432x288 with 2 Axes>"
      ]
     },
     "metadata": {
      "needs_background": "light"
     },
     "output_type": "display_data"
    }
   ],
   "source": [
    "predictions = lr.predict(df_test)\n",
    "print(metrics.classification_report(y_test, predictions))\n",
    "plot_confusion_matrix(targets=y_test, predicted=predictions, labels=['male', 'female'])"
   ]
  },
  {
   "cell_type": "markdown",
   "metadata": {},
   "source": [
    "### Train the main model"
   ]
  },
  {
   "cell_type": "code",
   "execution_count": 7,
   "metadata": {},
   "outputs": [
    {
     "name": "stdout",
     "output_type": "stream",
     "text": [
      "Fitting 3 folds for each of 5 candidates, totalling 15 fits\n"
     ]
    },
    {
     "name": "stderr",
     "output_type": "stream",
     "text": [
      "[Parallel(n_jobs=-1)]: Using backend LokyBackend with 8 concurrent workers.\n",
      "[Parallel(n_jobs=-1)]: Done  15 out of  15 | elapsed:  1.1min finished\n",
      "/home/danielcauchi/miniconda3/envs/nlp/lib/python3.7/site-packages/sklearn/neural_network/multilayer_perceptron.py:350: UserWarning: Got `batch_size` less than 1 or larger than sample size. It is going to be clipped\n",
      "  warnings.warn(\"Got `batch_size` less than 1 or larger than \"\n"
     ]
    },
    {
     "data": {
      "text/plain": [
       "MLPClassifier(activation='relu', alpha=0.015611864044243652, batch_size=10000,\n",
       "              beta_1=0.9, beta_2=0.999, early_stopping=True, epsilon=1e-08,\n",
       "              hidden_layer_sizes=(265,), learning_rate='constant',\n",
       "              learning_rate_init=0.015699452033620265, max_iter=100,\n",
       "              momentum=0.8, n_iter_no_change=10, nesterovs_momentum=True,\n",
       "              power_t=0.5, random_state=42, shuffle=True, solver='adam',\n",
       "              tol=0.0001, validation_fraction=0.2, verbose=False,\n",
       "              warm_start=False)"
      ]
     },
     "execution_count": 7,
     "metadata": {},
     "output_type": "execute_result"
    }
   ],
   "source": [
    "# Tune hyperparmeters by sklearn's random search\n",
    "param_distributions =  {'learning_rate_init': uniform(0.0001, 0.1),\n",
    "                       'alpha': uniform(0.00001, 0.1)}\n",
    "\n",
    "mlp = MLPClassifier (hidden_layer_sizes=(df_train.shape[1]+100, ),\n",
    "                     activation='relu',\n",
    "                     solver='adam', alpha=0.0001, batch_size=10000,\n",
    "                     learning_rate='constant', learning_rate_init=0.001,\n",
    "                     max_iter=100, shuffle=True, random_state=42,\n",
    "                     tol=0.0001, verbose=False, warm_start=False, momentum=0.8,\n",
    "                     early_stopping=True, validation_fraction=0.2,\n",
    "                     beta_1=0.9, beta_2=0.999, epsilon=1e-08, n_iter_no_change=10)\n",
    "# random search trough the hyperparameters\n",
    "clf_search_cv = RandomizedSearchCV(mlp,\n",
    "                                    param_distributions,\n",
    "                                    iid=False,\n",
    "                                    n_iter=5,\n",
    "                                    n_jobs=-1,\n",
    "                                    pre_dispatch='2*n_jobs',\n",
    "                                    cv=3,\n",
    "                                    refit=True,\n",
    "                                    verbose=True, \n",
    "                                    random_state=42,\n",
    "                                    return_train_score=False\n",
    "                                   )\n",
    "\n",
    "clf_search_cv.fit(df_train.iloc[:1000],\n",
    "                  y_train[:1000])\n",
    "\n",
    "mlp = clf_search_cv.best_estimator_\n",
    "mlp"
   ]
  },
  {
   "cell_type": "code",
   "execution_count": 14,
   "metadata": {
    "scrolled": true
   },
   "outputs": [
    {
     "name": "stdout",
     "output_type": "stream",
     "text": [
      "Iteration 1, loss = inf\n",
      "Validation score: 0.499930\n",
      "Iteration 2, loss = inf\n",
      "Validation score: 0.500907\n",
      "Iteration 3, loss = inf\n",
      "Validation score: 0.499949\n",
      "Iteration 4, loss = inf\n",
      "Validation score: 0.500209\n",
      "Iteration 5, loss = inf\n",
      "Validation score: 0.500275\n",
      "Iteration 6, loss = inf\n",
      "Validation score: 0.500163\n",
      "Iteration 7, loss = inf\n",
      "Validation score: 0.501447\n",
      "Iteration 8, loss = inf\n",
      "Validation score: 0.501103\n",
      "Iteration 9, loss = inf\n",
      "Validation score: 0.526233\n",
      "Iteration 10, loss = inf\n",
      "Validation score: 0.514329\n",
      "Iteration 11, loss = inf\n",
      "Validation score: 0.512383\n",
      "Iteration 12, loss = inf\n",
      "Validation score: 0.517474\n",
      "Iteration 13, loss = inf\n",
      "Validation score: 0.519699\n",
      "Iteration 14, loss = inf\n",
      "Validation score: 0.541915\n",
      "Iteration 15, loss = 0.68965999\n",
      "Validation score: 0.513044\n",
      "Iteration 16, loss = 0.69436315\n",
      "Validation score: 0.572722\n",
      "Iteration 17, loss = 0.69091558\n",
      "Validation score: 0.572015\n",
      "Iteration 18, loss = 0.69378362\n",
      "Validation score: 0.576343\n",
      "Iteration 19, loss = inf\n",
      "Validation score: 0.507460\n",
      "Iteration 20, loss = inf\n",
      "Validation score: 0.531835\n",
      "Iteration 21, loss = inf\n",
      "Validation score: 0.563527\n",
      "Iteration 22, loss = inf\n",
      "Validation score: 0.580689\n",
      "Iteration 23, loss = inf\n",
      "Validation score: 0.578567\n",
      "Iteration 24, loss = 0.68673182\n",
      "Validation score: 0.581769\n",
      "Iteration 25, loss = inf\n",
      "Validation score: 0.551157\n",
      "Iteration 26, loss = inf\n",
      "Validation score: 0.573113\n",
      "Iteration 27, loss = inf\n",
      "Validation score: 0.570442\n",
      "Iteration 28, loss = inf\n",
      "Validation score: 0.545620\n",
      "Iteration 29, loss = inf\n",
      "Validation score: 0.573262\n",
      "Iteration 30, loss = inf\n",
      "Validation score: 0.569307\n",
      "Iteration 31, loss = 0.68392025\n",
      "Validation score: 0.563136\n",
      "Iteration 32, loss = inf\n",
      "Validation score: 0.579647\n",
      "Iteration 33, loss = inf\n",
      "Validation score: 0.563936\n",
      "Iteration 34, loss = inf\n",
      "Validation score: 0.566254\n",
      "Iteration 35, loss = inf\n",
      "Validation score: 0.581397\n",
      "Iteration 36, loss = inf\n",
      "Validation score: 0.585790\n",
      "Iteration 37, loss = inf\n",
      "Validation score: 0.570014\n",
      "Iteration 38, loss = inf\n",
      "Validation score: 0.584812\n",
      "Iteration 39, loss = inf\n",
      "Validation score: 0.576361\n",
      "Iteration 40, loss = inf\n",
      "Validation score: 0.570833\n",
      "Iteration 41, loss = inf\n",
      "Validation score: 0.585036\n",
      "Iteration 42, loss = inf\n",
      "Validation score: 0.565826\n",
      "Iteration 43, loss = inf\n",
      "Validation score: 0.559217\n",
      "Iteration 44, loss = inf\n",
      "Validation score: 0.566365\n",
      "Iteration 45, loss = inf\n",
      "Validation score: 0.534730\n",
      "Iteration 46, loss = inf\n",
      "Validation score: 0.543125\n",
      "Iteration 47, loss = inf\n",
      "Validation score: 0.572499\n",
      "Iteration 48, loss = inf\n",
      "Validation score: 0.574063\n",
      "Iteration 49, loss = inf\n",
      "Validation score: 0.575766\n",
      "Iteration 50, loss = inf\n",
      "Validation score: 0.577348\n",
      "Iteration 51, loss = inf\n",
      "Validation score: 0.583072\n",
      "Iteration 52, loss = inf\n",
      "Validation score: 0.588842\n",
      "Iteration 53, loss = inf\n",
      "Validation score: 0.587800\n",
      "Iteration 54, loss = inf\n",
      "Validation score: 0.587260\n",
      "Iteration 55, loss = 0.67390166\n",
      "Validation score: 0.590220\n",
      "Iteration 56, loss = inf\n",
      "Validation score: 0.566859\n",
      "Iteration 57, loss = inf\n",
      "Validation score: 0.586571\n",
      "Iteration 58, loss = inf\n",
      "Validation score: 0.590490\n",
      "Iteration 59, loss = inf\n",
      "Validation score: 0.589326\n",
      "Iteration 60, loss = inf\n",
      "Validation score: 0.571382\n",
      "Iteration 61, loss = inf\n",
      "Validation score: 0.589373\n",
      "Iteration 62, loss = inf\n",
      "Validation score: 0.583016\n",
      "Iteration 63, loss = inf\n",
      "Validation score: 0.583398\n",
      "Iteration 64, loss = inf\n",
      "Validation score: 0.567296\n",
      "Iteration 65, loss = 0.67739574\n",
      "Validation score: 0.584645\n",
      "Iteration 66, loss = inf\n",
      "Validation score: 0.584319\n",
      "Iteration 67, loss = inf\n",
      "Validation score: 0.581694\n",
      "Iteration 68, loss = inf\n",
      "Validation score: 0.591905\n",
      "Iteration 69, loss = 0.67298070\n",
      "Validation score: 0.585110\n",
      "Iteration 70, loss = inf\n",
      "Validation score: 0.584310\n",
      "Iteration 71, loss = inf\n",
      "Validation score: 0.588861\n",
      "Iteration 72, loss = inf\n",
      "Validation score: 0.590602\n",
      "Iteration 73, loss = inf\n",
      "Validation score: 0.587539\n",
      "Iteration 74, loss = inf\n",
      "Validation score: 0.586627\n",
      "Iteration 75, loss = inf\n",
      "Validation score: 0.577143\n",
      "Iteration 76, loss = 0.67900984\n",
      "Validation score: 0.591886\n",
      "Iteration 77, loss = inf\n",
      "Validation score: 0.575012\n",
      "Iteration 78, loss = inf\n",
      "Validation score: 0.578660\n",
      "Iteration 79, loss = inf\n",
      "Validation score: 0.594501\n",
      "Iteration 80, loss = inf\n",
      "Validation score: 0.587902\n",
      "Iteration 81, loss = inf\n",
      "Validation score: 0.590257\n",
      "Iteration 82, loss = inf\n",
      "Validation score: 0.581248\n",
      "Iteration 83, loss = inf\n",
      "Validation score: 0.595274\n",
      "Iteration 84, loss = inf\n",
      "Validation score: 0.590853\n",
      "Iteration 85, loss = inf\n",
      "Validation score: 0.589457\n",
      "Iteration 86, loss = 0.67482205\n",
      "Validation score: 0.576203\n",
      "Iteration 87, loss = inf\n",
      "Validation score: 0.587614\n",
      "Iteration 88, loss = inf\n",
      "Validation score: 0.589494\n",
      "Iteration 89, loss = inf\n",
      "Validation score: 0.586516\n",
      "Iteration 90, loss = inf\n",
      "Validation score: 0.588759\n",
      "Iteration 91, loss = inf\n",
      "Validation score: 0.597117\n",
      "Iteration 92, loss = inf\n",
      "Validation score: 0.585054\n",
      "Iteration 93, loss = inf\n",
      "Validation score: 0.571121\n",
      "Iteration 94, loss = inf\n",
      "Validation score: 0.590462\n",
      "Iteration 95, loss = inf\n",
      "Validation score: 0.574807\n",
      "Iteration 96, loss = inf\n",
      "Validation score: 0.577301\n",
      "Iteration 97, loss = inf\n",
      "Validation score: 0.584784\n",
      "Iteration 98, loss = 0.67198037\n",
      "Validation score: 0.600746\n",
      "Iteration 99, loss = inf\n",
      "Validation score: 0.583035\n",
      "Iteration 100, loss = inf\n",
      "Validation score: 0.586134\n"
     ]
    },
    {
     "name": "stderr",
     "output_type": "stream",
     "text": [
      "/home/danielcauchi/miniconda3/envs/nlp/lib/python3.7/site-packages/sklearn/neural_network/multilayer_perceptron.py:566: ConvergenceWarning: Stochastic Optimizer: Maximum iterations (100) reached and the optimization hasn't converged yet.\n",
      "  % self.max_iter, ConvergenceWarning)\n"
     ]
    },
    {
     "data": {
      "text/plain": [
       "['TrainedModels/Final.bin']"
      ]
     },
     "execution_count": 14,
     "metadata": {},
     "output_type": "execute_result"
    }
   ],
   "source": [
    "# Train it\n",
    "max_iter=300\n",
    "mlp.n_iter_no_change=20\n",
    "mlp.hidden_layer_sizes=(df_train.shape[1]+300, )\n",
    "mlp.batch_size=100000\n",
    "mlp.verbose = True\n",
    "mlp.fit(df_train, y_train)\n",
    "dump(mlp, final_model_filename)"
   ]
  },
  {
   "cell_type": "markdown",
   "metadata": {},
   "source": [
    "### Evaluate the Final"
   ]
  },
  {
   "cell_type": "code",
   "execution_count": 15,
   "metadata": {},
   "outputs": [
    {
     "name": "stdout",
     "output_type": "stream",
     "text": [
      "              precision    recall  f1-score   support\n",
      "\n",
      "      female       0.56      0.55      0.56     64798\n",
      "        male       0.62      0.63      0.62     74300\n",
      "\n",
      "    accuracy                           0.59    139098\n",
      "   macro avg       0.59      0.59      0.59    139098\n",
      "weighted avg       0.59      0.59      0.59    139098\n",
      "\n"
     ]
    },
    {
     "data": {
      "image/png": "[encoded data removed]",
      "text/plain": [
       "<Figure size 1080x648 with 2 Axes>"
      ]
     },
     "metadata": {
      "needs_background": "light"
     },
     "output_type": "display_data"
    },
    {
     "name": "stdout",
     "output_type": "stream",
     "text": [
      "[[35898 28900]\n",
      " [27655 46645]]\n"
     ]
    }
   ],
   "source": [
    "predictions = mlp.predict(df_test)\n",
    "print(metrics.classification_report(y_test, predictions))\n",
    "plot_confusion_matrix(targets=y_test, predicted=predictions, labels=np.unique(y_test))\n",
    "print(metrics.confusion_matrix(y_test, predictions))"
   ]
  }
 ],
 "metadata": {
  "kernelspec": {
   "display_name": "Python 3",
   "language": "python",
   "name": "python3"
  },
  "language_info": {
   "codemirror_mode": {
    "name": "ipython",
    "version": 3
   },
   "file_extension": ".py",
   "mimetype": "text/x-python",
   "name": "python",
   "nbconvert_exporter": "python",
   "pygments_lexer": "ipython3",
   "version": "3.7.3"
  }
 },
 "nbformat": 4,
 "nbformat_minor": 2
}
