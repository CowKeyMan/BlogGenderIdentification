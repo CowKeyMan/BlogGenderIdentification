{
 "cells": [
  {
   "cell_type": "markdown",
   "metadata": {},
   "source": [
    "# 10. Machine Learning Model and Evaluation"
   ]
  },
  {
   "cell_type": "markdown",
   "metadata": {},
   "source": [
    "#### This script trains a baseline and 'main' model on the training data and evaluates them on the test set"
   ]
  },
  {
   "cell_type": "markdown",
   "metadata": {},
   "source": [
    "### Imports"
   ]
  },
  {
   "cell_type": "code",
   "execution_count": 1,
   "metadata": {},
   "outputs": [],
   "source": [
    "import pandas as pd\n",
    "import sklearn\n",
    "import numpy as np\n",
    "from sklearn.linear_model import LogisticRegression\n",
    "from sklearn.neural_network import MLPClassifier\n",
    "from sklearn.model_selection import RandomizedSearchCV\n",
    "from sklearn import metrics\n",
    "from scipy.stats import reciprocal, uniform\n",
    "from joblib import dump, load\n",
    "import seaborn as sns\n",
    "import matplotlib.pyplot as plt"
   ]
  },
  {
   "cell_type": "markdown",
   "metadata": {},
   "source": [
    "### Definitions"
   ]
  },
  {
   "cell_type": "code",
   "execution_count": 2,
   "metadata": {},
   "outputs": [],
   "source": [
    "data_filename = 'data/MachineLearningData.csv'\n",
    "\n",
    "baseline_model_filename = 'TrainedModels/Baseline.bin'\n",
    "final_model_filename = 'TrainedModels/Final.bin'"
   ]
  },
  {
   "cell_type": "markdown",
   "metadata": {},
   "source": [
    "### Defining helper function"
   ]
  },
  {
   "cell_type": "code",
   "execution_count": 3,
   "metadata": {},
   "outputs": [],
   "source": [
    "def plot_confusion_matrix(targets = [], predicted = [], labels = []):\n",
    "    cm = metrics.confusion_matrix(targets, predicted)\n",
    "    cm = cm.astype('float') / cm.sum(axis=1)[:, np.newaxis] # normalize confusion matrix\n",
    "    sns.heatmap(cm, annot=True, fmt='.2f', xticklabels=labels, yticklabels=labels)\n",
    "    plt.ylabel('Actual')\n",
    "    plt.xlabel('Predicted')\n",
    "    plt.rcParams[\"figure.figsize\"] =  [15, 9]\n",
    "    plt.show(block=False)"
   ]
  },
  {
   "cell_type": "markdown",
   "metadata": {},
   "source": [
    "### Load Dataframe"
   ]
  },
  {
   "cell_type": "code",
   "execution_count": 4,
   "metadata": {},
   "outputs": [
    {
     "data": {
      "text/html": [
       "<div>\n",
       "<style scoped>\n",
       "    .dataframe tbody tr th:only-of-type {\n",
       "        vertical-align: middle;\n",
       "    }\n",
       "\n",
       "    .dataframe tbody tr th {\n",
       "        vertical-align: top;\n",
       "    }\n",
       "\n",
       "    .dataframe thead th {\n",
       "        text-align: right;\n",
       "    }\n",
       "</style>\n",
       "<table border=\"1\" class=\"dataframe\">\n",
       "  <thead>\n",
       "    <tr style=\"text-align: right;\">\n",
       "      <th></th>\n",
       "      <th>PostID</th>\n",
       "      <th>WordCount</th>\n",
       "      <th>SentenceCount</th>\n",
       "      <th>AvgWordLength</th>\n",
       "      <th>AvgSentenceLength</th>\n",
       "      <th>UniqueWordsPercentage</th>\n",
       "      <th>URLCount</th>\n",
       "      <th>ableWords</th>\n",
       "      <th>alWords</th>\n",
       "      <th>fulWords</th>\n",
       "      <th>...</th>\n",
       "      <th>fw_by</th>\n",
       "      <th>fw_these</th>\n",
       "      <th>fw_second</th>\n",
       "      <th>fw_do</th>\n",
       "      <th>fw_shall</th>\n",
       "      <th>fw_of</th>\n",
       "      <th>fw_most</th>\n",
       "      <th>fw_mine</th>\n",
       "      <th>fw_under</th>\n",
       "      <th>fw_even</th>\n",
       "    </tr>\n",
       "  </thead>\n",
       "  <tbody>\n",
       "    <tr>\n",
       "      <td>0</td>\n",
       "      <td>0.0</td>\n",
       "      <td>110</td>\n",
       "      <td>10</td>\n",
       "      <td>4.100000</td>\n",
       "      <td>11.000000</td>\n",
       "      <td>0.818182</td>\n",
       "      <td>0.009091</td>\n",
       "      <td>0.0</td>\n",
       "      <td>0.000000</td>\n",
       "      <td>0.000000</td>\n",
       "      <td>...</td>\n",
       "      <td>0.007634</td>\n",
       "      <td>0.0</td>\n",
       "      <td>0.0</td>\n",
       "      <td>0.000000</td>\n",
       "      <td>0.0</td>\n",
       "      <td>0.022901</td>\n",
       "      <td>0.0</td>\n",
       "      <td>0.0</td>\n",
       "      <td>0.000000</td>\n",
       "      <td>0.0</td>\n",
       "    </tr>\n",
       "    <tr>\n",
       "      <td>1</td>\n",
       "      <td>1.0</td>\n",
       "      <td>51</td>\n",
       "      <td>12</td>\n",
       "      <td>3.568627</td>\n",
       "      <td>4.250000</td>\n",
       "      <td>0.882353</td>\n",
       "      <td>0.000000</td>\n",
       "      <td>0.0</td>\n",
       "      <td>0.000000</td>\n",
       "      <td>0.000000</td>\n",
       "      <td>...</td>\n",
       "      <td>0.000000</td>\n",
       "      <td>0.0</td>\n",
       "      <td>0.0</td>\n",
       "      <td>0.014286</td>\n",
       "      <td>0.0</td>\n",
       "      <td>0.000000</td>\n",
       "      <td>0.0</td>\n",
       "      <td>0.0</td>\n",
       "      <td>0.000000</td>\n",
       "      <td>0.0</td>\n",
       "    </tr>\n",
       "    <tr>\n",
       "      <td>2</td>\n",
       "      <td>2.0</td>\n",
       "      <td>101</td>\n",
       "      <td>6</td>\n",
       "      <td>4.089109</td>\n",
       "      <td>16.833333</td>\n",
       "      <td>0.663366</td>\n",
       "      <td>0.029703</td>\n",
       "      <td>0.0</td>\n",
       "      <td>0.000000</td>\n",
       "      <td>0.009901</td>\n",
       "      <td>...</td>\n",
       "      <td>0.000000</td>\n",
       "      <td>0.0</td>\n",
       "      <td>0.0</td>\n",
       "      <td>0.008929</td>\n",
       "      <td>0.0</td>\n",
       "      <td>0.008929</td>\n",
       "      <td>0.0</td>\n",
       "      <td>0.0</td>\n",
       "      <td>0.000000</td>\n",
       "      <td>0.0</td>\n",
       "    </tr>\n",
       "    <tr>\n",
       "      <td>3</td>\n",
       "      <td>3.0</td>\n",
       "      <td>67</td>\n",
       "      <td>8</td>\n",
       "      <td>4.044776</td>\n",
       "      <td>8.375000</td>\n",
       "      <td>0.835821</td>\n",
       "      <td>0.000000</td>\n",
       "      <td>0.0</td>\n",
       "      <td>0.000000</td>\n",
       "      <td>0.000000</td>\n",
       "      <td>...</td>\n",
       "      <td>0.000000</td>\n",
       "      <td>0.0</td>\n",
       "      <td>0.0</td>\n",
       "      <td>0.012658</td>\n",
       "      <td>0.0</td>\n",
       "      <td>0.000000</td>\n",
       "      <td>0.0</td>\n",
       "      <td>0.0</td>\n",
       "      <td>0.000000</td>\n",
       "      <td>0.0</td>\n",
       "    </tr>\n",
       "    <tr>\n",
       "      <td>4</td>\n",
       "      <td>4.0</td>\n",
       "      <td>142</td>\n",
       "      <td>8</td>\n",
       "      <td>3.978873</td>\n",
       "      <td>17.750000</td>\n",
       "      <td>0.704225</td>\n",
       "      <td>0.014085</td>\n",
       "      <td>0.0</td>\n",
       "      <td>0.007042</td>\n",
       "      <td>0.000000</td>\n",
       "      <td>...</td>\n",
       "      <td>0.000000</td>\n",
       "      <td>0.0</td>\n",
       "      <td>0.0</td>\n",
       "      <td>0.006329</td>\n",
       "      <td>0.0</td>\n",
       "      <td>0.018987</td>\n",
       "      <td>0.0</td>\n",
       "      <td>0.0</td>\n",
       "      <td>0.006329</td>\n",
       "      <td>0.0</td>\n",
       "    </tr>\n",
       "  </tbody>\n",
       "</table>\n",
       "<p>5 rows × 168 columns</p>\n",
       "</div>"
      ],
      "text/plain": [
       "   PostID  WordCount  SentenceCount  AvgWordLength  AvgSentenceLength  \\\n",
       "0     0.0        110             10       4.100000          11.000000   \n",
       "1     1.0         51             12       3.568627           4.250000   \n",
       "2     2.0        101              6       4.089109          16.833333   \n",
       "3     3.0         67              8       4.044776           8.375000   \n",
       "4     4.0        142              8       3.978873          17.750000   \n",
       "\n",
       "   UniqueWordsPercentage  URLCount  ableWords   alWords  fulWords  ...  \\\n",
       "0               0.818182  0.009091        0.0  0.000000  0.000000  ...   \n",
       "1               0.882353  0.000000        0.0  0.000000  0.000000  ...   \n",
       "2               0.663366  0.029703        0.0  0.000000  0.009901  ...   \n",
       "3               0.835821  0.000000        0.0  0.000000  0.000000  ...   \n",
       "4               0.704225  0.014085        0.0  0.007042  0.000000  ...   \n",
       "\n",
       "      fw_by  fw_these  fw_second     fw_do  fw_shall     fw_of fw_most  \\\n",
       "0  0.007634       0.0        0.0  0.000000       0.0  0.022901     0.0   \n",
       "1  0.000000       0.0        0.0  0.014286       0.0  0.000000     0.0   \n",
       "2  0.000000       0.0        0.0  0.008929       0.0  0.008929     0.0   \n",
       "3  0.000000       0.0        0.0  0.012658       0.0  0.000000     0.0   \n",
       "4  0.000000       0.0        0.0  0.006329       0.0  0.018987     0.0   \n",
       "\n",
       "  fw_mine  fw_under  fw_even  \n",
       "0     0.0  0.000000      0.0  \n",
       "1     0.0  0.000000      0.0  \n",
       "2     0.0  0.000000      0.0  \n",
       "3     0.0  0.000000      0.0  \n",
       "4     0.0  0.006329      0.0  \n",
       "\n",
       "[5 rows x 168 columns]"
      ]
     },
     "execution_count": 4,
     "metadata": {},
     "output_type": "execute_result"
    }
   ],
   "source": [
    "# Note: We call this df_train for memory issues\n",
    "df_train = pd.read_csv(data_filename).dropna()\n",
    "df_train = df_train.sample(frac=1).reset_index(drop=True)\n",
    "df_train.head()"
   ]
  },
  {
   "cell_type": "markdown",
   "metadata": {},
   "source": [
    "### Filter and split into train and test set"
   ]
  },
  {
   "cell_type": "code",
   "execution_count": 5,
   "metadata": {
    "scrolled": true
   },
   "outputs": [],
   "source": [
    "df_test = df_train[ df_train['TrainTest'] == 'test' ]\n",
    "\n",
    "# df_male = df_test[ df_test['Gender'] == 'male' ][:5000]\n",
    "# df_female = df_test[ df_test['Gender'] == 'female' ][:5000]\n",
    "# df_test = df_male.append(df_female, ignore_index=True)\n",
    "\n",
    "y_test = df_test['Gender']\n",
    "df_test = df_test.drop(['TrainTest', 'Gender', 'PostID'], axis=1)\n",
    "\n",
    "df_train = df_train[ df_train['TrainTest'] == 'train' ]\n",
    "\n",
    "# df_male = df_train[ df_train['Gender'] == 'male' ][:5000]\n",
    "# df_female = df_train[ df_train['Gender'] == 'female' ][:5000]\n",
    "# df_train = df_male.append(df_female, ignore_index=True)\n",
    "\n",
    "y_train = df_train['Gender']\n",
    "df_train = df_train.drop(['TrainTest', 'Gender', 'PostID'], axis=1)"
   ]
  },
  {
   "cell_type": "markdown",
   "metadata": {},
   "source": [
    "### Check how many train and test items there are"
   ]
  },
  {
   "cell_type": "code",
   "execution_count": 6,
   "metadata": {},
   "outputs": [
    {
     "name": "stdout",
     "output_type": "stream",
     "text": [
      "Number of TOTAL training examples: 10000\n",
      "Number of MALE training examples: 5000\n",
      "Number of FEMALE training examples: 5000\n",
      "\n",
      "Number of TOTAL testing examples: 10000\n",
      "Number of MALE testing examples: 5000\n",
      "Number of FEMALE testing examples: 5000\n"
     ]
    }
   ],
   "source": [
    "print('Number of TOTAL training examples: {0}'.format(df_train.shape[0]))\n",
    "print('Number of MALE training examples: {0}'.format(np.sum(y_train == 'male' )))\n",
    "print('Number of FEMALE training examples: {0}'.format(np.sum(y_train == 'female')))\n",
    "print()\n",
    "print('Number of TOTAL testing examples: {0}'.format(df_test.shape[0]))\n",
    "print('Number of MALE testing examples: {0}'.format(np.sum(y_test == 'male')))\n",
    "print('Number of FEMALE testing examples: {0}'.format(np.sum(y_test == 'female')))"
   ]
  },
  {
   "cell_type": "markdown",
   "metadata": {},
   "source": [
    "### Train the baseline"
   ]
  },
  {
   "cell_type": "code",
   "execution_count": 7,
   "metadata": {
    "scrolled": true
   },
   "outputs": [
    {
     "name": "stderr",
     "output_type": "stream",
     "text": [
      "[Parallel(n_jobs=-1)]: Using backend LokyBackend with 8 concurrent workers.\n",
      "[Parallel(n_jobs=-1)]: Done   1 out of   1 | elapsed:    4.5s finished\n"
     ]
    },
    {
     "data": {
      "text/plain": [
       "LogisticRegression(C=9.50814306409916, class_weight=None, dual=False,\n",
       "                   fit_intercept=True, intercept_scaling=1, l1_ratio=None,\n",
       "                   max_iter=100, multi_class='auto', n_jobs=-1, penalty='l2',\n",
       "                   random_state=42, solver='newton-cg', tol=0.0001, verbose=1,\n",
       "                   warm_start=False)"
      ]
     },
     "execution_count": 7,
     "metadata": {},
     "output_type": "execute_result"
    }
   ],
   "source": [
    "# Tune hyperparmeters by sklearn's random search\n",
    "param_distributions =  {\"C\": uniform(0.001, 10)}\n",
    "\n",
    "lr = LogisticRegression(penalty='l2', tol=0.0001, C=1.0,\n",
    "                        fit_intercept=True, class_weight=None,\n",
    "                        random_state=42, solver='newton-cg', max_iter=100, multi_class='auto',\n",
    "                        verbose=1, warm_start=False, n_jobs=-1, l1_ratio=None)\n",
    "\n",
    "# random search trough the hyperparameters\n",
    "clf_search_cv = RandomizedSearchCV(lr,\n",
    "                                    param_distributions,\n",
    "                                    iid=False,\n",
    "                                    n_iter=10,\n",
    "                                    n_jobs=2,\n",
    "                                    pre_dispatch='2*n_jobs',\n",
    "                                    cv=5,\n",
    "                                    refit=True,\n",
    "                                    verbose=False, \n",
    "                                    random_state=42,\n",
    "                                    return_train_score=False\n",
    "                                   )\n",
    "\n",
    "clf_search_cv.fit(df_train.iloc[:10000], y_train[:10000])\n",
    "\n",
    "lr = clf_search_cv.best_estimator_\n",
    "lr"
   ]
  },
  {
   "cell_type": "code",
   "execution_count": 8,
   "metadata": {},
   "outputs": [
    {
     "name": "stderr",
     "output_type": "stream",
     "text": [
      "[Parallel(n_jobs=-1)]: Using backend LokyBackend with 8 concurrent workers.\n",
      "[Parallel(n_jobs=-1)]: Done   1 out of   1 | elapsed:    4.5s finished\n"
     ]
    },
    {
     "data": {
      "text/plain": [
       "['TrainedModels/Baseline.bin']"
      ]
     },
     "execution_count": 8,
     "metadata": {},
     "output_type": "execute_result"
    }
   ],
   "source": [
    "# Train it\n",
    "lr.fit(df_train, y_train)\n",
    "dump(lr, baseline_model_filename)"
   ]
  },
  {
   "cell_type": "markdown",
   "metadata": {},
   "source": [
    "### Evaluate the baseline"
   ]
  },
  {
   "cell_type": "code",
   "execution_count": 58,
   "metadata": {},
   "outputs": [
    {
     "name": "stdout",
     "output_type": "stream",
     "text": [
      "              precision    recall  f1-score   support\n",
      "\n",
      "      female       0.58      0.64      0.61      5000\n",
      "        male       0.60      0.54      0.57      5000\n",
      "\n",
      "    accuracy                           0.59     10000\n",
      "   macro avg       0.59      0.59      0.59     10000\n",
      "weighted avg       0.59      0.59      0.59     10000\n",
      "\n"
     ]
    },
    {
     "data": {
      "image/png": "[encoded data removed]",
      "text/plain": [
       "<Figure size 1080x648 with 2 Axes>"
      ]
     },
     "metadata": {
      "needs_background": "light"
     },
     "output_type": "display_data"
    }
   ],
   "source": [
    "predictions = lr.predict(df_test)\n",
    "print(metrics.classification_report(y_test, predictions))\n",
    "plot_confusion_matrix(targets=y_test, predicted=predictions, labels=['male', 'female'])"
   ]
  },
  {
   "cell_type": "markdown",
   "metadata": {},
   "source": [
    "### Train the main model"
   ]
  },
  {
   "cell_type": "code",
   "execution_count": 79,
   "metadata": {},
   "outputs": [
    {
     "data": {
      "text/plain": [
       "MLPClassifier(activation='relu', alpha=0.0001, batch_size='auto', beta_1=0.9,\n",
       "              beta_2=0.999, early_stopping=True, epsilon=1e-08,\n",
       "              hidden_layer_sizes=(265, 265), learning_rate='constant',\n",
       "              learning_rate_init=0.001, max_iter=100, momentum=0.8,\n",
       "              n_iter_no_change=10, nesterovs_momentum=True, power_t=0.5,\n",
       "              random_state=42, shuffle=True, solver='sgd', tol=0.0001,\n",
       "              validation_fraction=0.2, verbose=False, warm_start=False)"
      ]
     },
     "execution_count": 79,
     "metadata": {},
     "output_type": "execute_result"
    }
   ],
   "source": [
    "# Tune hyperparmeters by sklearn's random search\n",
    "param_distributions =  {'learning_rate_init': uniform(0.0001, 0.1),\n",
    "                       'alpha': uniform(0.00001, 0.1)}\n",
    "\n",
    "mlp = MLPClassifier (hidden_layer_sizes=(df_train.shape[1]+100, df_train.shape[1]+100),\n",
    "                     activation='relu',\n",
    "                     solver='adam', alpha=0.0001, batch_size=1000,\n",
    "                     learning_rate='constant', learning_rate_init=0.001,\n",
    "                     max_iter=100, shuffle=True, random_state=42,\n",
    "                     tol=0.0001, verbose=False, warm_start=False, momentum=0.8,\n",
    "                     early_stopping=True, validation_fraction=0.2,\n",
    "                     beta_1=0.9, beta_2=0.999, epsilon=1e-08, n_iter_no_change=10)\n",
    "# random search trough the hyperparameters\n",
    "clf_search_cv = RandomizedSearchCV(mlp,\n",
    "                                    param_distributions,\n",
    "                                    iid=False,\n",
    "                                    n_iter=5,\n",
    "                                    n_jobs=-1,\n",
    "                                    pre_dispatch='2*n_jobs',\n",
    "                                    cv=3,\n",
    "                                    refit=True,\n",
    "                                    verbose=True, \n",
    "                                    random_state=42,\n",
    "                                    return_train_score=False\n",
    "                                   )\n",
    "\n",
    "clf_search_cv.fit(df_train.iloc[:1000],\n",
    "                  y_train[:1000])\n",
    "\n",
    "mlp = clf_search_cv.best_estimator_\n",
    "mlp"
   ]
  },
  {
   "cell_type": "code",
   "execution_count": 99,
   "metadata": {
    "scrolled": true
   },
   "outputs": [
    {
     "name": "stdout",
     "output_type": "stream",
     "text": [
      "Iteration 1, loss = inf\n",
      "Iteration 2, loss = 1.45985505\n",
      "Iteration 3, loss = 0.91413925\n",
      "Iteration 4, loss = 0.81421053\n",
      "Iteration 5, loss = 0.73648870\n",
      "Iteration 6, loss = 0.71769719\n",
      "Iteration 7, loss = 0.69454634\n",
      "Iteration 8, loss = 0.68906839\n",
      "Iteration 9, loss = 0.68500154\n",
      "Iteration 10, loss = 0.68501444\n",
      "Iteration 11, loss = 0.68612881\n",
      "Iteration 12, loss = 0.68162790\n",
      "Iteration 13, loss = 0.68040554\n",
      "Iteration 14, loss = 0.68098456\n",
      "Iteration 15, loss = 0.67958348\n",
      "Iteration 16, loss = 0.67898355\n",
      "Iteration 17, loss = 0.67927563\n",
      "Iteration 18, loss = 0.67839518\n",
      "Iteration 19, loss = 0.68243902\n",
      "Iteration 20, loss = 0.68481113\n",
      "Iteration 21, loss = 0.68393227\n",
      "Iteration 22, loss = 0.68128025\n",
      "Iteration 23, loss = 0.67851573\n",
      "Iteration 24, loss = 0.68161948\n",
      "Iteration 25, loss = 0.67511707\n",
      "Iteration 26, loss = 0.67534065\n",
      "Iteration 27, loss = 0.67491216\n",
      "Iteration 28, loss = 0.67500398\n",
      "Iteration 29, loss = 0.67474791\n",
      "Iteration 30, loss = 0.67549289\n",
      "Iteration 31, loss = 0.67287280\n",
      "Iteration 32, loss = 0.67512007\n",
      "Iteration 33, loss = 0.67499887\n",
      "Iteration 34, loss = 0.68138842\n",
      "Iteration 35, loss = 0.68924541\n",
      "Iteration 36, loss = 0.69412553\n",
      "Iteration 37, loss = 0.68039530\n",
      "Iteration 38, loss = 0.67734292\n",
      "Iteration 39, loss = 0.67428019\n",
      "Iteration 40, loss = 0.67204154\n",
      "Iteration 41, loss = 0.67337146\n",
      "Iteration 42, loss = 0.68018162\n",
      "Iteration 43, loss = 0.67515747\n",
      "Iteration 44, loss = 0.67158956\n",
      "Iteration 45, loss = 0.67396005\n",
      "Iteration 46, loss = 0.67332380\n",
      "Iteration 47, loss = 0.67886591\n",
      "Iteration 48, loss = 0.67186641\n",
      "Iteration 49, loss = 0.67484045\n",
      "Iteration 50, loss = 0.67013474\n",
      "Iteration 51, loss = 0.66957328\n",
      "Iteration 52, loss = 0.67643417\n",
      "Iteration 53, loss = 0.67340085\n",
      "Iteration 54, loss = 0.67048721\n",
      "Iteration 55, loss = 0.66734495\n",
      "Iteration 56, loss = 0.66783698\n",
      "Iteration 57, loss = 0.66974018\n",
      "Iteration 58, loss = 0.66833644\n",
      "Iteration 59, loss = 0.67439515\n",
      "Iteration 60, loss = 0.67532210\n",
      "Iteration 61, loss = 0.67113518\n",
      "Iteration 62, loss = 0.68276824\n",
      "Iteration 63, loss = 0.69368351\n",
      "Iteration 64, loss = 0.69921377\n",
      "Iteration 65, loss = 0.71226032\n",
      "Iteration 66, loss = 0.69027230\n",
      "Training loss did not improve more than tol=0.000100 for 10 consecutive epochs. Stopping.\n"
     ]
    },
    {
     "data": {
      "text/plain": [
       "['TrainedModels/Final.bin']"
      ]
     },
     "execution_count": 99,
     "metadata": {},
     "output_type": "execute_result"
    }
   ],
   "source": [
    "# Train it\n",
    "mlp.verbose = True\n",
    "mlp.fit(df_train, y_train)\n",
    "dump(mlp, final_model_filename)"
   ]
  },
  {
   "cell_type": "markdown",
   "metadata": {},
   "source": [
    "### Evaluate the Final"
   ]
  },
  {
   "cell_type": "code",
   "execution_count": 100,
   "metadata": {},
   "outputs": [
    {
     "name": "stdout",
     "output_type": "stream",
     "text": [
      "              precision    recall  f1-score   support\n",
      "\n",
      "      female       0.58      0.26      0.36      5000\n",
      "        male       0.52      0.81      0.64      5000\n",
      "\n",
      "    accuracy                           0.53     10000\n",
      "   macro avg       0.55      0.53      0.50     10000\n",
      "weighted avg       0.55      0.53      0.50     10000\n",
      "\n"
     ]
    },
    {
     "data": {
      "image/png": "[encoded data removed]",
      "text/plain": [
       "<Figure size 1080x648 with 2 Axes>"
      ]
     },
     "metadata": {
      "needs_background": "light"
     },
     "output_type": "display_data"
    },
    {
     "name": "stdout",
     "output_type": "stream",
     "text": [
      "[[1287 3713]\n",
      " [ 942 4058]]\n"
     ]
    }
   ],
   "source": [
    "predictions = mlp.predict(df_test)\n",
    "print(metrics.classification_report(y_test, predictions))\n",
    "plot_confusion_matrix(targets=y_test, predicted=predictions, labels=np.unique(y_test))\n",
    "print(metrics.confusion_matrix(y_test, predictions))"
   ]
  }
 ],
 "metadata": {
  "kernelspec": {
   "display_name": "Python 3",
   "language": "python",
   "name": "python3"
  },
  "language_info": {
   "codemirror_mode": {
    "name": "ipython",
    "version": 3
   },
   "file_extension": ".py",
   "mimetype": "text/x-python",
   "name": "python",
   "nbconvert_exporter": "python",
   "pygments_lexer": "ipython3",
   "version": "3.7.3"
  }
 },
 "nbformat": 4,
 "nbformat_minor": 2
}
