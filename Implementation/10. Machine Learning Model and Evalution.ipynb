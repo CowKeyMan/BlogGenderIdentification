{
 "cells": [
  {
   "cell_type": "markdown",
   "metadata": {},
   "source": [
    "# 10. Machine Learning Model and Evaluation"
   ]
  },
  {
   "cell_type": "markdown",
   "metadata": {},
   "source": [
    "#### This script trains a baseline and 'main' model on the training data and evaluates them on the test set"
   ]
  },
  {
   "cell_type": "markdown",
   "metadata": {},
   "source": [
    "### Imports"
   ]
  },
  {
   "cell_type": "code",
   "execution_count": 1,
   "metadata": {},
   "outputs": [],
   "source": [
    "import pandas as pd\n",
    "import sklearn\n",
    "import numpy as np\n",
    "from sklearn.linear_model import LogisticRegression\n",
    "from sklearn.neural_network import MLPClassifier\n",
    "from sklearn.svm import SVC\n",
    "from sklearn.model_selection import RandomizedSearchCV\n",
    "from sklearn import metrics\n",
    "from scipy.stats import reciprocal, uniform\n",
    "from joblib import dump, load\n",
    "import seaborn as sns\n",
    "import matplotlib.pyplot as plt"
   ]
  },
  {
   "cell_type": "markdown",
   "metadata": {},
   "source": [
    "### Definitions"
   ]
  },
  {
   "cell_type": "code",
   "execution_count": 2,
   "metadata": {},
   "outputs": [],
   "source": [
    "data_filename = 'data/MachineLearningData.csv'\n",
    "\n",
    "baseline_model_filename = 'TrainedModels/Baseline.bin'\n",
    "final_model_filename = 'TrainedModels/Final.bin'\n",
    "\n",
    "svm_model_filename = 'TrainedModels/SVM.bin'"
   ]
  },
  {
   "cell_type": "markdown",
   "metadata": {},
   "source": [
    "### Defining helper function"
   ]
  },
  {
   "cell_type": "code",
   "execution_count": 3,
   "metadata": {},
   "outputs": [],
   "source": [
    "def plot_confusion_matrix(targets = [], predicted = [], labels = []):\n",
    "    cm = metrics.confusion_matrix(targets, predicted)\n",
    "    cm = cm.astype('float') / cm.sum(axis=1)[:, np.newaxis] # normalize confusion matrix\n",
    "    sns.heatmap(cm, annot=True, fmt='.2f', xticklabels=labels, yticklabels=labels)\n",
    "    plt.ylabel('Actual')\n",
    "    plt.xlabel('Predicted')\n",
    "    plt.rcParams[\"figure.figsize\"] =  [15, 9]\n",
    "    plt.show(block=False)"
   ]
  },
  {
   "cell_type": "markdown",
   "metadata": {},
   "source": [
    "### Load Dataframe"
   ]
  },
  {
   "cell_type": "code",
   "execution_count": 4,
   "metadata": {},
   "outputs": [
    {
     "data": {
      "text/html": [
       "<div>\n",
       "<style scoped>\n",
       "    .dataframe tbody tr th:only-of-type {\n",
       "        vertical-align: middle;\n",
       "    }\n",
       "\n",
       "    .dataframe tbody tr th {\n",
       "        vertical-align: top;\n",
       "    }\n",
       "\n",
       "    .dataframe thead th {\n",
       "        text-align: right;\n",
       "    }\n",
       "</style>\n",
       "<table border=\"1\" class=\"dataframe\">\n",
       "  <thead>\n",
       "    <tr style=\"text-align: right;\">\n",
       "      <th></th>\n",
       "      <th>PostID</th>\n",
       "      <th>WordCount</th>\n",
       "      <th>SentenceCount</th>\n",
       "      <th>AvgWordLength</th>\n",
       "      <th>AvgSentenceLength</th>\n",
       "      <th>UniqueWordsPercentage</th>\n",
       "      <th>URLCount</th>\n",
       "      <th>ableWords</th>\n",
       "      <th>alWords</th>\n",
       "      <th>fulWords</th>\n",
       "      <th>...</th>\n",
       "      <th>fw_by</th>\n",
       "      <th>fw_these</th>\n",
       "      <th>fw_second</th>\n",
       "      <th>fw_do</th>\n",
       "      <th>fw_shall</th>\n",
       "      <th>fw_of</th>\n",
       "      <th>fw_most</th>\n",
       "      <th>fw_mine</th>\n",
       "      <th>fw_under</th>\n",
       "      <th>fw_even</th>\n",
       "    </tr>\n",
       "  </thead>\n",
       "  <tbody>\n",
       "    <tr>\n",
       "      <td>0</td>\n",
       "      <td>81689.0</td>\n",
       "      <td>95</td>\n",
       "      <td>4</td>\n",
       "      <td>3.578947</td>\n",
       "      <td>23.750000</td>\n",
       "      <td>0.673684</td>\n",
       "      <td>0.000000</td>\n",
       "      <td>0.000000</td>\n",
       "      <td>0.010526</td>\n",
       "      <td>0.000000</td>\n",
       "      <td>...</td>\n",
       "      <td>0.000000</td>\n",
       "      <td>0.0</td>\n",
       "      <td>0.0</td>\n",
       "      <td>0.009804</td>\n",
       "      <td>0.0</td>\n",
       "      <td>0.000000</td>\n",
       "      <td>0.0</td>\n",
       "      <td>0.0</td>\n",
       "      <td>0.0</td>\n",
       "      <td>0.0</td>\n",
       "    </tr>\n",
       "    <tr>\n",
       "      <td>1</td>\n",
       "      <td>44109.0</td>\n",
       "      <td>232</td>\n",
       "      <td>20</td>\n",
       "      <td>4.047414</td>\n",
       "      <td>11.600000</td>\n",
       "      <td>0.599138</td>\n",
       "      <td>0.000000</td>\n",
       "      <td>0.000000</td>\n",
       "      <td>0.008621</td>\n",
       "      <td>0.000000</td>\n",
       "      <td>...</td>\n",
       "      <td>0.000000</td>\n",
       "      <td>0.0</td>\n",
       "      <td>0.0</td>\n",
       "      <td>0.000000</td>\n",
       "      <td>0.0</td>\n",
       "      <td>0.000000</td>\n",
       "      <td>0.0</td>\n",
       "      <td>0.0</td>\n",
       "      <td>0.0</td>\n",
       "      <td>0.0</td>\n",
       "    </tr>\n",
       "    <tr>\n",
       "      <td>2</td>\n",
       "      <td>415514.0</td>\n",
       "      <td>179</td>\n",
       "      <td>11</td>\n",
       "      <td>4.050279</td>\n",
       "      <td>16.272727</td>\n",
       "      <td>0.659218</td>\n",
       "      <td>0.000000</td>\n",
       "      <td>0.000000</td>\n",
       "      <td>0.005587</td>\n",
       "      <td>0.000000</td>\n",
       "      <td>...</td>\n",
       "      <td>0.000000</td>\n",
       "      <td>0.0</td>\n",
       "      <td>0.0</td>\n",
       "      <td>0.000000</td>\n",
       "      <td>0.0</td>\n",
       "      <td>0.014851</td>\n",
       "      <td>0.0</td>\n",
       "      <td>0.0</td>\n",
       "      <td>0.0</td>\n",
       "      <td>0.0</td>\n",
       "    </tr>\n",
       "    <tr>\n",
       "      <td>3</td>\n",
       "      <td>668957.0</td>\n",
       "      <td>246</td>\n",
       "      <td>21</td>\n",
       "      <td>4.174797</td>\n",
       "      <td>11.714286</td>\n",
       "      <td>0.626016</td>\n",
       "      <td>0.000000</td>\n",
       "      <td>0.000000</td>\n",
       "      <td>0.004065</td>\n",
       "      <td>0.012195</td>\n",
       "      <td>...</td>\n",
       "      <td>0.000000</td>\n",
       "      <td>0.0</td>\n",
       "      <td>0.0</td>\n",
       "      <td>0.000000</td>\n",
       "      <td>0.0</td>\n",
       "      <td>0.010563</td>\n",
       "      <td>0.0</td>\n",
       "      <td>0.0</td>\n",
       "      <td>0.0</td>\n",
       "      <td>0.0</td>\n",
       "    </tr>\n",
       "    <tr>\n",
       "      <td>4</td>\n",
       "      <td>42325.0</td>\n",
       "      <td>112</td>\n",
       "      <td>5</td>\n",
       "      <td>4.339286</td>\n",
       "      <td>22.400000</td>\n",
       "      <td>0.598214</td>\n",
       "      <td>0.000000</td>\n",
       "      <td>0.000000</td>\n",
       "      <td>0.000000</td>\n",
       "      <td>0.000000</td>\n",
       "      <td>...</td>\n",
       "      <td>0.000000</td>\n",
       "      <td>0.0</td>\n",
       "      <td>0.0</td>\n",
       "      <td>0.008197</td>\n",
       "      <td>0.0</td>\n",
       "      <td>0.016393</td>\n",
       "      <td>0.0</td>\n",
       "      <td>0.0</td>\n",
       "      <td>0.0</td>\n",
       "      <td>0.0</td>\n",
       "    </tr>\n",
       "    <tr>\n",
       "      <td>...</td>\n",
       "      <td>...</td>\n",
       "      <td>...</td>\n",
       "      <td>...</td>\n",
       "      <td>...</td>\n",
       "      <td>...</td>\n",
       "      <td>...</td>\n",
       "      <td>...</td>\n",
       "      <td>...</td>\n",
       "      <td>...</td>\n",
       "      <td>...</td>\n",
       "      <td>...</td>\n",
       "      <td>...</td>\n",
       "      <td>...</td>\n",
       "      <td>...</td>\n",
       "      <td>...</td>\n",
       "      <td>...</td>\n",
       "      <td>...</td>\n",
       "      <td>...</td>\n",
       "      <td>...</td>\n",
       "      <td>...</td>\n",
       "      <td>...</td>\n",
       "    </tr>\n",
       "    <tr>\n",
       "      <td>676308</td>\n",
       "      <td>145149.0</td>\n",
       "      <td>302</td>\n",
       "      <td>15</td>\n",
       "      <td>3.913907</td>\n",
       "      <td>20.133333</td>\n",
       "      <td>0.536424</td>\n",
       "      <td>0.000000</td>\n",
       "      <td>0.003311</td>\n",
       "      <td>0.000000</td>\n",
       "      <td>0.000000</td>\n",
       "      <td>...</td>\n",
       "      <td>0.000000</td>\n",
       "      <td>0.0</td>\n",
       "      <td>0.0</td>\n",
       "      <td>0.003021</td>\n",
       "      <td>0.0</td>\n",
       "      <td>0.012085</td>\n",
       "      <td>0.0</td>\n",
       "      <td>0.0</td>\n",
       "      <td>0.0</td>\n",
       "      <td>0.0</td>\n",
       "    </tr>\n",
       "    <tr>\n",
       "      <td>676309</td>\n",
       "      <td>676161.0</td>\n",
       "      <td>57</td>\n",
       "      <td>5</td>\n",
       "      <td>3.684211</td>\n",
       "      <td>11.400000</td>\n",
       "      <td>0.789474</td>\n",
       "      <td>0.000000</td>\n",
       "      <td>0.000000</td>\n",
       "      <td>0.000000</td>\n",
       "      <td>0.000000</td>\n",
       "      <td>...</td>\n",
       "      <td>0.000000</td>\n",
       "      <td>0.0</td>\n",
       "      <td>0.0</td>\n",
       "      <td>0.000000</td>\n",
       "      <td>0.0</td>\n",
       "      <td>0.000000</td>\n",
       "      <td>0.0</td>\n",
       "      <td>0.0</td>\n",
       "      <td>0.0</td>\n",
       "      <td>0.0</td>\n",
       "    </tr>\n",
       "    <tr>\n",
       "      <td>676310</td>\n",
       "      <td>286971.0</td>\n",
       "      <td>4</td>\n",
       "      <td>1</td>\n",
       "      <td>3.750000</td>\n",
       "      <td>4.000000</td>\n",
       "      <td>1.000000</td>\n",
       "      <td>0.250000</td>\n",
       "      <td>0.000000</td>\n",
       "      <td>0.000000</td>\n",
       "      <td>0.000000</td>\n",
       "      <td>...</td>\n",
       "      <td>0.000000</td>\n",
       "      <td>0.0</td>\n",
       "      <td>0.0</td>\n",
       "      <td>0.000000</td>\n",
       "      <td>0.0</td>\n",
       "      <td>0.000000</td>\n",
       "      <td>0.0</td>\n",
       "      <td>0.0</td>\n",
       "      <td>0.0</td>\n",
       "      <td>0.0</td>\n",
       "    </tr>\n",
       "    <tr>\n",
       "      <td>676311</td>\n",
       "      <td>664190.0</td>\n",
       "      <td>90</td>\n",
       "      <td>10</td>\n",
       "      <td>4.800000</td>\n",
       "      <td>9.000000</td>\n",
       "      <td>0.800000</td>\n",
       "      <td>0.033333</td>\n",
       "      <td>0.000000</td>\n",
       "      <td>0.000000</td>\n",
       "      <td>0.000000</td>\n",
       "      <td>...</td>\n",
       "      <td>0.016529</td>\n",
       "      <td>0.0</td>\n",
       "      <td>0.0</td>\n",
       "      <td>0.000000</td>\n",
       "      <td>0.0</td>\n",
       "      <td>0.000000</td>\n",
       "      <td>0.0</td>\n",
       "      <td>0.0</td>\n",
       "      <td>0.0</td>\n",
       "      <td>0.0</td>\n",
       "    </tr>\n",
       "    <tr>\n",
       "      <td>676312</td>\n",
       "      <td>539392.0</td>\n",
       "      <td>228</td>\n",
       "      <td>1</td>\n",
       "      <td>3.486842</td>\n",
       "      <td>228.000000</td>\n",
       "      <td>0.535088</td>\n",
       "      <td>0.000000</td>\n",
       "      <td>0.000000</td>\n",
       "      <td>0.000000</td>\n",
       "      <td>0.000000</td>\n",
       "      <td>...</td>\n",
       "      <td>0.004348</td>\n",
       "      <td>0.0</td>\n",
       "      <td>0.0</td>\n",
       "      <td>0.013043</td>\n",
       "      <td>0.0</td>\n",
       "      <td>0.004348</td>\n",
       "      <td>0.0</td>\n",
       "      <td>0.0</td>\n",
       "      <td>0.0</td>\n",
       "      <td>0.0</td>\n",
       "    </tr>\n",
       "  </tbody>\n",
       "</table>\n",
       "<p>676313 rows × 168 columns</p>\n",
       "</div>"
      ],
      "text/plain": [
       "          PostID  WordCount  SentenceCount  AvgWordLength  AvgSentenceLength  \\\n",
       "0        81689.0         95              4       3.578947          23.750000   \n",
       "1        44109.0        232             20       4.047414          11.600000   \n",
       "2       415514.0        179             11       4.050279          16.272727   \n",
       "3       668957.0        246             21       4.174797          11.714286   \n",
       "4        42325.0        112              5       4.339286          22.400000   \n",
       "...          ...        ...            ...            ...                ...   \n",
       "676308  145149.0        302             15       3.913907          20.133333   \n",
       "676309  676161.0         57              5       3.684211          11.400000   \n",
       "676310  286971.0          4              1       3.750000           4.000000   \n",
       "676311  664190.0         90             10       4.800000           9.000000   \n",
       "676312  539392.0        228              1       3.486842         228.000000   \n",
       "\n",
       "        UniqueWordsPercentage  URLCount  ableWords   alWords  fulWords  ...  \\\n",
       "0                    0.673684  0.000000   0.000000  0.010526  0.000000  ...   \n",
       "1                    0.599138  0.000000   0.000000  0.008621  0.000000  ...   \n",
       "2                    0.659218  0.000000   0.000000  0.005587  0.000000  ...   \n",
       "3                    0.626016  0.000000   0.000000  0.004065  0.012195  ...   \n",
       "4                    0.598214  0.000000   0.000000  0.000000  0.000000  ...   \n",
       "...                       ...       ...        ...       ...       ...  ...   \n",
       "676308               0.536424  0.000000   0.003311  0.000000  0.000000  ...   \n",
       "676309               0.789474  0.000000   0.000000  0.000000  0.000000  ...   \n",
       "676310               1.000000  0.250000   0.000000  0.000000  0.000000  ...   \n",
       "676311               0.800000  0.033333   0.000000  0.000000  0.000000  ...   \n",
       "676312               0.535088  0.000000   0.000000  0.000000  0.000000  ...   \n",
       "\n",
       "           fw_by  fw_these  fw_second     fw_do  fw_shall     fw_of fw_most  \\\n",
       "0       0.000000       0.0        0.0  0.009804       0.0  0.000000     0.0   \n",
       "1       0.000000       0.0        0.0  0.000000       0.0  0.000000     0.0   \n",
       "2       0.000000       0.0        0.0  0.000000       0.0  0.014851     0.0   \n",
       "3       0.000000       0.0        0.0  0.000000       0.0  0.010563     0.0   \n",
       "4       0.000000       0.0        0.0  0.008197       0.0  0.016393     0.0   \n",
       "...          ...       ...        ...       ...       ...       ...     ...   \n",
       "676308  0.000000       0.0        0.0  0.003021       0.0  0.012085     0.0   \n",
       "676309  0.000000       0.0        0.0  0.000000       0.0  0.000000     0.0   \n",
       "676310  0.000000       0.0        0.0  0.000000       0.0  0.000000     0.0   \n",
       "676311  0.016529       0.0        0.0  0.000000       0.0  0.000000     0.0   \n",
       "676312  0.004348       0.0        0.0  0.013043       0.0  0.004348     0.0   \n",
       "\n",
       "       fw_mine  fw_under  fw_even  \n",
       "0          0.0       0.0      0.0  \n",
       "1          0.0       0.0      0.0  \n",
       "2          0.0       0.0      0.0  \n",
       "3          0.0       0.0      0.0  \n",
       "4          0.0       0.0      0.0  \n",
       "...        ...       ...      ...  \n",
       "676308     0.0       0.0      0.0  \n",
       "676309     0.0       0.0      0.0  \n",
       "676310     0.0       0.0      0.0  \n",
       "676311     0.0       0.0      0.0  \n",
       "676312     0.0       0.0      0.0  \n",
       "\n",
       "[676313 rows x 168 columns]"
      ]
     },
     "execution_count": 4,
     "metadata": {},
     "output_type": "execute_result"
    }
   ],
   "source": [
    "# Note: We call this df_train for memory issues\n",
    "df_train = pd.read_csv(data_filename).dropna()\n",
    "df_train = df_train.sample(frac=1).reset_index(drop=True)\n",
    "df_train"
   ]
  },
  {
   "cell_type": "markdown",
   "metadata": {},
   "source": [
    "### Filter and split into train and test set"
   ]
  },
  {
   "cell_type": "code",
   "execution_count": 5,
   "metadata": {
    "scrolled": true
   },
   "outputs": [],
   "source": [
    "df_test = df_train[ df_train['TrainTest'] == 'test' ]\n",
    "\n",
    "# df_male = df_test[ df_test['Gender'] == 'male' ][:5000]\n",
    "# df_female = df_test[ df_test['Gender'] == 'female' ][:5000]\n",
    "# df_test = df_male.append(df_female, ignore_index=True)\n",
    "\n",
    "y_test = df_test['Gender']\n",
    "df_test = df_test.drop(['TrainTest', 'Gender', 'PostID'], axis=1)\n",
    "\n",
    "df_train = df_train[ df_train['TrainTest'] == 'train' ]\n",
    "\n",
    "# df_male = df_train[ df_train['Gender'] == 'male' ][:5000]\n",
    "# df_female = df_train[ df_train['Gender'] == 'female' ][:5000]\n",
    "# df_train = df_male.append(df_female, ignore_index=True)\n",
    "\n",
    "y_train = df_train['Gender']\n",
    "df_train = df_train.drop(['TrainTest', 'Gender', 'PostID'], axis=1)"
   ]
  },
  {
   "cell_type": "markdown",
   "metadata": {},
   "source": [
    "### Check how many train and test items there are"
   ]
  },
  {
   "cell_type": "code",
   "execution_count": 6,
   "metadata": {},
   "outputs": [
    {
     "name": "stdout",
     "output_type": "stream",
     "text": [
      "Number of TOTAL training examples: 537215\n",
      "Number of MALE training examples: 268572\n",
      "Number of FEMALE training examples: 268643\n",
      "\n",
      "Number of TOTAL testing examples: 139098\n",
      "Number of MALE testing examples: 74300\n",
      "Number of FEMALE testing examples: 64798\n"
     ]
    }
   ],
   "source": [
    "print('Number of TOTAL training examples: {0}'.format(df_train.shape[0]))\n",
    "print('Number of MALE training examples: {0}'.format(np.sum(y_train == 'male' )))\n",
    "print('Number of FEMALE training examples: {0}'.format(np.sum(y_train == 'female')))\n",
    "print()\n",
    "print('Number of TOTAL testing examples: {0}'.format(df_test.shape[0]))\n",
    "print('Number of MALE testing examples: {0}'.format(np.sum(y_test == 'male')))\n",
    "print('Number of FEMALE testing examples: {0}'.format(np.sum(y_test == 'female')))"
   ]
  },
  {
   "cell_type": "markdown",
   "metadata": {},
   "source": [
    "### Train the baseline"
   ]
  },
  {
   "cell_type": "code",
   "execution_count": 7,
   "metadata": {
    "scrolled": true
   },
   "outputs": [
    {
     "name": "stderr",
     "output_type": "stream",
     "text": [
      "[Parallel(n_jobs=-1)]: Using backend LokyBackend with 8 concurrent workers.\n",
      "[Parallel(n_jobs=-1)]: Done   1 out of   1 | elapsed:    4.9s finished\n"
     ]
    },
    {
     "data": {
      "text/plain": [
       "LogisticRegression(C=9.50814306409916, class_weight=None, dual=False,\n",
       "                   fit_intercept=True, intercept_scaling=1, l1_ratio=None,\n",
       "                   max_iter=100, multi_class='auto', n_jobs=-1, penalty='l2',\n",
       "                   random_state=42, solver='newton-cg', tol=0.0001, verbose=1,\n",
       "                   warm_start=False)"
      ]
     },
     "execution_count": 7,
     "metadata": {},
     "output_type": "execute_result"
    }
   ],
   "source": [
    "# Tune hyperparmeters by sklearn's random search\n",
    "param_distributions =  {\"C\": uniform(0.001, 10)}\n",
    "\n",
    "lr = LogisticRegression(penalty='l2', tol=0.0001, C=1.0,\n",
    "                        fit_intercept=True, class_weight=None,\n",
    "                        random_state=42, solver='newton-cg', max_iter=100, multi_class='auto',\n",
    "                        verbose=1, warm_start=False, n_jobs=-1, l1_ratio=None)\n",
    "\n",
    "# random search trough the hyperparameters\n",
    "clf_search_cv = RandomizedSearchCV(lr,\n",
    "                                    param_distributions,\n",
    "                                    iid=False,\n",
    "                                    n_iter=20,\n",
    "                                    n_jobs=2,\n",
    "                                    pre_dispatch='2*n_jobs',\n",
    "                                    cv=5,\n",
    "                                    refit=True,\n",
    "                                    verbose=False, \n",
    "                                    random_state=42,\n",
    "                                    return_train_score=False\n",
    "                                   )\n",
    "\n",
    "clf_search_cv.fit(df_train.iloc[:10000], y_train[:10000])\n",
    "\n",
    "lr = clf_search_cv.best_estimator_\n",
    "lr"
   ]
  },
  {
   "cell_type": "code",
   "execution_count": 8,
   "metadata": {},
   "outputs": [
    {
     "name": "stderr",
     "output_type": "stream",
     "text": [
      "[Parallel(n_jobs=-1)]: Using backend LokyBackend with 8 concurrent workers.\n",
      "[Parallel(n_jobs=-1)]: Done   1 out of   1 | elapsed: 32.2min finished\n"
     ]
    },
    {
     "data": {
      "text/plain": [
       "['TrainedModels/Baseline.bin']"
      ]
     },
     "execution_count": 8,
     "metadata": {},
     "output_type": "execute_result"
    }
   ],
   "source": [
    "# Train it\n",
    "lr.fit(df_train, y_train)\n",
    "dump(lr, baseline_model_filename)"
   ]
  },
  {
   "cell_type": "markdown",
   "metadata": {},
   "source": [
    "### Evaluate the baseline"
   ]
  },
  {
   "cell_type": "code",
   "execution_count": 9,
   "metadata": {},
   "outputs": [
    {
     "name": "stdout",
     "output_type": "stream",
     "text": [
      "              precision    recall  f1-score   support\n",
      "\n",
      "      female       0.58      0.57      0.57     64798\n",
      "        male       0.63      0.64      0.63     74300\n",
      "\n",
      "    accuracy                           0.60    139098\n",
      "   macro avg       0.60      0.60      0.60    139098\n",
      "weighted avg       0.60      0.60      0.60    139098\n",
      "\n"
     ]
    },
    {
     "data": {
      "image/png": "[encoded data removed]",
      "text/plain": [
       "<Figure size 432x288 with 2 Axes>"
      ]
     },
     "metadata": {
      "needs_background": "light"
     },
     "output_type": "display_data"
    }
   ],
   "source": [
    "lr = load(baseline_model_filename)\n",
    "predictions = lr.predict(df_test)\n",
    "print(metrics.classification_report(y_test, predictions))\n",
    "plot_confusion_matrix(targets=y_test, predicted=predictions, labels=['male', 'female'])\n",
    "print(metrics.confusion_matrix(y_test, predictions))"
   ]
  },
  {
   "cell_type": "markdown",
   "metadata": {},
   "source": [
    "### Train the main model"
   ]
  },
  {
   "cell_type": "code",
   "execution_count": 7,
   "metadata": {},
   "outputs": [
    {
     "name": "stdout",
     "output_type": "stream",
     "text": [
      "Fitting 3 folds for each of 5 candidates, totalling 15 fits\n"
     ]
    },
    {
     "name": "stderr",
     "output_type": "stream",
     "text": [
      "[Parallel(n_jobs=-1)]: Using backend LokyBackend with 8 concurrent workers.\n",
      "[Parallel(n_jobs=-1)]: Done  15 out of  15 | elapsed:   56.0s finished\n",
      "/home/danielcauchi/miniconda3/envs/nlp/lib/python3.7/site-packages/sklearn/neural_network/multilayer_perceptron.py:350: UserWarning: Got `batch_size` less than 1 or larger than sample size. It is going to be clipped\n",
      "  warnings.warn(\"Got `batch_size` less than 1 or larger than \"\n"
     ]
    },
    {
     "data": {
      "text/plain": [
       "MLPClassifier(activation='relu', alpha=0.060121501174320885, batch_size=10000,\n",
       "              beta_1=0.9, beta_2=0.999, early_stopping=True, epsilon=1e-08,\n",
       "              hidden_layer_sizes=(265,), learning_rate='constant',\n",
       "              learning_rate_init=0.07090725777960455, max_iter=100,\n",
       "              momentum=0.8, n_iter_no_change=10, nesterovs_momentum=True,\n",
       "              power_t=0.5, random_state=42, shuffle=True, solver='adam',\n",
       "              tol=0.0001, validation_fraction=0.2, verbose=False,\n",
       "              warm_start=False)"
      ]
     },
     "execution_count": 7,
     "metadata": {},
     "output_type": "execute_result"
    }
   ],
   "source": [
    "# Tune hyperparmeters by sklearn's random search\n",
    "param_distributions =  {'learning_rate_init': uniform(0.0001, 0.1),\n",
    "                       'alpha': uniform(0.00001, 0.1)}\n",
    "\n",
    "mlp = MLPClassifier (hidden_layer_sizes=(df_train.shape[1]+100, ),\n",
    "                     activation='relu',\n",
    "                     solver='adam', alpha=0.0001, batch_size=10000,\n",
    "                     learning_rate='constant', learning_rate_init=0.001,\n",
    "                     max_iter=100, shuffle=True, random_state=42,\n",
    "                     tol=0.0001, verbose=False, warm_start=False, momentum=0.8,\n",
    "                     early_stopping=True, validation_fraction=0.2,\n",
    "                     beta_1=0.9, beta_2=0.999, epsilon=1e-08, n_iter_no_change=10)\n",
    "# random search trough the hyperparameters\n",
    "clf_search_cv = RandomizedSearchCV(mlp,\n",
    "                                    param_distributions,\n",
    "                                    iid=False,\n",
    "                                    n_iter=30,\n",
    "                                    n_jobs=-1,\n",
    "                                    pre_dispatch='2*n_jobs',\n",
    "                                    cv=3,\n",
    "                                    refit=True,\n",
    "                                    verbose=True, \n",
    "                                    random_state=42,\n",
    "                                    return_train_score=False\n",
    "                                   )\n",
    "\n",
    "clf_search_cv.fit(df_train.iloc[:1000],\n",
    "                  y_train[:1000])\n",
    "\n",
    "mlp = clf_search_cv.best_estimator_\n",
    "mlp"
   ]
  },
  {
   "cell_type": "code",
   "execution_count": 8,
   "metadata": {
    "scrolled": true
   },
   "outputs": [
    {
     "name": "stdout",
     "output_type": "stream",
     "text": [
      "Iteration 1, loss = inf\n",
      "Validation score: 0.499930\n",
      "Iteration 2, loss = inf\n",
      "Validation score: 0.500070\n",
      "Iteration 3, loss = inf\n",
      "Validation score: 0.499930\n",
      "Iteration 4, loss = inf\n",
      "Validation score: 0.499930\n",
      "Iteration 5, loss = inf\n",
      "Validation score: 0.516320\n",
      "Iteration 6, loss = 0.69540682\n",
      "Validation score: 0.499930\n",
      "Iteration 7, loss = 0.69510249\n",
      "Validation score: 0.499921\n",
      "Iteration 8, loss = inf\n",
      "Validation score: 0.502322\n",
      "Iteration 9, loss = 0.69536828\n",
      "Validation score: 0.503811\n",
      "Iteration 10, loss = 0.69467637\n",
      "Validation score: 0.502843\n",
      "Iteration 11, loss = 0.69496794\n",
      "Validation score: 0.505542\n",
      "Iteration 12, loss = 0.69441946\n",
      "Validation score: 0.506380\n",
      "Iteration 13, loss = 0.69424014\n",
      "Validation score: 0.507050\n",
      "Iteration 14, loss = 0.77037609\n",
      "Validation score: 0.511136\n",
      "Iteration 15, loss = inf\n",
      "Validation score: 0.499940\n",
      "Iteration 16, loss = 0.69507440\n",
      "Validation score: 0.499949\n",
      "Iteration 17, loss = 0.69531557\n",
      "Validation score: 0.499921\n",
      "Iteration 18, loss = 0.69484683\n",
      "Validation score: 0.499977\n",
      "Iteration 19, loss = 0.69415566\n",
      "Validation score: 0.499940\n",
      "Iteration 20, loss = inf\n",
      "Validation score: 0.528783\n",
      "Iteration 21, loss = 0.69254272\n",
      "Validation score: 0.537941\n",
      "Iteration 22, loss = 0.69130004\n",
      "Validation score: 0.539551\n",
      "Iteration 23, loss = 0.69027127\n",
      "Validation score: 0.554573\n",
      "Iteration 24, loss = inf\n",
      "Validation score: 0.533325\n",
      "Iteration 25, loss = inf\n",
      "Validation score: 0.560055\n",
      "Iteration 26, loss = inf\n",
      "Validation score: 0.510140\n",
      "Iteration 27, loss = 0.69669124\n",
      "Validation score: 0.508511\n",
      "Iteration 28, loss = 0.69571776\n",
      "Validation score: 0.509870\n",
      "Iteration 29, loss = inf\n",
      "Validation score: 0.510606\n",
      "Iteration 30, loss = inf\n",
      "Validation score: 0.512737\n",
      "Iteration 31, loss = 0.69363435\n",
      "Validation score: 0.499930\n",
      "Iteration 32, loss = 0.69354128\n",
      "Validation score: 0.499930\n",
      "Iteration 33, loss = 0.69345096\n",
      "Validation score: 0.499930\n",
      "Iteration 34, loss = 0.69330091\n",
      "Validation score: 0.518991\n",
      "Iteration 35, loss = 0.69303368\n",
      "Validation score: 0.521625\n",
      "Iteration 36, loss = 0.69266326\n",
      "Validation score: 0.525860\n",
      "Iteration 37, loss = 0.69228536\n",
      "Validation score: 0.529574\n",
      "Iteration 38, loss = 0.69201276\n",
      "Validation score: 0.533092\n",
      "Iteration 39, loss = 0.69155472\n",
      "Validation score: 0.542092\n",
      "Iteration 40, loss = 0.69014494\n",
      "Validation score: 0.541878\n",
      "Iteration 41, loss = 0.68886947\n",
      "Validation score: 0.557579\n",
      "Iteration 42, loss = inf\n",
      "Validation score: 0.531640\n",
      "Iteration 43, loss = inf\n",
      "Validation score: 0.533529\n",
      "Iteration 44, loss = inf\n",
      "Validation score: 0.554852\n",
      "Iteration 45, loss = inf\n",
      "Validation score: 0.568432\n",
      "Iteration 46, loss = inf\n",
      "Validation score: 0.551855\n",
      "Iteration 47, loss = inf\n",
      "Validation score: 0.558687\n",
      "Iteration 48, loss = inf\n",
      "Validation score: 0.511946\n",
      "Iteration 49, loss = 0.69484328\n",
      "Validation score: 0.527191\n",
      "Iteration 50, loss = 0.69302814\n",
      "Validation score: 0.531575\n",
      "Iteration 51, loss = 0.69196055\n",
      "Validation score: 0.530756\n",
      "Iteration 52, loss = 0.69157012\n",
      "Validation score: 0.541645\n",
      "Iteration 53, loss = 0.69036910\n",
      "Validation score: 0.548570\n",
      "Iteration 54, loss = inf\n",
      "Validation score: 0.558975\n",
      "Iteration 55, loss = inf\n",
      "Validation score: 0.561079\n",
      "Iteration 56, loss = inf\n",
      "Validation score: 0.562987\n",
      "Iteration 57, loss = inf\n",
      "Validation score: 0.550310\n",
      "Iteration 58, loss = 0.69410503\n",
      "Validation score: 0.514906\n",
      "Iteration 59, loss = 0.69625562\n",
      "Validation score: 0.521812\n",
      "Iteration 60, loss = inf\n",
      "Validation score: 0.522891\n",
      "Iteration 61, loss = 0.69270309\n",
      "Validation score: 0.522184\n",
      "Iteration 62, loss = 0.69263398\n",
      "Validation score: 0.524418\n",
      "Iteration 63, loss = 0.69269711\n",
      "Validation score: 0.501177\n",
      "Iteration 64, loss = 0.69244553\n",
      "Validation score: 0.525134\n",
      "Iteration 65, loss = 0.69220891\n",
      "Validation score: 0.525683\n",
      "Iteration 66, loss = 0.69200189\n",
      "Validation score: 0.526009\n",
      "Validation score did not improve more than tol=0.000100 for 20 consecutive epochs. Stopping.\n"
     ]
    },
    {
     "data": {
      "text/plain": [
       "['TrainedModels/Final.bin']"
      ]
     },
     "execution_count": 8,
     "metadata": {},
     "output_type": "execute_result"
    }
   ],
   "source": [
    "# Train it\n",
    "mlp.max_iter=300\n",
    "mlp.n_iter_no_change=20\n",
    "mlp.batch_size=100000\n",
    "mlp.verbose = True\n",
    "mlp.fit(df_train, y_train)\n",
    "dump(mlp, final_model_filename)"
   ]
  },
  {
   "cell_type": "markdown",
   "metadata": {},
   "source": [
    "### Evaluate the Final"
   ]
  },
  {
   "cell_type": "code",
   "execution_count": 9,
   "metadata": {},
   "outputs": [
    {
     "name": "stdout",
     "output_type": "stream",
     "text": [
      "              precision    recall  f1-score   support\n",
      "\n",
      "      female       0.53      0.55      0.54     64798\n",
      "        male       0.60      0.58      0.59     74300\n",
      "\n",
      "    accuracy                           0.57    139098\n",
      "   macro avg       0.56      0.57      0.56    139098\n",
      "weighted avg       0.57      0.57      0.57    139098\n",
      "\n"
     ]
    },
    {
     "data": {
      "image/png": "[encoded data removed]",
      "text/plain": [
       "<Figure size 432x288 with 2 Axes>"
      ]
     },
     "metadata": {
      "needs_background": "light"
     },
     "output_type": "display_data"
    },
    {
     "name": "stdout",
     "output_type": "stream",
     "text": [
      "[[35402 29396]\n",
      " [30913 43387]]\n"
     ]
    }
   ],
   "source": [
    "mlp = load(final_model_filename)\n",
    "predictions = mlp.predict(df_test)\n",
    "print(metrics.classification_report(y_test, predictions))\n",
    "plot_confusion_matrix(targets=y_test, predicted=predictions, labels=np.unique(y_test))\n",
    "print(metrics.confusion_matrix(y_test, predictions))"
   ]
  },
  {
   "cell_type": "markdown",
   "metadata": {},
   "source": [
    "### Train another model"
   ]
  },
  {
   "cell_type": "code",
   "execution_count": 10,
   "metadata": {},
   "outputs": [
    {
     "name": "stdout",
     "output_type": "stream",
     "text": [
      "Fitting 3 folds for each of 5 candidates, totalling 15 fits\n"
     ]
    },
    {
     "name": "stderr",
     "output_type": "stream",
     "text": [
      "[Parallel(n_jobs=-1)]: Using backend LokyBackend with 8 concurrent workers.\n",
      "[Parallel(n_jobs=-1)]: Done  15 out of  15 | elapsed:  1.7min finished\n"
     ]
    },
    {
     "data": {
      "text/plain": [
       "SVC(C=2.560186404424365, cache_size=200, class_weight=None, coef0=0.0,\n",
       "    decision_function_shape='ovr', degree=3, gamma=0.002051110418843397,\n",
       "    kernel='rbf', max_iter=-1, probability=False, random_state=None,\n",
       "    shrinking=True, tol=0.001, verbose=False)"
      ]
     },
     "execution_count": 10,
     "metadata": {},
     "output_type": "execute_result"
    }
   ],
   "source": [
    "# Tune hyperparmeters by sklearn's random search\n",
    "param_distributions = {\"gamma\": reciprocal(0.001, 0.1), \"C\": uniform(1, 10)}\n",
    "\n",
    "svm = SVC('rbf')\n",
    "\n",
    "# random search trough the hyperparameters\n",
    "clf_search_cv = RandomizedSearchCV(svm,\n",
    "                                    param_distributions,\n",
    "                                    iid=False,\n",
    "                                    n_iter=30,\n",
    "                                    n_jobs=-1,\n",
    "                                    pre_dispatch='2*n_jobs',\n",
    "                                    cv=3,\n",
    "                                    refit=True,\n",
    "                                    verbose=True, \n",
    "                                    random_state=42,\n",
    "                                    return_train_score=False\n",
    "                                   )\n",
    "\n",
    "clf_search_cv.fit(df_train.iloc[:1000],\n",
    "                  y_train[:1000])\n",
    "\n",
    "svm = clf_search_cv.best_estimator_\n",
    "svm"
   ]
  },
  {
   "cell_type": "code",
   "execution_count": 11,
   "metadata": {},
   "outputs": [
    {
     "name": "stdout",
     "output_type": "stream",
     "text": [
      "[LibSVM]"
     ]
    },
    {
     "name": "stderr",
     "output_type": "stream",
     "text": [
      "/home/danielcauchi/miniconda3/envs/nlp/lib/python3.7/site-packages/sklearn/svm/base.py:241: ConvergenceWarning: Solver terminated early (max_iter=300).  Consider pre-processing your data with StandardScaler or MinMaxScaler.\n",
      "  % self.max_iter, ConvergenceWarning)\n"
     ]
    },
    {
     "data": {
      "text/plain": [
       "['TrainedModels/SVM.bin']"
      ]
     },
     "execution_count": 11,
     "metadata": {},
     "output_type": "execute_result"
    }
   ],
   "source": [
    "# Train it\n",
    "svm.max_iter=1000\n",
    "svm.verbose = True\n",
    "svm.fit(df_train, y_train)\n",
    "dump(svm, svm_model_filename)"
   ]
  },
  {
   "cell_type": "markdown",
   "metadata": {},
   "source": [
    "### Evaluate the Final"
   ]
  },
  {
   "cell_type": "code",
   "execution_count": 12,
   "metadata": {},
   "outputs": [
    {
     "name": "stdout",
     "output_type": "stream",
     "text": [
      "              precision    recall  f1-score   support\n",
      "\n",
      "      female       0.47      0.87      0.61     64798\n",
      "        male       0.56      0.14      0.23     74300\n",
      "\n",
      "    accuracy                           0.48    139098\n",
      "   macro avg       0.52      0.51      0.42    139098\n",
      "weighted avg       0.52      0.48      0.41    139098\n",
      "\n"
     ]
    },
    {
     "data": {
      "image/png": "[encoded data removed]",
      "text/plain": [
       "<Figure size 1080x648 with 2 Axes>"
      ]
     },
     "metadata": {
      "needs_background": "light"
     },
     "output_type": "display_data"
    },
    {
     "name": "stdout",
     "output_type": "stream",
     "text": [
      "[[56476  8322]\n",
      " [63689 10611]]\n"
     ]
    }
   ],
   "source": [
    "svm = load(svm_model_filename)\n",
    "predictions = svm.predict(df_test)\n",
    "print(metrics.classification_report(y_test, predictions))\n",
    "plot_confusion_matrix(targets=y_test, predicted=predictions, labels=np.unique(y_test))\n",
    "print(metrics.confusion_matrix(y_test, predictions))"
   ]
  }
 ],
 "metadata": {
  "kernelspec": {
   "display_name": "Python 3",
   "language": "python",
   "name": "python3"
  },
  "language_info": {
   "codemirror_mode": {
    "name": "ipython",
    "version": 3
   },
   "file_extension": ".py",
   "mimetype": "text/x-python",
   "name": "python",
   "nbconvert_exporter": "python",
   "pygments_lexer": "ipython3",
   "version": "3.7.3"
  }
 },
 "nbformat": 4,
 "nbformat_minor": 2
}
